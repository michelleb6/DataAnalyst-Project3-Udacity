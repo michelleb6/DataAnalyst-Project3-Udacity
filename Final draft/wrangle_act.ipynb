{
 "cells": [
  {
   "cell_type": "markdown",
   "id": "91b05a5e",
   "metadata": {},
   "source": []
  },
  {
   "cell_type": "markdown",
   "id": "76a2531b",
   "metadata": {},
   "source": [
    "## Gathering Data"
   ]
  },
  {
   "cell_type": "code",
   "execution_count": 242,
   "id": "23987f51",
   "metadata": {},
   "outputs": [
    {
     "data": {
      "text/html": [
       "<div>\n",
       "<style scoped>\n",
       "    .dataframe tbody tr th:only-of-type {\n",
       "        vertical-align: middle;\n",
       "    }\n",
       "\n",
       "    .dataframe tbody tr th {\n",
       "        vertical-align: top;\n",
       "    }\n",
       "\n",
       "    .dataframe thead th {\n",
       "        text-align: right;\n",
       "    }\n",
       "</style>\n",
       "<table border=\"1\" class=\"dataframe\">\n",
       "  <thead>\n",
       "    <tr style=\"text-align: right;\">\n",
       "      <th></th>\n",
       "      <th>tweet_id</th>\n",
       "      <th>in_reply_to_status_id</th>\n",
       "      <th>in_reply_to_user_id</th>\n",
       "      <th>timestamp</th>\n",
       "      <th>source</th>\n",
       "      <th>text</th>\n",
       "      <th>retweeted_status_id</th>\n",
       "      <th>retweeted_status_user_id</th>\n",
       "      <th>retweeted_status_timestamp</th>\n",
       "      <th>expanded_urls</th>\n",
       "      <th>rating_numerator</th>\n",
       "      <th>rating_denominator</th>\n",
       "      <th>name</th>\n",
       "      <th>doggo</th>\n",
       "      <th>floofer</th>\n",
       "      <th>pupper</th>\n",
       "      <th>puppo</th>\n",
       "    </tr>\n",
       "  </thead>\n",
       "  <tbody>\n",
       "    <tr>\n",
       "      <th>0</th>\n",
       "      <td>892420643555336193</td>\n",
       "      <td>NaN</td>\n",
       "      <td>NaN</td>\n",
       "      <td>2017-08-01 16:23:56 +0000</td>\n",
       "      <td>&lt;a href=\"http://twitter.com/download/iphone\" r...</td>\n",
       "      <td>This is Phineas. He's a mystical boy. Only eve...</td>\n",
       "      <td>NaN</td>\n",
       "      <td>NaN</td>\n",
       "      <td>NaN</td>\n",
       "      <td>https://twitter.com/dog_rates/status/892420643...</td>\n",
       "      <td>13</td>\n",
       "      <td>10</td>\n",
       "      <td>Phineas</td>\n",
       "      <td>None</td>\n",
       "      <td>None</td>\n",
       "      <td>None</td>\n",
       "      <td>None</td>\n",
       "    </tr>\n",
       "    <tr>\n",
       "      <th>1</th>\n",
       "      <td>892177421306343426</td>\n",
       "      <td>NaN</td>\n",
       "      <td>NaN</td>\n",
       "      <td>2017-08-01 00:17:27 +0000</td>\n",
       "      <td>&lt;a href=\"http://twitter.com/download/iphone\" r...</td>\n",
       "      <td>This is Tilly. She's just checking pup on you....</td>\n",
       "      <td>NaN</td>\n",
       "      <td>NaN</td>\n",
       "      <td>NaN</td>\n",
       "      <td>https://twitter.com/dog_rates/status/892177421...</td>\n",
       "      <td>13</td>\n",
       "      <td>10</td>\n",
       "      <td>Tilly</td>\n",
       "      <td>None</td>\n",
       "      <td>None</td>\n",
       "      <td>None</td>\n",
       "      <td>None</td>\n",
       "    </tr>\n",
       "    <tr>\n",
       "      <th>2</th>\n",
       "      <td>891815181378084864</td>\n",
       "      <td>NaN</td>\n",
       "      <td>NaN</td>\n",
       "      <td>2017-07-31 00:18:03 +0000</td>\n",
       "      <td>&lt;a href=\"http://twitter.com/download/iphone\" r...</td>\n",
       "      <td>This is Archie. He is a rare Norwegian Pouncin...</td>\n",
       "      <td>NaN</td>\n",
       "      <td>NaN</td>\n",
       "      <td>NaN</td>\n",
       "      <td>https://twitter.com/dog_rates/status/891815181...</td>\n",
       "      <td>12</td>\n",
       "      <td>10</td>\n",
       "      <td>Archie</td>\n",
       "      <td>None</td>\n",
       "      <td>None</td>\n",
       "      <td>None</td>\n",
       "      <td>None</td>\n",
       "    </tr>\n",
       "    <tr>\n",
       "      <th>3</th>\n",
       "      <td>891689557279858688</td>\n",
       "      <td>NaN</td>\n",
       "      <td>NaN</td>\n",
       "      <td>2017-07-30 15:58:51 +0000</td>\n",
       "      <td>&lt;a href=\"http://twitter.com/download/iphone\" r...</td>\n",
       "      <td>This is Darla. She commenced a snooze mid meal...</td>\n",
       "      <td>NaN</td>\n",
       "      <td>NaN</td>\n",
       "      <td>NaN</td>\n",
       "      <td>https://twitter.com/dog_rates/status/891689557...</td>\n",
       "      <td>13</td>\n",
       "      <td>10</td>\n",
       "      <td>Darla</td>\n",
       "      <td>None</td>\n",
       "      <td>None</td>\n",
       "      <td>None</td>\n",
       "      <td>None</td>\n",
       "    </tr>\n",
       "    <tr>\n",
       "      <th>4</th>\n",
       "      <td>891327558926688256</td>\n",
       "      <td>NaN</td>\n",
       "      <td>NaN</td>\n",
       "      <td>2017-07-29 16:00:24 +0000</td>\n",
       "      <td>&lt;a href=\"http://twitter.com/download/iphone\" r...</td>\n",
       "      <td>This is Franklin. He would like you to stop ca...</td>\n",
       "      <td>NaN</td>\n",
       "      <td>NaN</td>\n",
       "      <td>NaN</td>\n",
       "      <td>https://twitter.com/dog_rates/status/891327558...</td>\n",
       "      <td>12</td>\n",
       "      <td>10</td>\n",
       "      <td>Franklin</td>\n",
       "      <td>None</td>\n",
       "      <td>None</td>\n",
       "      <td>None</td>\n",
       "      <td>None</td>\n",
       "    </tr>\n",
       "  </tbody>\n",
       "</table>\n",
       "</div>"
      ],
      "text/plain": [
       "             tweet_id  in_reply_to_status_id  in_reply_to_user_id  \\\n",
       "0  892420643555336193                    NaN                  NaN   \n",
       "1  892177421306343426                    NaN                  NaN   \n",
       "2  891815181378084864                    NaN                  NaN   \n",
       "3  891689557279858688                    NaN                  NaN   \n",
       "4  891327558926688256                    NaN                  NaN   \n",
       "\n",
       "                   timestamp  \\\n",
       "0  2017-08-01 16:23:56 +0000   \n",
       "1  2017-08-01 00:17:27 +0000   \n",
       "2  2017-07-31 00:18:03 +0000   \n",
       "3  2017-07-30 15:58:51 +0000   \n",
       "4  2017-07-29 16:00:24 +0000   \n",
       "\n",
       "                                              source  \\\n",
       "0  <a href=\"http://twitter.com/download/iphone\" r...   \n",
       "1  <a href=\"http://twitter.com/download/iphone\" r...   \n",
       "2  <a href=\"http://twitter.com/download/iphone\" r...   \n",
       "3  <a href=\"http://twitter.com/download/iphone\" r...   \n",
       "4  <a href=\"http://twitter.com/download/iphone\" r...   \n",
       "\n",
       "                                                text  retweeted_status_id  \\\n",
       "0  This is Phineas. He's a mystical boy. Only eve...                  NaN   \n",
       "1  This is Tilly. She's just checking pup on you....                  NaN   \n",
       "2  This is Archie. He is a rare Norwegian Pouncin...                  NaN   \n",
       "3  This is Darla. She commenced a snooze mid meal...                  NaN   \n",
       "4  This is Franklin. He would like you to stop ca...                  NaN   \n",
       "\n",
       "   retweeted_status_user_id retweeted_status_timestamp  \\\n",
       "0                       NaN                        NaN   \n",
       "1                       NaN                        NaN   \n",
       "2                       NaN                        NaN   \n",
       "3                       NaN                        NaN   \n",
       "4                       NaN                        NaN   \n",
       "\n",
       "                                       expanded_urls  rating_numerator  \\\n",
       "0  https://twitter.com/dog_rates/status/892420643...                13   \n",
       "1  https://twitter.com/dog_rates/status/892177421...                13   \n",
       "2  https://twitter.com/dog_rates/status/891815181...                12   \n",
       "3  https://twitter.com/dog_rates/status/891689557...                13   \n",
       "4  https://twitter.com/dog_rates/status/891327558...                12   \n",
       "\n",
       "   rating_denominator      name doggo floofer pupper puppo  \n",
       "0                  10   Phineas  None    None   None  None  \n",
       "1                  10     Tilly  None    None   None  None  \n",
       "2                  10    Archie  None    None   None  None  \n",
       "3                  10     Darla  None    None   None  None  \n",
       "4                  10  Franklin  None    None   None  None  "
      ]
     },
     "execution_count": 242,
     "metadata": {},
     "output_type": "execute_result"
    }
   ],
   "source": [
    "import pandas as pd\n",
    "import numpy as np\n",
    "import matplotlib.pyplot as plt\n",
    "\n",
    "#read the 'twitter-archive-enhanced.csv' into a DataFrame\n",
    "df=pd.read_csv('twitter-archive-enhanced.csv')\n",
    "df.head()"
   ]
  },
  {
   "cell_type": "code",
   "execution_count": 2,
   "id": "587519e1",
   "metadata": {},
   "outputs": [],
   "source": [
    "import requests\n",
    "import os\n",
    "url='https://d17h27t6h515a5.cloudfront.net/topher/2017/August/599fd2ad_image-predictions/image-predictions.tsv'\n",
    "response=requests.get(url)\n",
    "with open(os.path.join(url.split('/')[-1]),mode='wb') as file:\n",
    "    file.write(response.content)"
   ]
  },
  {
   "cell_type": "code",
   "execution_count": 3,
   "id": "daaf93d2",
   "metadata": {},
   "outputs": [],
   "source": [
    "image_df=pd.read_csv('image-predictions.tsv',sep='\\t')"
   ]
  },
  {
   "cell_type": "markdown",
   "id": "daf9a284",
   "metadata": {},
   "source": [
    "Ref: https://stackoverflow.com/questions/28384588/twitter-api-get-tweets-with-specific-id"
   ]
  },
  {
   "cell_type": "code",
   "execution_count": 4,
   "id": "d543db65",
   "metadata": {},
   "outputs": [],
   "source": [
    "import tweepy\n",
    "\n",
    "#Load each tweet in the tweet-archive-enhanced file using tweepy api.\n",
    "consumer_key=\"\"\n",
    "consumer_secret=\"\"\n",
    "oauth_token = \"\"\n",
    "oauth_token_secret = \"\"\n",
    "\n",
    "auth = tweepy.OAuthHandler(consumer_key, consumer_secret)\n",
    "auth.set_access_token(oauth_token, oauth_token_secret)\n",
    "api = tweepy.API(auth,wait_on_rate_limit=True)"
   ]
  },
  {
   "cell_type": "code",
   "execution_count": 5,
   "id": "26c5e53d",
   "metadata": {},
   "outputs": [
    {
     "name": "stderr",
     "output_type": "stream",
     "text": [
      "Rate limit reached. Sleeping for: 234\n",
      "Rate limit reached. Sleeping for: 822\n",
      "Rate limit reached. Sleeping for: 822\n",
      "Rate limit reached. Sleeping for: 296\n"
     ]
    }
   ],
   "source": [
    "#Add each tweet to the tweet_json.txt file.\n",
    "import json\n",
    "\n",
    "with open('tweet_json.txt', 'w') as f:\n",
    "    for tweet_id in df['tweet_id']:\n",
    "        try:\n",
    "            tweet = api.get_status(tweet_id, tweet_mode='extended')\n",
    "            json.dump(tweet._json, f)\n",
    "            f.write('\\n')\n",
    "        except Exception as e:\n",
    "            continue"
   ]
  },
  {
   "cell_type": "code",
   "execution_count": 6,
   "id": "19427547",
   "metadata": {},
   "outputs": [],
   "source": [
    "tweet_list = []\n",
    "\n",
    "# Read the .txt file line by line into a list of dictionaries\n",
    "for line in open('tweet_json.txt', 'r'):\n",
    "        twitter_data = json.loads(line)\n",
    "        tweet_list.append({'tweet_id': twitter_data['id_str'],\n",
    "                        'retweet_count': twitter_data['retweet_count'],\n",
    "                        'favorite_count': twitter_data['favorite_count'],\n",
    "                        'followers_count': twitter_data['user']['followers_count']})\n",
    "    \n",
    "# Convert the list of dictionaries to a dataframe\n",
    "twitter_data = pd.DataFrame(tweet_list, columns = ['tweet_id', 'retweet_count', 'favorite_count', 'followers_count'])"
   ]
  },
  {
   "cell_type": "code",
   "execution_count": 7,
   "id": "e926caad",
   "metadata": {},
   "outputs": [
    {
     "data": {
      "text/html": [
       "<div>\n",
       "<style scoped>\n",
       "    .dataframe tbody tr th:only-of-type {\n",
       "        vertical-align: middle;\n",
       "    }\n",
       "\n",
       "    .dataframe tbody tr th {\n",
       "        vertical-align: top;\n",
       "    }\n",
       "\n",
       "    .dataframe thead th {\n",
       "        text-align: right;\n",
       "    }\n",
       "</style>\n",
       "<table border=\"1\" class=\"dataframe\">\n",
       "  <thead>\n",
       "    <tr style=\"text-align: right;\">\n",
       "      <th></th>\n",
       "      <th>tweet_id</th>\n",
       "      <th>retweet_count</th>\n",
       "      <th>favorite_count</th>\n",
       "      <th>followers_count</th>\n",
       "    </tr>\n",
       "  </thead>\n",
       "  <tbody>\n",
       "    <tr>\n",
       "      <th>0</th>\n",
       "      <td>892420643555336193</td>\n",
       "      <td>7051</td>\n",
       "      <td>33905</td>\n",
       "      <td>9245661</td>\n",
       "    </tr>\n",
       "    <tr>\n",
       "      <th>1</th>\n",
       "      <td>892177421306343426</td>\n",
       "      <td>5325</td>\n",
       "      <td>29395</td>\n",
       "      <td>9245661</td>\n",
       "    </tr>\n",
       "    <tr>\n",
       "      <th>2</th>\n",
       "      <td>891815181378084864</td>\n",
       "      <td>3502</td>\n",
       "      <td>22116</td>\n",
       "      <td>9245661</td>\n",
       "    </tr>\n",
       "    <tr>\n",
       "      <th>3</th>\n",
       "      <td>891689557279858688</td>\n",
       "      <td>7258</td>\n",
       "      <td>37038</td>\n",
       "      <td>9245594</td>\n",
       "    </tr>\n",
       "    <tr>\n",
       "      <th>4</th>\n",
       "      <td>891327558926688256</td>\n",
       "      <td>7799</td>\n",
       "      <td>35372</td>\n",
       "      <td>9245661</td>\n",
       "    </tr>\n",
       "  </tbody>\n",
       "</table>\n",
       "</div>"
      ],
      "text/plain": [
       "             tweet_id  retweet_count  favorite_count  followers_count\n",
       "0  892420643555336193           7051           33905          9245661\n",
       "1  892177421306343426           5325           29395          9245661\n",
       "2  891815181378084864           3502           22116          9245661\n",
       "3  891689557279858688           7258           37038          9245594\n",
       "4  891327558926688256           7799           35372          9245661"
      ]
     },
     "execution_count": 7,
     "metadata": {},
     "output_type": "execute_result"
    }
   ],
   "source": [
    "twitter_data.head()"
   ]
  },
  {
   "cell_type": "markdown",
   "id": "c5305422",
   "metadata": {},
   "source": [
    "## Asseccing Data"
   ]
  },
  {
   "cell_type": "code",
   "execution_count": 8,
   "id": "1e248ebc",
   "metadata": {},
   "outputs": [
    {
     "data": {
      "text/html": [
       "<div>\n",
       "<style scoped>\n",
       "    .dataframe tbody tr th:only-of-type {\n",
       "        vertical-align: middle;\n",
       "    }\n",
       "\n",
       "    .dataframe tbody tr th {\n",
       "        vertical-align: top;\n",
       "    }\n",
       "\n",
       "    .dataframe thead th {\n",
       "        text-align: right;\n",
       "    }\n",
       "</style>\n",
       "<table border=\"1\" class=\"dataframe\">\n",
       "  <thead>\n",
       "    <tr style=\"text-align: right;\">\n",
       "      <th></th>\n",
       "      <th>tweet_id</th>\n",
       "      <th>in_reply_to_status_id</th>\n",
       "      <th>in_reply_to_user_id</th>\n",
       "      <th>timestamp</th>\n",
       "      <th>source</th>\n",
       "      <th>text</th>\n",
       "      <th>retweeted_status_id</th>\n",
       "      <th>retweeted_status_user_id</th>\n",
       "      <th>retweeted_status_timestamp</th>\n",
       "      <th>expanded_urls</th>\n",
       "      <th>rating_numerator</th>\n",
       "      <th>rating_denominator</th>\n",
       "      <th>name</th>\n",
       "      <th>doggo</th>\n",
       "      <th>floofer</th>\n",
       "      <th>pupper</th>\n",
       "      <th>puppo</th>\n",
       "    </tr>\n",
       "  </thead>\n",
       "  <tbody>\n",
       "    <tr>\n",
       "      <th>0</th>\n",
       "      <td>892420643555336193</td>\n",
       "      <td>NaN</td>\n",
       "      <td>NaN</td>\n",
       "      <td>2017-08-01 16:23:56 +0000</td>\n",
       "      <td>&lt;a href=\"http://twitter.com/download/iphone\" r...</td>\n",
       "      <td>This is Phineas. He's a mystical boy. Only eve...</td>\n",
       "      <td>NaN</td>\n",
       "      <td>NaN</td>\n",
       "      <td>NaN</td>\n",
       "      <td>https://twitter.com/dog_rates/status/892420643...</td>\n",
       "      <td>13</td>\n",
       "      <td>10</td>\n",
       "      <td>Phineas</td>\n",
       "      <td>None</td>\n",
       "      <td>None</td>\n",
       "      <td>None</td>\n",
       "      <td>None</td>\n",
       "    </tr>\n",
       "    <tr>\n",
       "      <th>1</th>\n",
       "      <td>892177421306343426</td>\n",
       "      <td>NaN</td>\n",
       "      <td>NaN</td>\n",
       "      <td>2017-08-01 00:17:27 +0000</td>\n",
       "      <td>&lt;a href=\"http://twitter.com/download/iphone\" r...</td>\n",
       "      <td>This is Tilly. She's just checking pup on you....</td>\n",
       "      <td>NaN</td>\n",
       "      <td>NaN</td>\n",
       "      <td>NaN</td>\n",
       "      <td>https://twitter.com/dog_rates/status/892177421...</td>\n",
       "      <td>13</td>\n",
       "      <td>10</td>\n",
       "      <td>Tilly</td>\n",
       "      <td>None</td>\n",
       "      <td>None</td>\n",
       "      <td>None</td>\n",
       "      <td>None</td>\n",
       "    </tr>\n",
       "    <tr>\n",
       "      <th>2</th>\n",
       "      <td>891815181378084864</td>\n",
       "      <td>NaN</td>\n",
       "      <td>NaN</td>\n",
       "      <td>2017-07-31 00:18:03 +0000</td>\n",
       "      <td>&lt;a href=\"http://twitter.com/download/iphone\" r...</td>\n",
       "      <td>This is Archie. He is a rare Norwegian Pouncin...</td>\n",
       "      <td>NaN</td>\n",
       "      <td>NaN</td>\n",
       "      <td>NaN</td>\n",
       "      <td>https://twitter.com/dog_rates/status/891815181...</td>\n",
       "      <td>12</td>\n",
       "      <td>10</td>\n",
       "      <td>Archie</td>\n",
       "      <td>None</td>\n",
       "      <td>None</td>\n",
       "      <td>None</td>\n",
       "      <td>None</td>\n",
       "    </tr>\n",
       "    <tr>\n",
       "      <th>3</th>\n",
       "      <td>891689557279858688</td>\n",
       "      <td>NaN</td>\n",
       "      <td>NaN</td>\n",
       "      <td>2017-07-30 15:58:51 +0000</td>\n",
       "      <td>&lt;a href=\"http://twitter.com/download/iphone\" r...</td>\n",
       "      <td>This is Darla. She commenced a snooze mid meal...</td>\n",
       "      <td>NaN</td>\n",
       "      <td>NaN</td>\n",
       "      <td>NaN</td>\n",
       "      <td>https://twitter.com/dog_rates/status/891689557...</td>\n",
       "      <td>13</td>\n",
       "      <td>10</td>\n",
       "      <td>Darla</td>\n",
       "      <td>None</td>\n",
       "      <td>None</td>\n",
       "      <td>None</td>\n",
       "      <td>None</td>\n",
       "    </tr>\n",
       "    <tr>\n",
       "      <th>4</th>\n",
       "      <td>891327558926688256</td>\n",
       "      <td>NaN</td>\n",
       "      <td>NaN</td>\n",
       "      <td>2017-07-29 16:00:24 +0000</td>\n",
       "      <td>&lt;a href=\"http://twitter.com/download/iphone\" r...</td>\n",
       "      <td>This is Franklin. He would like you to stop ca...</td>\n",
       "      <td>NaN</td>\n",
       "      <td>NaN</td>\n",
       "      <td>NaN</td>\n",
       "      <td>https://twitter.com/dog_rates/status/891327558...</td>\n",
       "      <td>12</td>\n",
       "      <td>10</td>\n",
       "      <td>Franklin</td>\n",
       "      <td>None</td>\n",
       "      <td>None</td>\n",
       "      <td>None</td>\n",
       "      <td>None</td>\n",
       "    </tr>\n",
       "    <tr>\n",
       "      <th>5</th>\n",
       "      <td>891087950875897856</td>\n",
       "      <td>NaN</td>\n",
       "      <td>NaN</td>\n",
       "      <td>2017-07-29 00:08:17 +0000</td>\n",
       "      <td>&lt;a href=\"http://twitter.com/download/iphone\" r...</td>\n",
       "      <td>Here we have a majestic great white breaching ...</td>\n",
       "      <td>NaN</td>\n",
       "      <td>NaN</td>\n",
       "      <td>NaN</td>\n",
       "      <td>https://twitter.com/dog_rates/status/891087950...</td>\n",
       "      <td>13</td>\n",
       "      <td>10</td>\n",
       "      <td>None</td>\n",
       "      <td>None</td>\n",
       "      <td>None</td>\n",
       "      <td>None</td>\n",
       "      <td>None</td>\n",
       "    </tr>\n",
       "    <tr>\n",
       "      <th>6</th>\n",
       "      <td>890971913173991426</td>\n",
       "      <td>NaN</td>\n",
       "      <td>NaN</td>\n",
       "      <td>2017-07-28 16:27:12 +0000</td>\n",
       "      <td>&lt;a href=\"http://twitter.com/download/iphone\" r...</td>\n",
       "      <td>Meet Jax. He enjoys ice cream so much he gets ...</td>\n",
       "      <td>NaN</td>\n",
       "      <td>NaN</td>\n",
       "      <td>NaN</td>\n",
       "      <td>https://gofundme.com/ydvmve-surgery-for-jax,ht...</td>\n",
       "      <td>13</td>\n",
       "      <td>10</td>\n",
       "      <td>Jax</td>\n",
       "      <td>None</td>\n",
       "      <td>None</td>\n",
       "      <td>None</td>\n",
       "      <td>None</td>\n",
       "    </tr>\n",
       "    <tr>\n",
       "      <th>7</th>\n",
       "      <td>890729181411237888</td>\n",
       "      <td>NaN</td>\n",
       "      <td>NaN</td>\n",
       "      <td>2017-07-28 00:22:40 +0000</td>\n",
       "      <td>&lt;a href=\"http://twitter.com/download/iphone\" r...</td>\n",
       "      <td>When you watch your owner call another dog a g...</td>\n",
       "      <td>NaN</td>\n",
       "      <td>NaN</td>\n",
       "      <td>NaN</td>\n",
       "      <td>https://twitter.com/dog_rates/status/890729181...</td>\n",
       "      <td>13</td>\n",
       "      <td>10</td>\n",
       "      <td>None</td>\n",
       "      <td>None</td>\n",
       "      <td>None</td>\n",
       "      <td>None</td>\n",
       "      <td>None</td>\n",
       "    </tr>\n",
       "    <tr>\n",
       "      <th>8</th>\n",
       "      <td>890609185150312448</td>\n",
       "      <td>NaN</td>\n",
       "      <td>NaN</td>\n",
       "      <td>2017-07-27 16:25:51 +0000</td>\n",
       "      <td>&lt;a href=\"http://twitter.com/download/iphone\" r...</td>\n",
       "      <td>This is Zoey. She doesn't want to be one of th...</td>\n",
       "      <td>NaN</td>\n",
       "      <td>NaN</td>\n",
       "      <td>NaN</td>\n",
       "      <td>https://twitter.com/dog_rates/status/890609185...</td>\n",
       "      <td>13</td>\n",
       "      <td>10</td>\n",
       "      <td>Zoey</td>\n",
       "      <td>None</td>\n",
       "      <td>None</td>\n",
       "      <td>None</td>\n",
       "      <td>None</td>\n",
       "    </tr>\n",
       "    <tr>\n",
       "      <th>9</th>\n",
       "      <td>890240255349198849</td>\n",
       "      <td>NaN</td>\n",
       "      <td>NaN</td>\n",
       "      <td>2017-07-26 15:59:51 +0000</td>\n",
       "      <td>&lt;a href=\"http://twitter.com/download/iphone\" r...</td>\n",
       "      <td>This is Cassie. She is a college pup. Studying...</td>\n",
       "      <td>NaN</td>\n",
       "      <td>NaN</td>\n",
       "      <td>NaN</td>\n",
       "      <td>https://twitter.com/dog_rates/status/890240255...</td>\n",
       "      <td>14</td>\n",
       "      <td>10</td>\n",
       "      <td>Cassie</td>\n",
       "      <td>doggo</td>\n",
       "      <td>None</td>\n",
       "      <td>None</td>\n",
       "      <td>None</td>\n",
       "    </tr>\n",
       "  </tbody>\n",
       "</table>\n",
       "</div>"
      ],
      "text/plain": [
       "             tweet_id  in_reply_to_status_id  in_reply_to_user_id  \\\n",
       "0  892420643555336193                    NaN                  NaN   \n",
       "1  892177421306343426                    NaN                  NaN   \n",
       "2  891815181378084864                    NaN                  NaN   \n",
       "3  891689557279858688                    NaN                  NaN   \n",
       "4  891327558926688256                    NaN                  NaN   \n",
       "5  891087950875897856                    NaN                  NaN   \n",
       "6  890971913173991426                    NaN                  NaN   \n",
       "7  890729181411237888                    NaN                  NaN   \n",
       "8  890609185150312448                    NaN                  NaN   \n",
       "9  890240255349198849                    NaN                  NaN   \n",
       "\n",
       "                   timestamp  \\\n",
       "0  2017-08-01 16:23:56 +0000   \n",
       "1  2017-08-01 00:17:27 +0000   \n",
       "2  2017-07-31 00:18:03 +0000   \n",
       "3  2017-07-30 15:58:51 +0000   \n",
       "4  2017-07-29 16:00:24 +0000   \n",
       "5  2017-07-29 00:08:17 +0000   \n",
       "6  2017-07-28 16:27:12 +0000   \n",
       "7  2017-07-28 00:22:40 +0000   \n",
       "8  2017-07-27 16:25:51 +0000   \n",
       "9  2017-07-26 15:59:51 +0000   \n",
       "\n",
       "                                              source  \\\n",
       "0  <a href=\"http://twitter.com/download/iphone\" r...   \n",
       "1  <a href=\"http://twitter.com/download/iphone\" r...   \n",
       "2  <a href=\"http://twitter.com/download/iphone\" r...   \n",
       "3  <a href=\"http://twitter.com/download/iphone\" r...   \n",
       "4  <a href=\"http://twitter.com/download/iphone\" r...   \n",
       "5  <a href=\"http://twitter.com/download/iphone\" r...   \n",
       "6  <a href=\"http://twitter.com/download/iphone\" r...   \n",
       "7  <a href=\"http://twitter.com/download/iphone\" r...   \n",
       "8  <a href=\"http://twitter.com/download/iphone\" r...   \n",
       "9  <a href=\"http://twitter.com/download/iphone\" r...   \n",
       "\n",
       "                                                text  retweeted_status_id  \\\n",
       "0  This is Phineas. He's a mystical boy. Only eve...                  NaN   \n",
       "1  This is Tilly. She's just checking pup on you....                  NaN   \n",
       "2  This is Archie. He is a rare Norwegian Pouncin...                  NaN   \n",
       "3  This is Darla. She commenced a snooze mid meal...                  NaN   \n",
       "4  This is Franklin. He would like you to stop ca...                  NaN   \n",
       "5  Here we have a majestic great white breaching ...                  NaN   \n",
       "6  Meet Jax. He enjoys ice cream so much he gets ...                  NaN   \n",
       "7  When you watch your owner call another dog a g...                  NaN   \n",
       "8  This is Zoey. She doesn't want to be one of th...                  NaN   \n",
       "9  This is Cassie. She is a college pup. Studying...                  NaN   \n",
       "\n",
       "   retweeted_status_user_id retweeted_status_timestamp  \\\n",
       "0                       NaN                        NaN   \n",
       "1                       NaN                        NaN   \n",
       "2                       NaN                        NaN   \n",
       "3                       NaN                        NaN   \n",
       "4                       NaN                        NaN   \n",
       "5                       NaN                        NaN   \n",
       "6                       NaN                        NaN   \n",
       "7                       NaN                        NaN   \n",
       "8                       NaN                        NaN   \n",
       "9                       NaN                        NaN   \n",
       "\n",
       "                                       expanded_urls  rating_numerator  \\\n",
       "0  https://twitter.com/dog_rates/status/892420643...                13   \n",
       "1  https://twitter.com/dog_rates/status/892177421...                13   \n",
       "2  https://twitter.com/dog_rates/status/891815181...                12   \n",
       "3  https://twitter.com/dog_rates/status/891689557...                13   \n",
       "4  https://twitter.com/dog_rates/status/891327558...                12   \n",
       "5  https://twitter.com/dog_rates/status/891087950...                13   \n",
       "6  https://gofundme.com/ydvmve-surgery-for-jax,ht...                13   \n",
       "7  https://twitter.com/dog_rates/status/890729181...                13   \n",
       "8  https://twitter.com/dog_rates/status/890609185...                13   \n",
       "9  https://twitter.com/dog_rates/status/890240255...                14   \n",
       "\n",
       "   rating_denominator      name  doggo floofer pupper puppo  \n",
       "0                  10   Phineas   None    None   None  None  \n",
       "1                  10     Tilly   None    None   None  None  \n",
       "2                  10    Archie   None    None   None  None  \n",
       "3                  10     Darla   None    None   None  None  \n",
       "4                  10  Franklin   None    None   None  None  \n",
       "5                  10      None   None    None   None  None  \n",
       "6                  10       Jax   None    None   None  None  \n",
       "7                  10      None   None    None   None  None  \n",
       "8                  10      Zoey   None    None   None  None  \n",
       "9                  10    Cassie  doggo    None   None  None  "
      ]
     },
     "execution_count": 8,
     "metadata": {},
     "output_type": "execute_result"
    }
   ],
   "source": [
    "df.head(10)"
   ]
  },
  {
   "cell_type": "code",
   "execution_count": 9,
   "id": "02ac1910",
   "metadata": {},
   "outputs": [
    {
     "data": {
      "text/html": [
       "<div>\n",
       "<style scoped>\n",
       "    .dataframe tbody tr th:only-of-type {\n",
       "        vertical-align: middle;\n",
       "    }\n",
       "\n",
       "    .dataframe tbody tr th {\n",
       "        vertical-align: top;\n",
       "    }\n",
       "\n",
       "    .dataframe thead th {\n",
       "        text-align: right;\n",
       "    }\n",
       "</style>\n",
       "<table border=\"1\" class=\"dataframe\">\n",
       "  <thead>\n",
       "    <tr style=\"text-align: right;\">\n",
       "      <th></th>\n",
       "      <th>tweet_id</th>\n",
       "      <th>jpg_url</th>\n",
       "      <th>img_num</th>\n",
       "      <th>p1</th>\n",
       "      <th>p1_conf</th>\n",
       "      <th>p1_dog</th>\n",
       "      <th>p2</th>\n",
       "      <th>p2_conf</th>\n",
       "      <th>p2_dog</th>\n",
       "      <th>p3</th>\n",
       "      <th>p3_conf</th>\n",
       "      <th>p3_dog</th>\n",
       "    </tr>\n",
       "  </thead>\n",
       "  <tbody>\n",
       "    <tr>\n",
       "      <th>0</th>\n",
       "      <td>666020888022790149</td>\n",
       "      <td>https://pbs.twimg.com/media/CT4udn0WwAA0aMy.jpg</td>\n",
       "      <td>1</td>\n",
       "      <td>Welsh_springer_spaniel</td>\n",
       "      <td>0.465074</td>\n",
       "      <td>True</td>\n",
       "      <td>collie</td>\n",
       "      <td>0.156665</td>\n",
       "      <td>True</td>\n",
       "      <td>Shetland_sheepdog</td>\n",
       "      <td>0.061428</td>\n",
       "      <td>True</td>\n",
       "    </tr>\n",
       "    <tr>\n",
       "      <th>1</th>\n",
       "      <td>666029285002620928</td>\n",
       "      <td>https://pbs.twimg.com/media/CT42GRgUYAA5iDo.jpg</td>\n",
       "      <td>1</td>\n",
       "      <td>redbone</td>\n",
       "      <td>0.506826</td>\n",
       "      <td>True</td>\n",
       "      <td>miniature_pinscher</td>\n",
       "      <td>0.074192</td>\n",
       "      <td>True</td>\n",
       "      <td>Rhodesian_ridgeback</td>\n",
       "      <td>0.072010</td>\n",
       "      <td>True</td>\n",
       "    </tr>\n",
       "    <tr>\n",
       "      <th>2</th>\n",
       "      <td>666033412701032449</td>\n",
       "      <td>https://pbs.twimg.com/media/CT4521TWwAEvMyu.jpg</td>\n",
       "      <td>1</td>\n",
       "      <td>German_shepherd</td>\n",
       "      <td>0.596461</td>\n",
       "      <td>True</td>\n",
       "      <td>malinois</td>\n",
       "      <td>0.138584</td>\n",
       "      <td>True</td>\n",
       "      <td>bloodhound</td>\n",
       "      <td>0.116197</td>\n",
       "      <td>True</td>\n",
       "    </tr>\n",
       "    <tr>\n",
       "      <th>3</th>\n",
       "      <td>666044226329800704</td>\n",
       "      <td>https://pbs.twimg.com/media/CT5Dr8HUEAA-lEu.jpg</td>\n",
       "      <td>1</td>\n",
       "      <td>Rhodesian_ridgeback</td>\n",
       "      <td>0.408143</td>\n",
       "      <td>True</td>\n",
       "      <td>redbone</td>\n",
       "      <td>0.360687</td>\n",
       "      <td>True</td>\n",
       "      <td>miniature_pinscher</td>\n",
       "      <td>0.222752</td>\n",
       "      <td>True</td>\n",
       "    </tr>\n",
       "    <tr>\n",
       "      <th>4</th>\n",
       "      <td>666049248165822465</td>\n",
       "      <td>https://pbs.twimg.com/media/CT5IQmsXIAAKY4A.jpg</td>\n",
       "      <td>1</td>\n",
       "      <td>miniature_pinscher</td>\n",
       "      <td>0.560311</td>\n",
       "      <td>True</td>\n",
       "      <td>Rottweiler</td>\n",
       "      <td>0.243682</td>\n",
       "      <td>True</td>\n",
       "      <td>Doberman</td>\n",
       "      <td>0.154629</td>\n",
       "      <td>True</td>\n",
       "    </tr>\n",
       "  </tbody>\n",
       "</table>\n",
       "</div>"
      ],
      "text/plain": [
       "             tweet_id                                          jpg_url  \\\n",
       "0  666020888022790149  https://pbs.twimg.com/media/CT4udn0WwAA0aMy.jpg   \n",
       "1  666029285002620928  https://pbs.twimg.com/media/CT42GRgUYAA5iDo.jpg   \n",
       "2  666033412701032449  https://pbs.twimg.com/media/CT4521TWwAEvMyu.jpg   \n",
       "3  666044226329800704  https://pbs.twimg.com/media/CT5Dr8HUEAA-lEu.jpg   \n",
       "4  666049248165822465  https://pbs.twimg.com/media/CT5IQmsXIAAKY4A.jpg   \n",
       "\n",
       "   img_num                      p1   p1_conf  p1_dog                  p2  \\\n",
       "0        1  Welsh_springer_spaniel  0.465074    True              collie   \n",
       "1        1                 redbone  0.506826    True  miniature_pinscher   \n",
       "2        1         German_shepherd  0.596461    True            malinois   \n",
       "3        1     Rhodesian_ridgeback  0.408143    True             redbone   \n",
       "4        1      miniature_pinscher  0.560311    True          Rottweiler   \n",
       "\n",
       "    p2_conf  p2_dog                   p3   p3_conf  p3_dog  \n",
       "0  0.156665    True    Shetland_sheepdog  0.061428    True  \n",
       "1  0.074192    True  Rhodesian_ridgeback  0.072010    True  \n",
       "2  0.138584    True           bloodhound  0.116197    True  \n",
       "3  0.360687    True   miniature_pinscher  0.222752    True  \n",
       "4  0.243682    True             Doberman  0.154629    True  "
      ]
     },
     "execution_count": 9,
     "metadata": {},
     "output_type": "execute_result"
    }
   ],
   "source": [
    "image_df.head()"
   ]
  },
  {
   "cell_type": "code",
   "execution_count": 10,
   "id": "a3bed8ee",
   "metadata": {},
   "outputs": [
    {
     "data": {
      "text/html": [
       "<div>\n",
       "<style scoped>\n",
       "    .dataframe tbody tr th:only-of-type {\n",
       "        vertical-align: middle;\n",
       "    }\n",
       "\n",
       "    .dataframe tbody tr th {\n",
       "        vertical-align: top;\n",
       "    }\n",
       "\n",
       "    .dataframe thead th {\n",
       "        text-align: right;\n",
       "    }\n",
       "</style>\n",
       "<table border=\"1\" class=\"dataframe\">\n",
       "  <thead>\n",
       "    <tr style=\"text-align: right;\">\n",
       "      <th></th>\n",
       "      <th>tweet_id</th>\n",
       "      <th>retweet_count</th>\n",
       "      <th>favorite_count</th>\n",
       "      <th>followers_count</th>\n",
       "    </tr>\n",
       "  </thead>\n",
       "  <tbody>\n",
       "    <tr>\n",
       "      <th>0</th>\n",
       "      <td>892420643555336193</td>\n",
       "      <td>7051</td>\n",
       "      <td>33905</td>\n",
       "      <td>9245661</td>\n",
       "    </tr>\n",
       "    <tr>\n",
       "      <th>1</th>\n",
       "      <td>892177421306343426</td>\n",
       "      <td>5325</td>\n",
       "      <td>29395</td>\n",
       "      <td>9245661</td>\n",
       "    </tr>\n",
       "    <tr>\n",
       "      <th>2</th>\n",
       "      <td>891815181378084864</td>\n",
       "      <td>3502</td>\n",
       "      <td>22116</td>\n",
       "      <td>9245661</td>\n",
       "    </tr>\n",
       "    <tr>\n",
       "      <th>3</th>\n",
       "      <td>891689557279858688</td>\n",
       "      <td>7258</td>\n",
       "      <td>37038</td>\n",
       "      <td>9245594</td>\n",
       "    </tr>\n",
       "    <tr>\n",
       "      <th>4</th>\n",
       "      <td>891327558926688256</td>\n",
       "      <td>7799</td>\n",
       "      <td>35372</td>\n",
       "      <td>9245661</td>\n",
       "    </tr>\n",
       "  </tbody>\n",
       "</table>\n",
       "</div>"
      ],
      "text/plain": [
       "             tweet_id  retweet_count  favorite_count  followers_count\n",
       "0  892420643555336193           7051           33905          9245661\n",
       "1  892177421306343426           5325           29395          9245661\n",
       "2  891815181378084864           3502           22116          9245661\n",
       "3  891689557279858688           7258           37038          9245594\n",
       "4  891327558926688256           7799           35372          9245661"
      ]
     },
     "execution_count": 10,
     "metadata": {},
     "output_type": "execute_result"
    }
   ],
   "source": [
    "twitter_data.head()"
   ]
  },
  {
   "cell_type": "code",
   "execution_count": 11,
   "id": "d221e378",
   "metadata": {},
   "outputs": [
    {
     "data": {
      "text/plain": [
       "(2356, 17)"
      ]
     },
     "execution_count": 11,
     "metadata": {},
     "output_type": "execute_result"
    }
   ],
   "source": [
    "df.shape"
   ]
  },
  {
   "cell_type": "code",
   "execution_count": 12,
   "id": "f536373f",
   "metadata": {},
   "outputs": [
    {
     "data": {
      "text/plain": [
       "(2075, 12)"
      ]
     },
     "execution_count": 12,
     "metadata": {},
     "output_type": "execute_result"
    }
   ],
   "source": [
    "image_df.shape"
   ]
  },
  {
   "cell_type": "code",
   "execution_count": 13,
   "id": "6f0b636f",
   "metadata": {},
   "outputs": [
    {
     "data": {
      "text/plain": [
       "(2327, 4)"
      ]
     },
     "execution_count": 13,
     "metadata": {},
     "output_type": "execute_result"
    }
   ],
   "source": [
    "twitter_data.shape"
   ]
  },
  {
   "cell_type": "code",
   "execution_count": 14,
   "id": "aa936061",
   "metadata": {},
   "outputs": [
    {
     "name": "stdout",
     "output_type": "stream",
     "text": [
      "<class 'pandas.core.frame.DataFrame'>\n",
      "RangeIndex: 2356 entries, 0 to 2355\n",
      "Data columns (total 17 columns):\n",
      " #   Column                      Non-Null Count  Dtype  \n",
      "---  ------                      --------------  -----  \n",
      " 0   tweet_id                    2356 non-null   int64  \n",
      " 1   in_reply_to_status_id       78 non-null     float64\n",
      " 2   in_reply_to_user_id         78 non-null     float64\n",
      " 3   timestamp                   2356 non-null   object \n",
      " 4   source                      2356 non-null   object \n",
      " 5   text                        2356 non-null   object \n",
      " 6   retweeted_status_id         181 non-null    float64\n",
      " 7   retweeted_status_user_id    181 non-null    float64\n",
      " 8   retweeted_status_timestamp  181 non-null    object \n",
      " 9   expanded_urls               2297 non-null   object \n",
      " 10  rating_numerator            2356 non-null   int64  \n",
      " 11  rating_denominator          2356 non-null   int64  \n",
      " 12  name                        2356 non-null   object \n",
      " 13  doggo                       2356 non-null   object \n",
      " 14  floofer                     2356 non-null   object \n",
      " 15  pupper                      2356 non-null   object \n",
      " 16  puppo                       2356 non-null   object \n",
      "dtypes: float64(4), int64(3), object(10)\n",
      "memory usage: 313.0+ KB\n"
     ]
    }
   ],
   "source": [
    "df.info()"
   ]
  },
  {
   "cell_type": "code",
   "execution_count": 17,
   "id": "97ce19da",
   "metadata": {},
   "outputs": [
    {
     "name": "stdout",
     "output_type": "stream",
     "text": [
      "<class 'pandas.core.frame.DataFrame'>\n",
      "RangeIndex: 2075 entries, 0 to 2074\n",
      "Data columns (total 12 columns):\n",
      " #   Column    Non-Null Count  Dtype  \n",
      "---  ------    --------------  -----  \n",
      " 0   tweet_id  2075 non-null   int64  \n",
      " 1   jpg_url   2075 non-null   object \n",
      " 2   img_num   2075 non-null   int64  \n",
      " 3   p1        2075 non-null   object \n",
      " 4   p1_conf   2075 non-null   float64\n",
      " 5   p1_dog    2075 non-null   bool   \n",
      " 6   p2        2075 non-null   object \n",
      " 7   p2_conf   2075 non-null   float64\n",
      " 8   p2_dog    2075 non-null   bool   \n",
      " 9   p3        2075 non-null   object \n",
      " 10  p3_conf   2075 non-null   float64\n",
      " 11  p3_dog    2075 non-null   bool   \n",
      "dtypes: bool(3), float64(3), int64(2), object(4)\n",
      "memory usage: 152.1+ KB\n"
     ]
    }
   ],
   "source": [
    "image_df.info()"
   ]
  },
  {
   "cell_type": "code",
   "execution_count": 18,
   "id": "cd2134db",
   "metadata": {},
   "outputs": [
    {
     "name": "stdout",
     "output_type": "stream",
     "text": [
      "<class 'pandas.core.frame.DataFrame'>\n",
      "RangeIndex: 2327 entries, 0 to 2326\n",
      "Data columns (total 4 columns):\n",
      " #   Column           Non-Null Count  Dtype \n",
      "---  ------           --------------  ----- \n",
      " 0   tweet_id         2327 non-null   object\n",
      " 1   retweet_count    2327 non-null   int64 \n",
      " 2   favorite_count   2327 non-null   int64 \n",
      " 3   followers_count  2327 non-null   int64 \n",
      "dtypes: int64(3), object(1)\n",
      "memory usage: 72.8+ KB\n"
     ]
    }
   ],
   "source": [
    "twitter_data.info()"
   ]
  },
  {
   "cell_type": "code",
   "execution_count": 19,
   "id": "fd53c4a9",
   "metadata": {},
   "outputs": [
    {
     "data": {
      "text/plain": [
       "tweet_id                         0\n",
       "in_reply_to_status_id         2278\n",
       "in_reply_to_user_id           2278\n",
       "timestamp                        0\n",
       "source                           0\n",
       "text                             0\n",
       "retweeted_status_id           2175\n",
       "retweeted_status_user_id      2175\n",
       "retweeted_status_timestamp    2175\n",
       "expanded_urls                   59\n",
       "rating_numerator                 0\n",
       "rating_denominator               0\n",
       "name                             0\n",
       "doggo                            0\n",
       "floofer                          0\n",
       "pupper                           0\n",
       "puppo                            0\n",
       "dtype: int64"
      ]
     },
     "execution_count": 19,
     "metadata": {},
     "output_type": "execute_result"
    }
   ],
   "source": [
    "df.isnull().sum()"
   ]
  },
  {
   "cell_type": "code",
   "execution_count": 20,
   "id": "f0b251f1",
   "metadata": {},
   "outputs": [
    {
     "data": {
      "text/plain": [
       "tweet_id    0\n",
       "jpg_url     0\n",
       "img_num     0\n",
       "p1          0\n",
       "p1_conf     0\n",
       "p1_dog      0\n",
       "p2          0\n",
       "p2_conf     0\n",
       "p2_dog      0\n",
       "p3          0\n",
       "p3_conf     0\n",
       "p3_dog      0\n",
       "dtype: int64"
      ]
     },
     "execution_count": 20,
     "metadata": {},
     "output_type": "execute_result"
    }
   ],
   "source": [
    "image_df.isnull().sum()"
   ]
  },
  {
   "cell_type": "code",
   "execution_count": 21,
   "id": "185443eb",
   "metadata": {},
   "outputs": [
    {
     "data": {
      "text/plain": [
       "tweet_id           0\n",
       "retweet_count      0\n",
       "favorite_count     0\n",
       "followers_count    0\n",
       "dtype: int64"
      ]
     },
     "execution_count": 21,
     "metadata": {},
     "output_type": "execute_result"
    }
   ],
   "source": [
    "twitter_data.isnull().sum()"
   ]
  },
  {
   "cell_type": "code",
   "execution_count": 22,
   "id": "78b41a98",
   "metadata": {},
   "outputs": [
    {
     "data": {
      "text/html": [
       "<div>\n",
       "<style scoped>\n",
       "    .dataframe tbody tr th:only-of-type {\n",
       "        vertical-align: middle;\n",
       "    }\n",
       "\n",
       "    .dataframe tbody tr th {\n",
       "        vertical-align: top;\n",
       "    }\n",
       "\n",
       "    .dataframe thead th {\n",
       "        text-align: right;\n",
       "    }\n",
       "</style>\n",
       "<table border=\"1\" class=\"dataframe\">\n",
       "  <thead>\n",
       "    <tr style=\"text-align: right;\">\n",
       "      <th></th>\n",
       "      <th>tweet_id</th>\n",
       "      <th>in_reply_to_status_id</th>\n",
       "      <th>in_reply_to_user_id</th>\n",
       "      <th>retweeted_status_id</th>\n",
       "      <th>retweeted_status_user_id</th>\n",
       "      <th>rating_numerator</th>\n",
       "      <th>rating_denominator</th>\n",
       "    </tr>\n",
       "  </thead>\n",
       "  <tbody>\n",
       "    <tr>\n",
       "      <th>count</th>\n",
       "      <td>2.356000e+03</td>\n",
       "      <td>7.800000e+01</td>\n",
       "      <td>7.800000e+01</td>\n",
       "      <td>1.810000e+02</td>\n",
       "      <td>1.810000e+02</td>\n",
       "      <td>2356.000000</td>\n",
       "      <td>2356.000000</td>\n",
       "    </tr>\n",
       "    <tr>\n",
       "      <th>mean</th>\n",
       "      <td>7.427716e+17</td>\n",
       "      <td>7.455079e+17</td>\n",
       "      <td>2.014171e+16</td>\n",
       "      <td>7.720400e+17</td>\n",
       "      <td>1.241698e+16</td>\n",
       "      <td>13.126486</td>\n",
       "      <td>10.455433</td>\n",
       "    </tr>\n",
       "    <tr>\n",
       "      <th>std</th>\n",
       "      <td>6.856705e+16</td>\n",
       "      <td>7.582492e+16</td>\n",
       "      <td>1.252797e+17</td>\n",
       "      <td>6.236928e+16</td>\n",
       "      <td>9.599254e+16</td>\n",
       "      <td>45.876648</td>\n",
       "      <td>6.745237</td>\n",
       "    </tr>\n",
       "    <tr>\n",
       "      <th>min</th>\n",
       "      <td>6.660209e+17</td>\n",
       "      <td>6.658147e+17</td>\n",
       "      <td>1.185634e+07</td>\n",
       "      <td>6.661041e+17</td>\n",
       "      <td>7.832140e+05</td>\n",
       "      <td>0.000000</td>\n",
       "      <td>0.000000</td>\n",
       "    </tr>\n",
       "    <tr>\n",
       "      <th>25%</th>\n",
       "      <td>6.783989e+17</td>\n",
       "      <td>6.757419e+17</td>\n",
       "      <td>3.086374e+08</td>\n",
       "      <td>7.186315e+17</td>\n",
       "      <td>4.196984e+09</td>\n",
       "      <td>10.000000</td>\n",
       "      <td>10.000000</td>\n",
       "    </tr>\n",
       "    <tr>\n",
       "      <th>50%</th>\n",
       "      <td>7.196279e+17</td>\n",
       "      <td>7.038708e+17</td>\n",
       "      <td>4.196984e+09</td>\n",
       "      <td>7.804657e+17</td>\n",
       "      <td>4.196984e+09</td>\n",
       "      <td>11.000000</td>\n",
       "      <td>10.000000</td>\n",
       "    </tr>\n",
       "    <tr>\n",
       "      <th>75%</th>\n",
       "      <td>7.993373e+17</td>\n",
       "      <td>8.257804e+17</td>\n",
       "      <td>4.196984e+09</td>\n",
       "      <td>8.203146e+17</td>\n",
       "      <td>4.196984e+09</td>\n",
       "      <td>12.000000</td>\n",
       "      <td>10.000000</td>\n",
       "    </tr>\n",
       "    <tr>\n",
       "      <th>max</th>\n",
       "      <td>8.924206e+17</td>\n",
       "      <td>8.862664e+17</td>\n",
       "      <td>8.405479e+17</td>\n",
       "      <td>8.874740e+17</td>\n",
       "      <td>7.874618e+17</td>\n",
       "      <td>1776.000000</td>\n",
       "      <td>170.000000</td>\n",
       "    </tr>\n",
       "  </tbody>\n",
       "</table>\n",
       "</div>"
      ],
      "text/plain": [
       "           tweet_id  in_reply_to_status_id  in_reply_to_user_id  \\\n",
       "count  2.356000e+03           7.800000e+01         7.800000e+01   \n",
       "mean   7.427716e+17           7.455079e+17         2.014171e+16   \n",
       "std    6.856705e+16           7.582492e+16         1.252797e+17   \n",
       "min    6.660209e+17           6.658147e+17         1.185634e+07   \n",
       "25%    6.783989e+17           6.757419e+17         3.086374e+08   \n",
       "50%    7.196279e+17           7.038708e+17         4.196984e+09   \n",
       "75%    7.993373e+17           8.257804e+17         4.196984e+09   \n",
       "max    8.924206e+17           8.862664e+17         8.405479e+17   \n",
       "\n",
       "       retweeted_status_id  retweeted_status_user_id  rating_numerator  \\\n",
       "count         1.810000e+02              1.810000e+02       2356.000000   \n",
       "mean          7.720400e+17              1.241698e+16         13.126486   \n",
       "std           6.236928e+16              9.599254e+16         45.876648   \n",
       "min           6.661041e+17              7.832140e+05          0.000000   \n",
       "25%           7.186315e+17              4.196984e+09         10.000000   \n",
       "50%           7.804657e+17              4.196984e+09         11.000000   \n",
       "75%           8.203146e+17              4.196984e+09         12.000000   \n",
       "max           8.874740e+17              7.874618e+17       1776.000000   \n",
       "\n",
       "       rating_denominator  \n",
       "count         2356.000000  \n",
       "mean            10.455433  \n",
       "std              6.745237  \n",
       "min              0.000000  \n",
       "25%             10.000000  \n",
       "50%             10.000000  \n",
       "75%             10.000000  \n",
       "max            170.000000  "
      ]
     },
     "execution_count": 22,
     "metadata": {},
     "output_type": "execute_result"
    }
   ],
   "source": [
    "df.describe()"
   ]
  },
  {
   "cell_type": "code",
   "execution_count": 23,
   "id": "6ba24439",
   "metadata": {},
   "outputs": [
    {
     "data": {
      "text/html": [
       "<div>\n",
       "<style scoped>\n",
       "    .dataframe tbody tr th:only-of-type {\n",
       "        vertical-align: middle;\n",
       "    }\n",
       "\n",
       "    .dataframe tbody tr th {\n",
       "        vertical-align: top;\n",
       "    }\n",
       "\n",
       "    .dataframe thead th {\n",
       "        text-align: right;\n",
       "    }\n",
       "</style>\n",
       "<table border=\"1\" class=\"dataframe\">\n",
       "  <thead>\n",
       "    <tr style=\"text-align: right;\">\n",
       "      <th></th>\n",
       "      <th>tweet_id</th>\n",
       "      <th>img_num</th>\n",
       "      <th>p1_conf</th>\n",
       "      <th>p2_conf</th>\n",
       "      <th>p3_conf</th>\n",
       "    </tr>\n",
       "  </thead>\n",
       "  <tbody>\n",
       "    <tr>\n",
       "      <th>count</th>\n",
       "      <td>2.075000e+03</td>\n",
       "      <td>2075.000000</td>\n",
       "      <td>2075.000000</td>\n",
       "      <td>2.075000e+03</td>\n",
       "      <td>2.075000e+03</td>\n",
       "    </tr>\n",
       "    <tr>\n",
       "      <th>mean</th>\n",
       "      <td>7.384514e+17</td>\n",
       "      <td>1.203855</td>\n",
       "      <td>0.594548</td>\n",
       "      <td>1.345886e-01</td>\n",
       "      <td>6.032417e-02</td>\n",
       "    </tr>\n",
       "    <tr>\n",
       "      <th>std</th>\n",
       "      <td>6.785203e+16</td>\n",
       "      <td>0.561875</td>\n",
       "      <td>0.271174</td>\n",
       "      <td>1.006657e-01</td>\n",
       "      <td>5.090593e-02</td>\n",
       "    </tr>\n",
       "    <tr>\n",
       "      <th>min</th>\n",
       "      <td>6.660209e+17</td>\n",
       "      <td>1.000000</td>\n",
       "      <td>0.044333</td>\n",
       "      <td>1.011300e-08</td>\n",
       "      <td>1.740170e-10</td>\n",
       "    </tr>\n",
       "    <tr>\n",
       "      <th>25%</th>\n",
       "      <td>6.764835e+17</td>\n",
       "      <td>1.000000</td>\n",
       "      <td>0.364412</td>\n",
       "      <td>5.388625e-02</td>\n",
       "      <td>1.622240e-02</td>\n",
       "    </tr>\n",
       "    <tr>\n",
       "      <th>50%</th>\n",
       "      <td>7.119988e+17</td>\n",
       "      <td>1.000000</td>\n",
       "      <td>0.588230</td>\n",
       "      <td>1.181810e-01</td>\n",
       "      <td>4.944380e-02</td>\n",
       "    </tr>\n",
       "    <tr>\n",
       "      <th>75%</th>\n",
       "      <td>7.932034e+17</td>\n",
       "      <td>1.000000</td>\n",
       "      <td>0.843855</td>\n",
       "      <td>1.955655e-01</td>\n",
       "      <td>9.180755e-02</td>\n",
       "    </tr>\n",
       "    <tr>\n",
       "      <th>max</th>\n",
       "      <td>8.924206e+17</td>\n",
       "      <td>4.000000</td>\n",
       "      <td>1.000000</td>\n",
       "      <td>4.880140e-01</td>\n",
       "      <td>2.734190e-01</td>\n",
       "    </tr>\n",
       "  </tbody>\n",
       "</table>\n",
       "</div>"
      ],
      "text/plain": [
       "           tweet_id      img_num      p1_conf       p2_conf       p3_conf\n",
       "count  2.075000e+03  2075.000000  2075.000000  2.075000e+03  2.075000e+03\n",
       "mean   7.384514e+17     1.203855     0.594548  1.345886e-01  6.032417e-02\n",
       "std    6.785203e+16     0.561875     0.271174  1.006657e-01  5.090593e-02\n",
       "min    6.660209e+17     1.000000     0.044333  1.011300e-08  1.740170e-10\n",
       "25%    6.764835e+17     1.000000     0.364412  5.388625e-02  1.622240e-02\n",
       "50%    7.119988e+17     1.000000     0.588230  1.181810e-01  4.944380e-02\n",
       "75%    7.932034e+17     1.000000     0.843855  1.955655e-01  9.180755e-02\n",
       "max    8.924206e+17     4.000000     1.000000  4.880140e-01  2.734190e-01"
      ]
     },
     "execution_count": 23,
     "metadata": {},
     "output_type": "execute_result"
    }
   ],
   "source": [
    "image_df.describe()"
   ]
  },
  {
   "cell_type": "code",
   "execution_count": 24,
   "id": "fa42a27c",
   "metadata": {},
   "outputs": [
    {
     "data": {
      "text/html": [
       "<div>\n",
       "<style scoped>\n",
       "    .dataframe tbody tr th:only-of-type {\n",
       "        vertical-align: middle;\n",
       "    }\n",
       "\n",
       "    .dataframe tbody tr th {\n",
       "        vertical-align: top;\n",
       "    }\n",
       "\n",
       "    .dataframe thead th {\n",
       "        text-align: right;\n",
       "    }\n",
       "</style>\n",
       "<table border=\"1\" class=\"dataframe\">\n",
       "  <thead>\n",
       "    <tr style=\"text-align: right;\">\n",
       "      <th></th>\n",
       "      <th>retweet_count</th>\n",
       "      <th>favorite_count</th>\n",
       "      <th>followers_count</th>\n",
       "    </tr>\n",
       "  </thead>\n",
       "  <tbody>\n",
       "    <tr>\n",
       "      <th>count</th>\n",
       "      <td>2327.000000</td>\n",
       "      <td>2327.000000</td>\n",
       "      <td>2.327000e+03</td>\n",
       "    </tr>\n",
       "    <tr>\n",
       "      <th>mean</th>\n",
       "      <td>2484.747744</td>\n",
       "      <td>7072.762785</td>\n",
       "      <td>9.245683e+06</td>\n",
       "    </tr>\n",
       "    <tr>\n",
       "      <th>std</th>\n",
       "      <td>4207.942103</td>\n",
       "      <td>10989.424850</td>\n",
       "      <td>4.466817e+01</td>\n",
       "    </tr>\n",
       "    <tr>\n",
       "      <th>min</th>\n",
       "      <td>1.000000</td>\n",
       "      <td>0.000000</td>\n",
       "      <td>9.245277e+06</td>\n",
       "    </tr>\n",
       "    <tr>\n",
       "      <th>25%</th>\n",
       "      <td>498.000000</td>\n",
       "      <td>1228.000000</td>\n",
       "      <td>9.245672e+06</td>\n",
       "    </tr>\n",
       "    <tr>\n",
       "      <th>50%</th>\n",
       "      <td>1155.000000</td>\n",
       "      <td>3056.000000</td>\n",
       "      <td>9.245691e+06</td>\n",
       "    </tr>\n",
       "    <tr>\n",
       "      <th>75%</th>\n",
       "      <td>2877.500000</td>\n",
       "      <td>8627.500000</td>\n",
       "      <td>9.245696e+06</td>\n",
       "    </tr>\n",
       "    <tr>\n",
       "      <th>max</th>\n",
       "      <td>71132.000000</td>\n",
       "      <td>145274.000000</td>\n",
       "      <td>9.246077e+06</td>\n",
       "    </tr>\n",
       "  </tbody>\n",
       "</table>\n",
       "</div>"
      ],
      "text/plain": [
       "       retweet_count  favorite_count  followers_count\n",
       "count    2327.000000     2327.000000     2.327000e+03\n",
       "mean     2484.747744     7072.762785     9.245683e+06\n",
       "std      4207.942103    10989.424850     4.466817e+01\n",
       "min         1.000000        0.000000     9.245277e+06\n",
       "25%       498.000000     1228.000000     9.245672e+06\n",
       "50%      1155.000000     3056.000000     9.245691e+06\n",
       "75%      2877.500000     8627.500000     9.245696e+06\n",
       "max     71132.000000   145274.000000     9.246077e+06"
      ]
     },
     "execution_count": 24,
     "metadata": {},
     "output_type": "execute_result"
    }
   ],
   "source": [
    "twitter_data.describe()"
   ]
  },
  {
   "cell_type": "code",
   "execution_count": 25,
   "id": "bd2a7443",
   "metadata": {},
   "outputs": [
    {
     "data": {
      "text/plain": [
       "0"
      ]
     },
     "execution_count": 25,
     "metadata": {},
     "output_type": "execute_result"
    }
   ],
   "source": [
    "sum(df.tweet_id.duplicated())"
   ]
  },
  {
   "cell_type": "code",
   "execution_count": 26,
   "id": "0b4e8f6f",
   "metadata": {},
   "outputs": [
    {
     "data": {
      "text/plain": [
       "0"
      ]
     },
     "execution_count": 26,
     "metadata": {},
     "output_type": "execute_result"
    }
   ],
   "source": [
    "sum(image_df.tweet_id.duplicated())"
   ]
  },
  {
   "cell_type": "code",
   "execution_count": 27,
   "id": "00eb3fd3",
   "metadata": {},
   "outputs": [
    {
     "data": {
      "text/plain": [
       "0"
      ]
     },
     "execution_count": 27,
     "metadata": {},
     "output_type": "execute_result"
    }
   ],
   "source": [
    "sum(twitter_data.tweet_id.duplicated())"
   ]
  },
  {
   "cell_type": "code",
   "execution_count": 28,
   "id": "d8d433c8",
   "metadata": {},
   "outputs": [
    {
     "data": {
      "text/plain": [
       "tweet_id                      2356\n",
       "in_reply_to_status_id           77\n",
       "in_reply_to_user_id             31\n",
       "timestamp                     2356\n",
       "source                           4\n",
       "text                          2356\n",
       "retweeted_status_id            181\n",
       "retweeted_status_user_id        25\n",
       "retweeted_status_timestamp     181\n",
       "expanded_urls                 2218\n",
       "rating_numerator                40\n",
       "rating_denominator              18\n",
       "name                           957\n",
       "doggo                            2\n",
       "floofer                          2\n",
       "pupper                           2\n",
       "puppo                            2\n",
       "dtype: int64"
      ]
     },
     "execution_count": 28,
     "metadata": {},
     "output_type": "execute_result"
    }
   ],
   "source": [
    "df.nunique()"
   ]
  },
  {
   "cell_type": "code",
   "execution_count": 29,
   "id": "17c77487",
   "metadata": {},
   "outputs": [
    {
     "data": {
      "text/plain": [
       "tweet_id    2075\n",
       "jpg_url     2009\n",
       "img_num        4\n",
       "p1           378\n",
       "p1_conf     2006\n",
       "p1_dog         2\n",
       "p2           405\n",
       "p2_conf     2004\n",
       "p2_dog         2\n",
       "p3           408\n",
       "p3_conf     2006\n",
       "p3_dog         2\n",
       "dtype: int64"
      ]
     },
     "execution_count": 29,
     "metadata": {},
     "output_type": "execute_result"
    }
   ],
   "source": [
    "image_df.nunique()"
   ]
  },
  {
   "cell_type": "code",
   "execution_count": 30,
   "id": "1e3c1dfa",
   "metadata": {},
   "outputs": [
    {
     "data": {
      "text/plain": [
       "tweet_id           2327\n",
       "retweet_count      1653\n",
       "favorite_count     1961\n",
       "followers_count      30\n",
       "dtype: int64"
      ]
     },
     "execution_count": 30,
     "metadata": {},
     "output_type": "execute_result"
    }
   ],
   "source": [
    "twitter_data.nunique()"
   ]
  },
  {
   "cell_type": "code",
   "execution_count": 31,
   "id": "499c670f",
   "metadata": {},
   "outputs": [
    {
     "data": {
      "text/plain": [
       "array([   0,    1,    2,    3,    4,    5,    6,    7,    8,    9,   10,\n",
       "         11,   12,   13,   14,   15,   17,   20,   24,   26,   27,   44,\n",
       "         45,   50,   60,   75,   80,   84,   88,   99,  121,  143,  144,\n",
       "        165,  182,  204,  420,  666,  960, 1776])"
      ]
     },
     "execution_count": 31,
     "metadata": {},
     "output_type": "execute_result"
    }
   ],
   "source": [
    "np.sort(df.rating_numerator.unique())"
   ]
  },
  {
   "cell_type": "code",
   "execution_count": 32,
   "id": "8de493dd",
   "metadata": {},
   "outputs": [
    {
     "data": {
      "text/plain": [
       "array([  0,   2,   7,  10,  11,  15,  16,  20,  40,  50,  70,  80,  90,\n",
       "       110, 120, 130, 150, 170])"
      ]
     },
     "execution_count": 32,
     "metadata": {},
     "output_type": "execute_result"
    }
   ],
   "source": [
    "np.sort(df.rating_denominator.unique())"
   ]
  },
  {
   "cell_type": "code",
   "execution_count": 44,
   "id": "50500290",
   "metadata": {},
   "outputs": [
    {
     "data": {
      "text/plain": [
       "12      558\n",
       "11      464\n",
       "10      461\n",
       "13      351\n",
       "9       158\n",
       "8       102\n",
       "7        55\n",
       "14       54\n",
       "5        37\n",
       "6        32\n",
       "3        19\n",
       "4        17\n",
       "2         9\n",
       "1         9\n",
       "75        2\n",
       "15        2\n",
       "420       2\n",
       "0         2\n",
       "80        1\n",
       "144       1\n",
       "17        1\n",
       "26        1\n",
       "20        1\n",
       "121       1\n",
       "143       1\n",
       "44        1\n",
       "60        1\n",
       "45        1\n",
       "50        1\n",
       "99        1\n",
       "204       1\n",
       "1776      1\n",
       "165       1\n",
       "666       1\n",
       "27        1\n",
       "182       1\n",
       "24        1\n",
       "960       1\n",
       "84        1\n",
       "88        1\n",
       "Name: rating_numerator, dtype: int64"
      ]
     },
     "execution_count": 44,
     "metadata": {},
     "output_type": "execute_result"
    }
   ],
   "source": [
    "df.rating_numerator.value_counts()"
   ]
  },
  {
   "cell_type": "code",
   "execution_count": 33,
   "id": "1a82a0f4",
   "metadata": {},
   "outputs": [
    {
     "name": "stdout",
     "output_type": "stream",
     "text": [
      "1843    Here we have an entire platoon of puppers. Tot...\n",
      "Name: text, dtype: object\n",
      "433    The floofs have been released I repeat the flo...\n",
      "Name: text, dtype: object\n",
      "313    @jonnysun @Lin_Manuel ok jomny I know you're e...\n",
      "Name: text, dtype: object\n",
      "516    Meet Sam. She smiles 24/7 &amp; secretly aspir...\n",
      "Name: text, dtype: object\n",
      "290    @markhoppus 182/10\n",
      "Name: text, dtype: object\n",
      "763    This is Sophie. She's a Jubilant Bush Pupper. ...\n",
      "Name: text, dtype: object\n",
      "189    @s8n You tried very hard to portray this good ...\n",
      "Name: text, dtype: object\n",
      "902    Why does this never happen at my front door......\n",
      "Name: text, dtype: object\n",
      "979    This is Atticus. He's quite simply America af....\n",
      "Name: text, dtype: object\n",
      "1120    Say hello to this unbelievably well behaved sq...\n",
      "Name: text, dtype: object\n",
      "1228    Happy Saturday here's 9 puppers on a bench. 99...\n",
      "Name: text, dtype: object\n",
      "1202    This is Bluebert. He just saw that both #Final...\n",
      "Name: text, dtype: object\n",
      "1274    From left to right:\\nCletus, Jerome, Alejandro...\n",
      "Name: text, dtype: object\n",
      "1351    Here is a whole flock of puppers.  60/50 I'll ...\n",
      "Name: text, dtype: object\n",
      "1433    Happy Wednesday here's a bucket of pups. 44/40...\n",
      "Name: text, dtype: object\n",
      "1634    Two sneaky puppers were not initially seen, mo...\n",
      "Name: text, dtype: object\n",
      "1635    Someone help the girl is being mugged. Several...\n",
      "Name: text, dtype: object\n",
      "1663    I'm aware that I could've said 20/16, but here...\n",
      "Name: text, dtype: object\n",
      "1712    Here we have uncovered an entire battalion of ...\n",
      "Name: text, dtype: object\n",
      "1779    IT'S PUPPERGEDDON. Total of 144/120 ...I think...\n",
      "Name: text, dtype: object\n",
      "1254    Here's a brigade of puppers. All look very pre...\n",
      "Name: text, dtype: object\n",
      "315     When you're so blinded by your systematic plag...\n",
      "1016    PUPDATE: can't see any. Even if I could, I cou...\n",
      "Name: text, dtype: object\n",
      "188     @dhmontgomery We also gave snoop dogg a 420/10...\n",
      "2074    After so many requests... here you go.\\n\\nGood...\n",
      "Name: text, dtype: object\n",
      "340    RT @dog_rates: This is Logan, the Chow who liv...\n",
      "695    This is Logan, the Chow who lived. He solemnly...\n",
      "Name: text, dtype: object\n"
     ]
    }
   ],
   "source": [
    "#See invalid values. rating_numerator>20\n",
    "print(df.loc[df.rating_numerator == 88, 'text']) \n",
    "print(df.loc[df.rating_numerator == 84, 'text']) \n",
    "print(df.loc[df.rating_numerator == 960, 'text']) \n",
    "print(df.loc[df.rating_numerator == 24, 'text']) \n",
    "print(df.loc[df.rating_numerator == 182, 'text']) \n",
    "print(df.loc[df.rating_numerator == 27, 'text']) \n",
    "print(df.loc[df.rating_numerator == 666, 'text']) \n",
    "print(df.loc[df.rating_numerator == 165, 'text']) \n",
    "print(df.loc[df.rating_numerator == 1776, 'text'])\n",
    "print(df.loc[df.rating_numerator == 204, 'text']) \n",
    "print(df.loc[df.rating_numerator == 99, 'text'])\n",
    "print(df.loc[df.rating_numerator == 50, 'text']) \n",
    "print(df.loc[df.rating_numerator == 45, 'text']) \n",
    "print(df.loc[df.rating_numerator == 60, 'text']) \n",
    "print(df.loc[df.rating_numerator == 44, 'text']) \n",
    "print(df.loc[df.rating_numerator == 143, 'text']) \n",
    "print(df.loc[df.rating_numerator == 121, 'text'])\n",
    "print(df.loc[df.rating_numerator == 20, 'text'])\n",
    "print(df.loc[df.rating_numerator == 26, 'text']) \n",
    "print(df.loc[df.rating_numerator == 144, 'text'])\n",
    "print(df.loc[df.rating_numerator == 80, 'text']) \n",
    "print(df.loc[df.rating_numerator == 0, 'text']) \n",
    "print(df.loc[df.rating_numerator == 420, 'text']) \n",
    "print(df.loc[df.rating_numerator == 75, 'text']) "
   ]
  },
  {
   "cell_type": "code",
   "execution_count": 34,
   "id": "381c5d04",
   "metadata": {},
   "outputs": [
    {
     "name": "stdout",
     "output_type": "stream",
     "text": [
      "1. Here we have an entire platoon of puppers. Total score: 88/80 would pet all at once https://t.co/y93p6FLvVw\n",
      "2. The floofs have been released I repeat the floofs have been released. 84/70 https://t.co/NIYC820tmd\n",
      "3. @jonnysun @Lin_Manuel ok jomny I know you're excited but 960/00 isn't a valid rating, 13/10 is tho\n",
      "4. Meet Sam. She smiles 24/7 &amp; secretly aspires to be a reindeer. \n",
      "Keep Sam smiling by clicking and sharing this link:\n",
      "https://t.co/98tB8y7y7t https://t.co/LouL5vdvxx\n",
      "5. @markhoppus 182/10\n",
      "6. This is Sophie. She's a Jubilant Bush Pupper. Super h*ckin rare. Appears at random just to smile at the locals. 11.27/10 would smile back https://t.co/QFaUiIHxHq\n",
      "7. @s8n You tried very hard to portray this good boy as not so good, but you have ultimately failed. His goodness shines through. 666/10\n",
      "8. Why does this never happen at my front door... 165/150 https://t.co/HmwrdfEfUE\n",
      "9. This is Atticus. He's quite simply America af. 1776/10 https://t.co/GRXwMxLBkh\n",
      "10. Say hello to this unbelievably well behaved squad of doggos. 204/170 would try to pet all at once https://t.co/yGQI3He3xv\n",
      "11. Happy Saturday here's 9 puppers on a bench. 99/90 good work everybody https://t.co/mpvaVxKmc1\n",
      "12. This is Bluebert. He just saw that both #FinalFur match ups are split 50/50. Amazed af. 11/10 https://t.co/Kky1DPG4iq\n",
      "13. From left to right:\n",
      "Cletus, Jerome, Alejandro, Burp, &amp; Titson\n",
      "None know where camera is. 45/50 would hug all at once https://t.co/sedre1ivTK\n",
      "14. Here is a whole flock of puppers.  60/50 I'll take the lot https://t.co/9dpcw6MdWa\n",
      "15. Happy Wednesday here's a bucket of pups. 44/40 would pet all at once https://t.co/HppvrYuamZ\n",
      "16. Two sneaky puppers were not initially seen, moving the rating to 143/130. Please forgive us. Thank you https://t.co/kRK51Y5ac3\n",
      "17. Someone help the girl is being mugged. Several are distracting her while two steal her shoes. Clever puppers 121/110 https://t.co/1zfnTJLt55\n",
      "18. I'm aware that I could've said 20/16, but here at WeRateDogs we are very professional. An inconsistent rating scale is simply irresponsible\n",
      "19. Here we have uncovered an entire battalion of holiday puppers. Average of 11.26/10 https://t.co/eNm2S6p9BD\n",
      "20. IT'S PUPPERGEDDON. Total of 144/120 ...I think https://t.co/ZanVtAtvIq\n",
      "21. Here's a brigade of puppers. All look very prepared for whatever happens next. 80/80 https://t.co/0eb7R1Om12\n",
      "22. When you're so blinded by your systematic plagiarism that you forget what day it is. 0/10 https://t.co/YbEJPkg4Ag\n",
      "23. PUPDATE: can't see any. Even if I could, I couldn't reach them to pet. 0/10 much disappointment https://t.co/c7WXaB2nqX\n",
      "24. @dhmontgomery We also gave snoop dogg a 420/10 but I think that predated your research\n",
      "25. After so many requests... here you go.\n",
      "\n",
      "Good dogg. 420/10 https://t.co/yfAAo1gdeY\n",
      "26. RT @dog_rates: This is Logan, the Chow who lived. He solemnly swears he's up to lots of good. H*ckin magical af 9.75/10 https://t.co/yBO5wu…\n",
      "27. This is Logan, the Chow who lived. He solemnly swears he's up to lots of good. H*ckin magical af 9.75/10 https://t.co/yBO5wuqaPS\n"
     ]
    }
   ],
   "source": [
    "#See full text\n",
    "print(\"1. \" +df['text'][1843]) #88/80=11/10. \n",
    "print(\"2. \" +df['text'][433]) #84/70=12/10. \n",
    "print(\"3. \" +df['text'][313]) #No photo. This is a reply tweet so delete this one.\n",
    "print(\"4. \" +df['text'][516]) #This is not a rating tweet. Delete this.\n",
    "print(\"5. \" +df['text'][290]) #This is a reply tweet. No photo so delete this one.\n",
    "print(\"6. \" +df['text'][763]) #It was stored as 27 but actual rating was 11.27/10. Change rating_numerator to 11.27.\n",
    "print(\"7. \" +df['text'][189]) #No photo. This is a reply tweet so delete this one.\n",
    "print(\"8. \" +df['text'][902]) #165/150=11/10. \n",
    "print(\"9. \" +df['text'][979]) #Happy July 4th tweet. This is an invalid rating so delete this one.\n",
    "print(\"10. \" +df['text'][1120]) #204/107=12/10.\n",
    "print(\"11. \" +df['text'][1228]) #99/90=11/10.\n",
    "print(\"12. \" +df['text'][1202]) #Actual rating is 11/10.\n",
    "print(\"13. \" +df['text'][1274]) #45/50=9/10\n",
    "print(\"14. \" +df['text'][1351]) #60/50=12/10\n",
    "print(\"15. \" +df['text'][1433]) #44/40=11/10\n",
    "print(\"16. \" +df['text'][1634]) #143/130=11/10.\n",
    "print(\"17. \" +df['text'][1635]) #121/110=11/10.\n",
    "print(\"18. \" +df['text'][1663]) #No photo. Delete this one.\n",
    "print(\"19. \" +df['text'][1712]) #It was stored 26 but actual rating is 11.26/10. Change rating_numerator to 11.26.\n",
    "print(\"20. \" +df['text'][1779]) #144/120=12/10.\n",
    "print(\"21. \" +df['text'][1254]) #80/80=10/10.\n",
    "print(\"22. \" +df['text'][315]) #Report of plagiarism. Delete this one.\n",
    "print(\"23. \" +df['text'][1016]) #Not a dog photo. Delete this one.\n",
    "print(\"24. \" +df['text'][188]) #No photo. This is a reply tweet so delete this one.\n",
    "print(\"25. \" +df['text'][2074]) #Not a dog photo. Delete this one.\n",
    "print(\"26. \" +df['text'][340]) #Stored as 75 but actual rating is 9.75/10. Change rating_numerator to 9.75.\n",
    "print(\"27. \" +df['text'][695]) #Stored as 75 but actual rating is 9.75/10. Change rating_numerator to 9.75."
   ]
  },
  {
   "cell_type": "code",
   "execution_count": 35,
   "id": "b701938c",
   "metadata": {},
   "outputs": [
    {
     "data": {
      "text/plain": [
       "10     2333\n",
       "11        3\n",
       "50        3\n",
       "20        2\n",
       "80        2\n",
       "70        1\n",
       "7         1\n",
       "15        1\n",
       "150       1\n",
       "170       1\n",
       "0         1\n",
       "90        1\n",
       "40        1\n",
       "130       1\n",
       "110       1\n",
       "16        1\n",
       "120       1\n",
       "2         1\n",
       "Name: rating_denominator, dtype: int64"
      ]
     },
     "execution_count": 35,
     "metadata": {},
     "output_type": "execute_result"
    }
   ],
   "source": [
    "df.rating_denominator.value_counts()"
   ]
  },
  {
   "cell_type": "code",
   "execution_count": 36,
   "id": "22142f4a",
   "metadata": {},
   "outputs": [
    {
     "name": "stdout",
     "output_type": "stream",
     "text": [
      "784     RT @dog_rates: After so many requests, this is...\n",
      "1068    After so many requests, this is Bretagne. She ...\n",
      "1662    This is Darrel. He just robbed a 7/11 and is i...\n",
      "Name: text, dtype: object\n",
      "1202    This is Bluebert. He just saw that both #Final...\n",
      "1274    From left to right:\\nCletus, Jerome, Alejandro...\n",
      "1351    Here is a whole flock of puppers.  60/50 I'll ...\n",
      "Name: text, dtype: object\n",
      "1165    Happy 4/20 from the squad! 13/10 for all https...\n",
      "1598    Yes I do realize a rating of 4/20 would've bee...\n",
      "Name: text, dtype: object\n",
      "1254    Here's a brigade of puppers. All look very pre...\n",
      "1843    Here we have an entire platoon of puppers. Tot...\n",
      "Name: text, dtype: object\n",
      "433    The floofs have been released I repeat the flo...\n",
      "Name: text, dtype: object\n",
      "516    Meet Sam. She smiles 24/7 &amp; secretly aspir...\n",
      "Name: text, dtype: object\n",
      "342    @docmisterio account started on 11/15/15\n",
      "Name: text, dtype: object\n",
      "902    Why does this never happen at my front door......\n",
      "Name: text, dtype: object\n",
      "1120    Say hello to this unbelievably well behaved sq...\n",
      "Name: text, dtype: object\n",
      "313    @jonnysun @Lin_Manuel ok jomny I know you're e...\n",
      "Name: text, dtype: object\n",
      "1228    Happy Saturday here's 9 puppers on a bench. 99...\n",
      "Name: text, dtype: object\n",
      "1433    Happy Wednesday here's a bucket of pups. 44/40...\n",
      "Name: text, dtype: object\n",
      "1634    Two sneaky puppers were not initially seen, mo...\n",
      "Name: text, dtype: object\n",
      "1635    Someone help the girl is being mugged. Several...\n",
      "Name: text, dtype: object\n",
      "1663    I'm aware that I could've said 20/16, but here...\n",
      "Name: text, dtype: object\n",
      "1779    IT'S PUPPERGEDDON. Total of 144/120 ...I think...\n",
      "Name: text, dtype: object\n",
      "2335    This is an Albanian 3 1/2 legged  Episcopalian...\n",
      "Name: text, dtype: object\n"
     ]
    }
   ],
   "source": [
    "#Print invalid denominator. rating_denominator!=10\n",
    "print(df.loc[df.rating_denominator == 11, 'text'])\n",
    "print(df.loc[df.rating_denominator == 50, 'text'])\n",
    "print(df.loc[df.rating_denominator == 20, 'text']) \n",
    "print(df.loc[df.rating_denominator == 80, 'text'])\n",
    "print(df.loc[df.rating_denominator == 70, 'text'])\n",
    "print(df.loc[df.rating_denominator == 7, 'text'])\n",
    "print(df.loc[df.rating_denominator == 15, 'text'])\n",
    "print(df.loc[df.rating_denominator == 150, 'text'])\n",
    "print(df.loc[df.rating_denominator == 170, 'text'])\n",
    "print(df.loc[df.rating_denominator == 0, 'text'])\n",
    "print(df.loc[df.rating_denominator == 90, 'text'])\n",
    "print(df.loc[df.rating_denominator == 40, 'text'])\n",
    "print(df.loc[df.rating_denominator == 130, 'text'])\n",
    "print(df.loc[df.rating_denominator == 110, 'text'])\n",
    "print(df.loc[df.rating_denominator == 16, 'text']) \n",
    "print(df.loc[df.rating_denominator == 120, 'text'])\n",
    "print(df.loc[df.rating_denominator == 2, 'text'])"
   ]
  },
  {
   "cell_type": "code",
   "execution_count": 37,
   "id": "30231d44",
   "metadata": {},
   "outputs": [
    {
     "name": "stdout",
     "output_type": "stream",
     "text": [
      "1. RT @dog_rates: After so many requests, this is Bretagne. She was the last surviving 9/11 search dog, and our second ever 14/10. RIP https:/…\n",
      "2. After so many requests, this is Bretagne. She was the last surviving 9/11 search dog, and our second ever 14/10. RIP https://t.co/XAVDNDaVgQ\n",
      "3. This is Darrel. He just robbed a 7/11 and is in a high speed police chase. Was just spotted by the helicopter 10/10 https://t.co/7EsP8LmSp5\n",
      "4. Happy 4/20 from the squad! 13/10 for all https://t.co/eV1diwds8a\n",
      "5. Yes I do realize a rating of 4/20 would've been fitting. However, it would be unjust to give these cooperative pups that low of a rating\n",
      "6. @docmisterio account started on 11/15/15\n",
      "7. This is an Albanian 3 1/2 legged  Episcopalian. Loves well-polished hardwood flooring. Penis on the collar. 9/10 https://t.co/d9NcXFKwLv\n"
     ]
    }
   ],
   "source": [
    "#Ignore the repeated ones and print the new invalid ones.\n",
    "print(\"1. \"+df['text'][784]) #This is a retweet tweet. Delete this one.\n",
    "print(\"2. \"+df['text'][1068]) #actual rating 14/10. Change rating_denominator to 10.\n",
    "print(\"3. \"+df['text'][1662]) #actual rating 10/10. Change rating_denominator to 10. \n",
    "print(\"4. \"+df['text'][1165]) #actual rating 13/10. Change rating_denominator to 10.\n",
    "print(\"5. \"+df['text'][1598]) #No photo. Delete this one.\n",
    "print(\"6. \"+df['text'][342]) #No photo. This is a reply tweet.\n",
    "print(\"7. \"+df['text'][2335]) #9/10."
   ]
  },
  {
   "cell_type": "code",
   "execution_count": 58,
   "id": "4427f008",
   "metadata": {},
   "outputs": [
    {
     "name": "stdout",
     "output_type": "stream",
     "text": [
      "<a href=\"http://twitter.com/download/iphone\" rel=\"nofollow\">Twitter for iPhone</a>\n"
     ]
    }
   ],
   "source": [
    "print(df['source'][0])"
   ]
  },
  {
   "cell_type": "code",
   "execution_count": 38,
   "id": "bb91ca11",
   "metadata": {},
   "outputs": [
    {
     "name": "stdout",
     "output_type": "stream",
     "text": [
      "<a href=\"http://twitter.com\" rel=\"nofollow\">Twitter Web Client</a>\n",
      "<a href=\"http://twitter.com\" rel=\"nofollow\">Twitter Web Client</a>\n",
      "<a href=\"http://twitter.com\" rel=\"nofollow\">Twitter Web Client</a>\n",
      "<a href=\"http://twitter.com\" rel=\"nofollow\">Twitter Web Client</a>\n",
      "<a href=\"http://twitter.com\" rel=\"nofollow\">Twitter Web Client</a>\n",
      "<a href=\"http://twitter.com\" rel=\"nofollow\">Twitter Web Client</a>\n",
      "<a href=\"http://vine.co\" rel=\"nofollow\">Vine - Make a Scene</a>\n",
      "<a href=\"http://vine.co\" rel=\"nofollow\">Vine - Make a Scene</a>\n",
      "<a href=\"http://vine.co\" rel=\"nofollow\">Vine - Make a Scene</a>\n",
      "<a href=\"http://vine.co\" rel=\"nofollow\">Vine - Make a Scene</a>\n",
      "<a href=\"http://vine.co\" rel=\"nofollow\">Vine - Make a Scene</a>\n",
      "<a href=\"http://vine.co\" rel=\"nofollow\">Vine - Make a Scene</a>\n",
      "<a href=\"http://vine.co\" rel=\"nofollow\">Vine - Make a Scene</a>\n",
      "<a href=\"http://vine.co\" rel=\"nofollow\">Vine - Make a Scene</a>\n",
      "<a href=\"http://vine.co\" rel=\"nofollow\">Vine - Make a Scene</a>\n",
      "<a href=\"http://vine.co\" rel=\"nofollow\">Vine - Make a Scene</a>\n",
      "<a href=\"http://vine.co\" rel=\"nofollow\">Vine - Make a Scene</a>\n",
      "<a href=\"http://twitter.com\" rel=\"nofollow\">Twitter Web Client</a>\n",
      "<a href=\"http://twitter.com\" rel=\"nofollow\">Twitter Web Client</a>\n",
      "<a href=\"http://vine.co\" rel=\"nofollow\">Vine - Make a Scene</a>\n",
      "<a href=\"http://twitter.com\" rel=\"nofollow\">Twitter Web Client</a>\n",
      "<a href=\"http://vine.co\" rel=\"nofollow\">Vine - Make a Scene</a>\n",
      "<a href=\"http://vine.co\" rel=\"nofollow\">Vine - Make a Scene</a>\n",
      "<a href=\"http://vine.co\" rel=\"nofollow\">Vine - Make a Scene</a>\n",
      "<a href=\"http://vine.co\" rel=\"nofollow\">Vine - Make a Scene</a>\n",
      "<a href=\"http://vine.co\" rel=\"nofollow\">Vine - Make a Scene</a>\n",
      "<a href=\"http://vine.co\" rel=\"nofollow\">Vine - Make a Scene</a>\n",
      "<a href=\"http://vine.co\" rel=\"nofollow\">Vine - Make a Scene</a>\n",
      "<a href=\"https://about.twitter.com/products/tweetdeck\" rel=\"nofollow\">TweetDeck</a>\n",
      "<a href=\"https://about.twitter.com/products/tweetdeck\" rel=\"nofollow\">TweetDeck</a>\n",
      "<a href=\"https://about.twitter.com/products/tweetdeck\" rel=\"nofollow\">TweetDeck</a>\n",
      "<a href=\"https://about.twitter.com/products/tweetdeck\" rel=\"nofollow\">TweetDeck</a>\n",
      "<a href=\"https://about.twitter.com/products/tweetdeck\" rel=\"nofollow\">TweetDeck</a>\n",
      "<a href=\"https://about.twitter.com/products/tweetdeck\" rel=\"nofollow\">TweetDeck</a>\n",
      "<a href=\"https://about.twitter.com/products/tweetdeck\" rel=\"nofollow\">TweetDeck</a>\n",
      "<a href=\"http://vine.co\" rel=\"nofollow\">Vine - Make a Scene</a>\n",
      "<a href=\"http://twitter.com\" rel=\"nofollow\">Twitter Web Client</a>\n",
      "<a href=\"http://vine.co\" rel=\"nofollow\">Vine - Make a Scene</a>\n",
      "<a href=\"http://vine.co\" rel=\"nofollow\">Vine - Make a Scene</a>\n",
      "<a href=\"http://vine.co\" rel=\"nofollow\">Vine - Make a Scene</a>\n",
      "<a href=\"http://vine.co\" rel=\"nofollow\">Vine - Make a Scene</a>\n",
      "<a href=\"http://vine.co\" rel=\"nofollow\">Vine - Make a Scene</a>\n",
      "<a href=\"http://vine.co\" rel=\"nofollow\">Vine - Make a Scene</a>\n",
      "<a href=\"http://vine.co\" rel=\"nofollow\">Vine - Make a Scene</a>\n",
      "<a href=\"http://twitter.com\" rel=\"nofollow\">Twitter Web Client</a>\n",
      "<a href=\"http://vine.co\" rel=\"nofollow\">Vine - Make a Scene</a>\n",
      "<a href=\"http://vine.co\" rel=\"nofollow\">Vine - Make a Scene</a>\n",
      "<a href=\"http://vine.co\" rel=\"nofollow\">Vine - Make a Scene</a>\n",
      "<a href=\"http://vine.co\" rel=\"nofollow\">Vine - Make a Scene</a>\n",
      "<a href=\"http://vine.co\" rel=\"nofollow\">Vine - Make a Scene</a>\n",
      "<a href=\"http://vine.co\" rel=\"nofollow\">Vine - Make a Scene</a>\n",
      "<a href=\"http://vine.co\" rel=\"nofollow\">Vine - Make a Scene</a>\n",
      "<a href=\"http://vine.co\" rel=\"nofollow\">Vine - Make a Scene</a>\n",
      "<a href=\"http://vine.co\" rel=\"nofollow\">Vine - Make a Scene</a>\n",
      "<a href=\"http://vine.co\" rel=\"nofollow\">Vine - Make a Scene</a>\n",
      "<a href=\"http://vine.co\" rel=\"nofollow\">Vine - Make a Scene</a>\n",
      "<a href=\"http://vine.co\" rel=\"nofollow\">Vine - Make a Scene</a>\n",
      "<a href=\"http://vine.co\" rel=\"nofollow\">Vine - Make a Scene</a>\n",
      "<a href=\"http://vine.co\" rel=\"nofollow\">Vine - Make a Scene</a>\n",
      "<a href=\"http://vine.co\" rel=\"nofollow\">Vine - Make a Scene</a>\n",
      "<a href=\"http://vine.co\" rel=\"nofollow\">Vine - Make a Scene</a>\n",
      "<a href=\"http://vine.co\" rel=\"nofollow\">Vine - Make a Scene</a>\n",
      "<a href=\"http://vine.co\" rel=\"nofollow\">Vine - Make a Scene</a>\n",
      "<a href=\"http://vine.co\" rel=\"nofollow\">Vine - Make a Scene</a>\n",
      "<a href=\"http://vine.co\" rel=\"nofollow\">Vine - Make a Scene</a>\n",
      "<a href=\"http://vine.co\" rel=\"nofollow\">Vine - Make a Scene</a>\n",
      "<a href=\"http://vine.co\" rel=\"nofollow\">Vine - Make a Scene</a>\n",
      "<a href=\"http://vine.co\" rel=\"nofollow\">Vine - Make a Scene</a>\n",
      "<a href=\"http://vine.co\" rel=\"nofollow\">Vine - Make a Scene</a>\n",
      "<a href=\"http://vine.co\" rel=\"nofollow\">Vine - Make a Scene</a>\n",
      "<a href=\"http://vine.co\" rel=\"nofollow\">Vine - Make a Scene</a>\n",
      "<a href=\"http://vine.co\" rel=\"nofollow\">Vine - Make a Scene</a>\n",
      "<a href=\"http://vine.co\" rel=\"nofollow\">Vine - Make a Scene</a>\n",
      "<a href=\"http://vine.co\" rel=\"nofollow\">Vine - Make a Scene</a>\n",
      "<a href=\"http://vine.co\" rel=\"nofollow\">Vine - Make a Scene</a>\n",
      "<a href=\"http://vine.co\" rel=\"nofollow\">Vine - Make a Scene</a>\n",
      "<a href=\"http://vine.co\" rel=\"nofollow\">Vine - Make a Scene</a>\n",
      "<a href=\"http://vine.co\" rel=\"nofollow\">Vine - Make a Scene</a>\n",
      "<a href=\"http://vine.co\" rel=\"nofollow\">Vine - Make a Scene</a>\n",
      "<a href=\"http://vine.co\" rel=\"nofollow\">Vine - Make a Scene</a>\n",
      "<a href=\"http://vine.co\" rel=\"nofollow\">Vine - Make a Scene</a>\n",
      "<a href=\"http://vine.co\" rel=\"nofollow\">Vine - Make a Scene</a>\n",
      "<a href=\"http://vine.co\" rel=\"nofollow\">Vine - Make a Scene</a>\n",
      "<a href=\"http://vine.co\" rel=\"nofollow\">Vine - Make a Scene</a>\n",
      "<a href=\"http://vine.co\" rel=\"nofollow\">Vine - Make a Scene</a>\n",
      "<a href=\"http://vine.co\" rel=\"nofollow\">Vine - Make a Scene</a>\n",
      "<a href=\"http://vine.co\" rel=\"nofollow\">Vine - Make a Scene</a>\n",
      "<a href=\"http://vine.co\" rel=\"nofollow\">Vine - Make a Scene</a>\n",
      "<a href=\"http://vine.co\" rel=\"nofollow\">Vine - Make a Scene</a>\n",
      "<a href=\"http://vine.co\" rel=\"nofollow\">Vine - Make a Scene</a>\n",
      "<a href=\"http://vine.co\" rel=\"nofollow\">Vine - Make a Scene</a>\n",
      "<a href=\"http://vine.co\" rel=\"nofollow\">Vine - Make a Scene</a>\n",
      "<a href=\"http://vine.co\" rel=\"nofollow\">Vine - Make a Scene</a>\n",
      "<a href=\"http://vine.co\" rel=\"nofollow\">Vine - Make a Scene</a>\n",
      "<a href=\"http://vine.co\" rel=\"nofollow\">Vine - Make a Scene</a>\n",
      "<a href=\"http://vine.co\" rel=\"nofollow\">Vine - Make a Scene</a>\n",
      "<a href=\"http://vine.co\" rel=\"nofollow\">Vine - Make a Scene</a>\n",
      "<a href=\"http://vine.co\" rel=\"nofollow\">Vine - Make a Scene</a>\n",
      "<a href=\"https://about.twitter.com/products/tweetdeck\" rel=\"nofollow\">TweetDeck</a>\n",
      "<a href=\"https://about.twitter.com/products/tweetdeck\" rel=\"nofollow\">TweetDeck</a>\n",
      "<a href=\"https://about.twitter.com/products/tweetdeck\" rel=\"nofollow\">TweetDeck</a>\n",
      "<a href=\"https://about.twitter.com/products/tweetdeck\" rel=\"nofollow\">TweetDeck</a>\n",
      "<a href=\"http://vine.co\" rel=\"nofollow\">Vine - Make a Scene</a>\n",
      "<a href=\"http://vine.co\" rel=\"nofollow\">Vine - Make a Scene</a>\n",
      "<a href=\"http://vine.co\" rel=\"nofollow\">Vine - Make a Scene</a>\n",
      "<a href=\"http://vine.co\" rel=\"nofollow\">Vine - Make a Scene</a>\n",
      "<a href=\"http://vine.co\" rel=\"nofollow\">Vine - Make a Scene</a>\n",
      "<a href=\"http://vine.co\" rel=\"nofollow\">Vine - Make a Scene</a>\n",
      "<a href=\"http://vine.co\" rel=\"nofollow\">Vine - Make a Scene</a>\n",
      "<a href=\"http://vine.co\" rel=\"nofollow\">Vine - Make a Scene</a>\n",
      "<a href=\"http://vine.co\" rel=\"nofollow\">Vine - Make a Scene</a>\n",
      "<a href=\"http://twitter.com\" rel=\"nofollow\">Twitter Web Client</a>\n",
      "<a href=\"http://vine.co\" rel=\"nofollow\">Vine - Make a Scene</a>\n",
      "<a href=\"http://vine.co\" rel=\"nofollow\">Vine - Make a Scene</a>\n",
      "<a href=\"http://twitter.com\" rel=\"nofollow\">Twitter Web Client</a>\n",
      "<a href=\"http://twitter.com\" rel=\"nofollow\">Twitter Web Client</a>\n",
      "<a href=\"http://twitter.com\" rel=\"nofollow\">Twitter Web Client</a>\n",
      "<a href=\"http://twitter.com\" rel=\"nofollow\">Twitter Web Client</a>\n",
      "<a href=\"http://twitter.com\" rel=\"nofollow\">Twitter Web Client</a>\n",
      "<a href=\"http://twitter.com\" rel=\"nofollow\">Twitter Web Client</a>\n",
      "<a href=\"http://twitter.com\" rel=\"nofollow\">Twitter Web Client</a>\n",
      "<a href=\"http://twitter.com\" rel=\"nofollow\">Twitter Web Client</a>\n",
      "<a href=\"http://twitter.com\" rel=\"nofollow\">Twitter Web Client</a>\n",
      "<a href=\"http://twitter.com\" rel=\"nofollow\">Twitter Web Client</a>\n",
      "<a href=\"http://twitter.com\" rel=\"nofollow\">Twitter Web Client</a>\n",
      "<a href=\"http://twitter.com\" rel=\"nofollow\">Twitter Web Client</a>\n",
      "<a href=\"http://twitter.com\" rel=\"nofollow\">Twitter Web Client</a>\n",
      "<a href=\"http://twitter.com\" rel=\"nofollow\">Twitter Web Client</a>\n",
      "<a href=\"http://twitter.com\" rel=\"nofollow\">Twitter Web Client</a>\n",
      "<a href=\"http://twitter.com\" rel=\"nofollow\">Twitter Web Client</a>\n",
      "<a href=\"http://twitter.com\" rel=\"nofollow\">Twitter Web Client</a>\n",
      "<a href=\"http://twitter.com\" rel=\"nofollow\">Twitter Web Client</a>\n",
      "<a href=\"http://twitter.com\" rel=\"nofollow\">Twitter Web Client</a>\n",
      "<a href=\"http://twitter.com\" rel=\"nofollow\">Twitter Web Client</a>\n",
      "<a href=\"http://twitter.com\" rel=\"nofollow\">Twitter Web Client</a>\n"
     ]
    }
   ],
   "source": [
    "for i in df['source']:\n",
    "    if \"iPhone\" in i:\n",
    "        pass\n",
    "    else:\n",
    "        print(i)"
   ]
  },
  {
   "cell_type": "code",
   "execution_count": 39,
   "id": "49d3de8a",
   "metadata": {},
   "outputs": [
    {
     "data": {
      "text/plain": [
       "array(['Phineas', 'Tilly', 'Archie', 'Darla', 'Franklin', 'None', 'Jax',\n",
       "       'Zoey', 'Cassie', 'Koda', 'Bruno', 'Ted', 'Stuart', 'Oliver',\n",
       "       'Jim', 'Zeke', 'Ralphus', 'Canela', 'Gerald', 'Jeffrey', 'such',\n",
       "       'Maya', 'Mingus', 'Derek', 'Roscoe', 'Waffles', 'Jimbo', 'Maisey',\n",
       "       'Lilly', 'Earl', 'Lola', 'Kevin', 'Yogi', 'Noah', 'Bella',\n",
       "       'Grizzwald', 'Rusty', 'Gus', 'Stanley', 'Alfy', 'Koko', 'Rey',\n",
       "       'Gary', 'a', 'Elliot', 'Louis', 'Jesse', 'Romeo', 'Bailey',\n",
       "       'Duddles', 'Jack', 'Emmy', 'Steven', 'Beau', 'Snoopy', 'Shadow',\n",
       "       'Terrance', 'Aja', 'Penny', 'Dante', 'Nelly', 'Ginger', 'Benedict',\n",
       "       'Venti', 'Goose', 'Nugget', 'Cash', 'Coco', 'Jed', 'Sebastian',\n",
       "       'Walter', 'Sierra', 'Monkey', 'Harry', 'Kody', 'Lassie', 'Rover',\n",
       "       'Napolean', 'Dawn', 'Boomer', 'Cody', 'Rumble', 'Clifford',\n",
       "       'quite', 'Dewey', 'Scout', 'Gizmo', 'Cooper', 'Harold', 'Shikha',\n",
       "       'Jamesy', 'Lili', 'Sammy', 'Meatball', 'Paisley', 'Albus',\n",
       "       'Neptune', 'Quinn', 'Belle', 'Zooey', 'Dave', 'Jersey', 'Hobbes',\n",
       "       'Burt', 'Lorenzo', 'Carl', 'Jordy', 'Milky', 'Trooper', 'Winston',\n",
       "       'Sophie', 'Wyatt', 'Rosie', 'Thor', 'Oscar', 'Luna', 'Callie',\n",
       "       'Cermet', 'George', 'Marlee', 'Arya', 'Einstein', 'Alice',\n",
       "       'Rumpole', 'Benny', 'Aspen', 'Jarod', 'Wiggles', 'General',\n",
       "       'Sailor', 'Astrid', 'Iggy', 'Snoop', 'Kyle', 'Leo', 'Riley',\n",
       "       'Gidget', 'Noosh', 'Odin', 'Jerry', 'Charlie', 'Georgie', 'Rontu',\n",
       "       'Cannon', 'Furzey', 'Daisy', 'Tuck', 'Barney', 'Vixen', 'Jarvis',\n",
       "       'Mimosa', 'Pickles', 'Bungalo', 'Brady', 'Margo', 'Sadie', 'Hank',\n",
       "       'Tycho', 'Stephan', 'Indie', 'Winnie', 'Bentley', 'Ken', 'Max',\n",
       "       'Maddie', 'Pipsy', 'Monty', 'Sojourner', 'Odie', 'Arlo', 'Sunny',\n",
       "       'Vincent', 'Lucy', 'Clark', 'Mookie', 'Meera', 'Buddy', 'Ava',\n",
       "       'Rory', 'Eli', 'Ash', 'Tucker', 'Tobi', 'Chester', 'Wilson',\n",
       "       'Sunshine', 'Lipton', 'Gabby', 'Bronte', 'Poppy', 'Rhino',\n",
       "       'Willow', 'not', 'Orion', 'Eevee', 'Smiley', 'Logan', 'Moreton',\n",
       "       'Klein', 'Miguel', 'Emanuel', 'Kuyu', 'Dutch', 'Pete', 'Scooter',\n",
       "       'Reggie', 'Kyro', 'Samson', 'Loki', 'Mia', 'Malcolm', 'Dexter',\n",
       "       'Alfie', 'Fiona', 'one', 'Mutt', 'Bear', 'Doobert', 'Beebop',\n",
       "       'Alexander', 'Sailer', 'Brutus', 'Kona', 'Boots', 'Ralphie',\n",
       "       'Phil', 'Cupid', 'Pawnd', 'Pilot', 'Ike', 'Mo', 'Toby', 'Sweet',\n",
       "       'Pablo', 'Nala', 'Balto', 'Crawford', 'Gabe', 'Mattie', 'Jimison',\n",
       "       'Hercules', 'Duchess', 'Harlso', 'Sampson', 'Sundance', 'Luca',\n",
       "       'Flash', 'Finn', 'Peaches', 'Howie', 'Jazzy', 'Anna', 'Bo',\n",
       "       'Seamus', 'Wafer', 'Chelsea', 'Tom', 'Moose', 'Florence', 'Autumn',\n",
       "       'Dido', 'Eugene', 'Herschel', 'Strudel', 'Tebow', 'Chloe', 'Betty',\n",
       "       'Timber', 'Binky', 'Dudley', 'Comet', 'Larry', 'Levi', 'Akumi',\n",
       "       'Titan', 'Olivia', 'Alf', 'Oshie', 'Bruce', 'Chubbs', 'Sky',\n",
       "       'Atlas', 'Eleanor', 'Layla', 'Rocky', 'Baron', 'Tyr', 'Bauer',\n",
       "       'Swagger', 'Brandi', 'Mary', 'Moe', 'Halo', 'Augie', 'Craig',\n",
       "       'Sam', 'Hunter', 'Pavlov', 'Maximus', 'Wallace', 'Ito', 'Milo',\n",
       "       'Ollie', 'Cali', 'Lennon', 'incredibly', 'Major', 'Duke',\n",
       "       'Reginald', 'Sansa', 'Shooter', 'Django', 'Diogi', 'Sonny',\n",
       "       'Philbert', 'Marley', 'Severus', 'Ronnie', 'Anakin', 'Bones',\n",
       "       'Mauve', 'Chef', 'Doc', 'Sobe', 'Longfellow', 'Mister', 'Iroh',\n",
       "       'Baloo', 'Stubert', 'Paull', 'Timison', 'Davey', 'Pancake',\n",
       "       'Tyrone', 'Snicku', 'Ruby', 'Brody', 'Rizzy', 'Mack', 'Butter',\n",
       "       'Nimbus', 'Laika', 'Dobby', 'Juno', 'Maude', 'Lily', 'Newt',\n",
       "       'Benji', 'Nida', 'Robin', 'Monster', 'BeBe', 'Remus', 'Mabel',\n",
       "       'Misty', 'Happy', 'Mosby', 'Maggie', 'Leela', 'Ralphy', 'Brownie',\n",
       "       'Meyer', 'Stella', 'mad', 'Frank', 'Tonks', 'Lincoln', 'Oakley',\n",
       "       'Dale', 'Rizzo', 'Arnie', 'Pinot', 'Dallas', 'Hero', 'Frankie',\n",
       "       'Stormy', 'Mairi', 'Loomis', 'Godi', 'Kenny', 'Deacon', 'Timmy',\n",
       "       'Harper', 'Chipson', 'Combo', 'Dash', 'Bell', 'Hurley', 'Jay',\n",
       "       'Mya', 'Strider', 'an', 'Wesley', 'Solomon', 'Huck', 'very', 'O',\n",
       "       'Blue', 'Finley', 'Sprinkles', 'Heinrich', 'Shakespeare', 'Fizz',\n",
       "       'Chip', 'Grey', 'Roosevelt', 'Gromit', 'Willem', 'Dakota', 'Dixie',\n",
       "       'Al', 'Jackson', 'just', 'Carbon', 'DonDon', 'Kirby', 'Lou',\n",
       "       'Nollie', 'Chevy', 'Tito', 'Louie', 'Rupert', 'Rufus', 'Brudge',\n",
       "       'Shadoe', 'Colby', 'Angel', 'Brat', 'Tove', 'my', 'Aubie', 'Kota',\n",
       "       'Eve', 'Glenn', 'Shelby', 'Sephie', 'Bonaparte', 'Albert',\n",
       "       'Wishes', 'Rose', 'Theo', 'Rocco', 'Fido', 'Emma', 'Spencer',\n",
       "       'Lilli', 'Boston', 'Brandonald', 'Corey', 'Leonard', 'Chompsky',\n",
       "       'Beckham', 'Devón', 'Gert', 'Watson', 'Rubio', 'Keith', 'Dex',\n",
       "       'Carly', 'Ace', 'Tayzie', 'Grizzie', 'Fred', 'Gilbert', 'Zoe',\n",
       "       'Stewie', 'Calvin', 'Lilah', 'Spanky', 'Jameson', 'Piper',\n",
       "       'Atticus', 'Blu', 'Dietrich', 'Divine', 'Tripp', 'his', 'Cora',\n",
       "       'Huxley', 'Keurig', 'Bookstore', 'Linus', 'Abby', 'Shaggy',\n",
       "       'Shiloh', 'Gustav', 'Arlen', 'Percy', 'Lenox', 'Sugar', 'Harvey',\n",
       "       'Blanket', 'actually', 'Geno', 'Stark', 'Beya', 'Kilo', 'Kayla',\n",
       "       'Maxaroni', 'Doug', 'Edmund', 'Aqua', 'Theodore', 'Chase',\n",
       "       'getting', 'Rorie', 'Simba', 'Charles', 'Bayley', 'Axel',\n",
       "       'Storkson', 'Remy', 'Chadrick', 'Kellogg', 'Buckley', 'Livvie',\n",
       "       'Terry', 'Hermione', 'Ralpher', 'Aldrick', 'this', 'unacceptable',\n",
       "       'Rooney', 'Crystal', 'Ziva', 'Stefan', 'Pupcasso', 'Puff',\n",
       "       'Flurpson', 'Coleman', 'Enchilada', 'Raymond', 'all', 'Rueben',\n",
       "       'Cilantro', 'Karll', 'Sprout', 'Blitz', 'Bloop', 'Lillie',\n",
       "       'Ashleigh', 'Kreggory', 'Sarge', 'Luther', 'Ivar', 'Jangle',\n",
       "       'Schnitzel', 'Panda', 'Berkeley', 'Ralphé', 'Charleson', 'Clyde',\n",
       "       'Harnold', 'Sid', 'Pippa', 'Otis', 'Carper', 'Bowie',\n",
       "       'Alexanderson', 'Suki', 'Barclay', 'Skittle', 'Ebby', 'Flávio',\n",
       "       'Smokey', 'Link', 'Jennifur', 'Ozzy', 'Bluebert', 'Stephanus',\n",
       "       'Bubbles', 'old', 'Zeus', 'Bertson', 'Nico', 'Michelangelope',\n",
       "       'Siba', 'Calbert', 'Curtis', 'Travis', 'Thumas', 'Kanu', 'Lance',\n",
       "       'Opie', 'Kane', 'Olive', 'Chuckles', 'Staniel', 'Sora', 'Beemo',\n",
       "       'Gunner', 'infuriating', 'Lacy', 'Tater', 'Olaf', 'Cecil', 'Vince',\n",
       "       'Karma', 'Billy', 'Walker', 'Rodney', 'Klevin', 'Malikai',\n",
       "       'Bobble', 'River', 'Jebberson', 'Remington', 'Farfle', 'Jiminus',\n",
       "       'Clarkus', 'Finnegus', 'Cupcake', 'Kathmandu', 'Ellie', 'Katie',\n",
       "       'Kara', 'Adele', 'Zara', 'Ambrose', 'Jimothy', 'Bode', 'Terrenth',\n",
       "       'Reese', 'Chesterson', 'Lucia', 'Bisquick', 'Ralphson', 'Socks',\n",
       "       'Rambo', 'Rudy', 'Fiji', 'Rilo', 'Bilbo', 'Coopson', 'Yoda',\n",
       "       'Millie', 'Chet', 'Crouton', 'Daniel', 'Kaia', 'Murphy', 'Dotsy',\n",
       "       'Eazy', 'Coops', 'Fillup', 'Miley', 'Charl', 'Reagan', 'Yukon',\n",
       "       'CeCe', 'Cuddles', 'Claude', 'Jessiga', 'Carter', 'Ole', 'Pherb',\n",
       "       'Blipson', 'Reptar', 'Trevith', 'Berb', 'Bob', 'Colin', 'Brian',\n",
       "       'Oliviér', 'Grady', 'Kobe', 'Freddery', 'Bodie', 'Dunkin', 'Wally',\n",
       "       'Tupawc', 'Amber', 'Edgar', 'Teddy', 'Kingsley', 'Brockly',\n",
       "       'Richie', 'Molly', 'Vinscent', 'Cedrick', 'Hazel', 'Lolo', 'Eriq',\n",
       "       'Phred', 'the', 'Oddie', 'Maxwell', 'Geoff', 'Covach', 'Durg',\n",
       "       'Fynn', 'Ricky', 'Herald', 'Lucky', 'Ferg', 'Trip', 'Clarence',\n",
       "       'Hamrick', 'Brad', 'Pubert', 'Frönq', 'Derby', 'Lizzie', 'Ember',\n",
       "       'Blakely', 'Opal', 'Marq', 'Kramer', 'Barry', 'Gordon', 'Baxter',\n",
       "       'Mona', 'Horace', 'Crimson', 'Birf', 'Hammond', 'Lorelei', 'Marty',\n",
       "       'Brooks', 'Petrick', 'Hubertson', 'Gerbald', 'Oreo', 'Bruiser',\n",
       "       'Perry', 'Bobby', 'Jeph', 'Obi', 'Tino', 'Kulet', 'Sweets', 'Lupe',\n",
       "       'Tiger', 'Jiminy', 'Griffin', 'Banjo', 'Brandy', 'Lulu', 'Darrel',\n",
       "       'Taco', 'Joey', 'Patrick', 'Kreg', 'Todo', 'Tess', 'Ulysses',\n",
       "       'Toffee', 'Apollo', 'Asher', 'Glacier', 'Chuck', 'Champ', 'Ozzie',\n",
       "       'Griswold', 'Cheesy', 'Moofasa', 'Hector', 'Goliath', 'Kawhi',\n",
       "       'by', 'Emmie', 'Penelope', 'Willie', 'Rinna', 'Mike', 'William',\n",
       "       'Dwight', 'Evy', 'officially', 'Rascal', 'Linda', 'Tug', 'Tango',\n",
       "       'Grizz', 'Jerome', 'Crumpet', 'Jessifer', 'Izzy', 'Ralph', 'Sandy',\n",
       "       'Humphrey', 'Tassy', 'Juckson', 'Chuq', 'Tyrus', 'Karl',\n",
       "       'Godzilla', 'Vinnie', 'Kenneth', 'Herm', 'Bert', 'Striker',\n",
       "       'Donny', 'Pepper', 'Bernie', 'Buddah', 'Lenny', 'Arnold', 'Zuzu',\n",
       "       'Mollie', 'Laela', 'Tedders', 'Superpup', 'Rufio', 'Jeb', 'Rodman',\n",
       "       'Jonah', 'Chesney', 'life', 'Henry', 'Bobbay', 'Mitch', 'Kaiya',\n",
       "       'Acro', 'Aiden', 'Obie', 'Dot', 'Shnuggles', 'Kendall', 'Jeffri',\n",
       "       'Steve', 'Mac', 'Fletcher', 'Kenzie', 'Pumpkin', 'Schnozz',\n",
       "       'Gustaf', 'Cheryl', 'Ed', 'Leonidas', 'Norman', 'Caryl', 'Scott',\n",
       "       'Taz', 'Darby', 'Jackie', 'light', 'Jazz', 'Franq', 'Pippin',\n",
       "       'Rolf', 'Snickers', 'Ridley', 'Cal', 'Bradley', 'Bubba', 'Tuco',\n",
       "       'Patch', 'Mojo', 'Batdog', 'Dylan', 'space', 'Mark', 'JD',\n",
       "       'Alejandro', 'Scruffers', 'Pip', 'Julius', 'Tanner', 'Sparky',\n",
       "       'Anthony', 'Holly', 'Jett', 'Amy', 'Sage', 'Andy', 'Mason',\n",
       "       'Trigger', 'Antony', 'Creg', 'Traviss', 'Gin', 'Jeffrie', 'Danny',\n",
       "       'Ester', 'Pluto', 'Bloo', 'Edd', 'Willy', 'Herb', 'Damon',\n",
       "       'Peanut', 'Nigel', 'Butters', 'Sandra', 'Fabio', 'Randall', 'Liam',\n",
       "       'Tommy', 'Ben', 'Raphael', 'Julio', 'Andru', 'Kloey', 'Shawwn',\n",
       "       'Skye', 'Kollin', 'Ronduh', 'Billl', 'Saydee', 'Dug', 'Tessa',\n",
       "       'Sully', 'Kirk', 'Ralf', 'Clarq', 'Jaspers', 'Samsom', 'Harrison',\n",
       "       'Chaz', 'Jeremy', 'Jaycob', 'Lambeau', 'Ruffles', 'Amélie', 'Bobb',\n",
       "       'Banditt', 'Kevon', 'Winifred', 'Hanz', 'Churlie', 'Zeek',\n",
       "       'Timofy', 'Maks', 'Jomathan', 'Kallie', 'Marvin', 'Spark',\n",
       "       'Gòrdón', 'Jo', 'DayZ', 'Jareld', 'Torque', 'Ron', 'Skittles',\n",
       "       'Cleopatricia', 'Erik', 'Stu', 'Tedrick', 'Filup', 'Kial',\n",
       "       'Naphaniel', 'Dook', 'Hall', 'Philippe', 'Biden', 'Fwed',\n",
       "       'Genevieve', 'Joshwa', 'Bradlay', 'Clybe', 'Keet', 'Carll',\n",
       "       'Jockson', 'Josep', 'Lugan', 'Christoper'], dtype=object)"
      ]
     },
     "execution_count": 39,
     "metadata": {},
     "output_type": "execute_result"
    }
   ],
   "source": [
    "df.name.unique()"
   ]
  },
  {
   "cell_type": "code",
   "execution_count": 40,
   "id": "b2d1cdf5",
   "metadata": {},
   "outputs": [
    {
     "data": {
      "text/plain": [
       "66"
      ]
     },
     "execution_count": 40,
     "metadata": {},
     "output_type": "execute_result"
    }
   ],
   "source": [
    "sum(image_df['jpg_url'].duplicated())"
   ]
  },
  {
   "cell_type": "markdown",
   "id": "4096f848",
   "metadata": {},
   "source": [
    "### Quality Issues\n",
    "1. By looking at the \"rating_denominator\" and \"rating_nominator\", some of them don't have photoes or value is insufficient. Correct these/ delte these.\n",
    "2. After cleaning \"rating_denominator\" and \"rating_nominator\", they should be divided and stored in one column to make sufficient comparison.\n",
    "3. df and image_df's tweet_id are int data type but twitter_data's tweet_id is a string. Change data type of \"twitter_id\" from int to string. \n",
    "4. \"timestamp\" column is not datetime format. \n",
    "5. Remove retweets. \"retweeted_status_id\", \"retweeted_status_user_id\", \"retweeted_status_timestamp\" is not null, then that tweet is a retweet.\n",
    "6. Too many missing data in columns: \"in_reply_to_status_id\", \"in_reply_to_user_id\", \"retweeted_status_id\", \"retweeted_status_user_id\", \"retweeted_status_timestamp\", and \"expanded_urls\".\n",
    "7. There are \"None\", \"a\", \"an\", 'very','the', 'not', 'quite', and 'actually' in name column of df. Change all of these to \"None\" \n",
    "8. Some are lower cases in column \"p1\", \"p2\", and \"p3\" of image_df. \n",
    "9. There are duplicated images(jpg_urls)."
   ]
  },
  {
   "cell_type": "markdown",
   "id": "257e4f3f",
   "metadata": {},
   "source": [
    "### Tidiness Issues\n",
    "1. Combine \"doggo\",\"floofer\",\"pupper\", and \"puppo\" into one column that is a categorical variable.(df)\n",
    "2. Combine p1,p2,p3 into one column that is a categorical variable(image_df)\n",
    "3. merge the dataframe df, image_df, and twitter_data since they share \"tweet_id\" column.\n"
   ]
  },
  {
   "cell_type": "markdown",
   "id": "39ca5fd1",
   "metadata": {},
   "source": [
    "## Cleaning Data"
   ]
  },
  {
   "cell_type": "code",
   "execution_count": 731,
   "id": "4fde2176",
   "metadata": {},
   "outputs": [],
   "source": [
    "#Create a copy for each so we don't lose the original one.\n",
    "df_clean=df.copy()\n",
    "image_clean=image_df.copy()\n",
    "json_clean=twitter_data.copy()"
   ]
  },
  {
   "cell_type": "markdown",
   "id": "d34356b0",
   "metadata": {},
   "source": [
    "#### Quality Issue 1"
   ]
  },
  {
   "cell_type": "markdown",
   "id": "840d508a",
   "metadata": {},
   "source": [
    "Define:"
   ]
  },
  {
   "cell_type": "markdown",
   "id": "7020cd14",
   "metadata": {},
   "source": [
    "Drop tweets that are insufficient and fix ones that mistakenly recorded."
   ]
  },
  {
   "cell_type": "markdown",
   "id": "d7782305",
   "metadata": {},
   "source": [
    "Code:"
   ]
  },
  {
   "cell_type": "code",
   "execution_count": 732,
   "id": "ff94b4c2",
   "metadata": {},
   "outputs": [],
   "source": [
    "#Delte insufficient tweets(retweet,reply, no photo etc.)\n",
    "df_clean=df_clean.drop([313,516,290,189,979,1663,315,1016,188,2074,784,1598,342])"
   ]
  },
  {
   "cell_type": "code",
   "execution_count": 733,
   "id": "9d3a46e5",
   "metadata": {},
   "outputs": [],
   "source": [
    "#Change data type of rating_numerator and denominator to float\n",
    "df_clean['rating_numerator']=df_clean['rating_numerator'].astype(float)\n",
    "df_clean['rating_denominator']=df_clean['rating_denominator'].astype(float)\n",
    "\n",
    "#Fix rating_numerator that have decimals.\n",
    "df_clean.loc[(df_clean.tweet_id==778027034220126208\t), 'rating_numerator']=11.27\n",
    "df_clean.loc[(df_clean.tweet_id==680494726643068929\t), 'rating_numerator']=11.26\n",
    "df_clean.loc[(df_clean.tweet_id==832215909146226688), 'rating_numerator']=9.75\n",
    "df_clean.loc[(df_clean.tweet_id==786709082849828864), 'rating_numerator']=9.75\n",
    "\n",
    "#Fix rating_numerator and rating_denominator\n",
    "df_clean.loc[(df_clean.tweet_id==716439118184652801), 'rating_numerator']=11\n",
    "df_clean.loc[(df_clean.tweet_id==716439118184652801), 'rating_denominator']=10\n",
    "\n",
    "df_clean.loc[(df_clean.tweet_id==740373189193256964), 'rating_numerator']=14\n",
    "df_clean.loc[(df_clean.tweet_id==740373189193256964), 'rating_denominator']=10\n",
    "\n",
    "df_clean.loc[(df_clean.tweet_id==682962037429899265), 'rating_numerator']=10\n",
    "df_clean.loc[(df_clean.tweet_id==682962037429899265), 'rating_denominator']=10\n",
    "\n",
    "df_clean.loc[(df_clean.tweet_id==722974582966214656), 'rating_numerator']=13\n",
    "df_clean.loc[(df_clean.tweet_id==722974582966214656), 'rating_denominator']=10"
   ]
  },
  {
   "cell_type": "markdown",
   "id": "d6775309",
   "metadata": {},
   "source": [
    "Test:"
   ]
  },
  {
   "cell_type": "code",
   "execution_count": 734,
   "id": "830dc387",
   "metadata": {},
   "outputs": [
    {
     "data": {
      "text/plain": [
       "array([ 13.  ,  12.  ,  14.  ,   5.  ,  17.  ,  11.  ,  10.  ,   6.  ,\n",
       "        15.  ,   9.75,   7.  ,  84.  ,   9.  ,   8.  ,   1.  ,  11.27,\n",
       "         3.  ,   4.  , 165.  , 204.  ,  99.  ,  80.  ,  45.  ,  60.  ,\n",
       "        44.  , 143.  , 121.  ,  11.26,   2.  , 144.  ,  88.  ])"
      ]
     },
     "execution_count": 734,
     "metadata": {},
     "output_type": "execute_result"
    }
   ],
   "source": [
    "df_clean.rating_numerator.unique()"
   ]
  },
  {
   "cell_type": "code",
   "execution_count": 735,
   "id": "1215441d",
   "metadata": {},
   "outputs": [
    {
     "data": {
      "text/plain": [
       "array([ 10.,  70., 150., 170.,  90.,  80.,  50.,  40., 130., 110., 120.,\n",
       "         2.])"
      ]
     },
     "execution_count": 735,
     "metadata": {},
     "output_type": "execute_result"
    }
   ],
   "source": [
    "df_clean.rating_denominator.unique()"
   ]
  },
  {
   "cell_type": "markdown",
   "id": "6474663e",
   "metadata": {},
   "source": [
    "#### Quality Issue 2"
   ]
  },
  {
   "cell_type": "markdown",
   "id": "be220fe9",
   "metadata": {},
   "source": [
    "Define:"
   ]
  },
  {
   "cell_type": "markdown",
   "id": "84563719",
   "metadata": {},
   "source": [
    "Use rating_numerator and rating_denominator into one column. Then delete rating_numerator and rating_denominator."
   ]
  },
  {
   "cell_type": "markdown",
   "id": "bda142a3",
   "metadata": {},
   "source": [
    "Code:"
   ]
  },
  {
   "cell_type": "code",
   "execution_count": 736,
   "id": "98a596da",
   "metadata": {},
   "outputs": [],
   "source": [
    "#Use rating_numerator and rating_denominator into one column.\n",
    "df_clean['rating']=df_clean['rating_numerator']/df_clean['rating_denominator']\n",
    "\n",
    "#Delete rating_numerator and rating_denominator\n",
    "df_clean=df_clean.drop(['rating_numerator', 'rating_denominator'],axis=1)"
   ]
  },
  {
   "cell_type": "markdown",
   "id": "9f9492c6",
   "metadata": {},
   "source": [
    "Test:"
   ]
  },
  {
   "cell_type": "code",
   "execution_count": 737,
   "id": "b9ef3df2",
   "metadata": {},
   "outputs": [
    {
     "data": {
      "text/plain": [
       "array([1.3  , 1.2  , 1.4  , 0.5  , 1.7  , 1.1  , 1.   , 0.6  , 1.5  ,\n",
       "       0.975, 0.7  , 0.9  , 0.8  , 0.1  , 1.127, 0.3  , 0.4  , 1.126,\n",
       "       0.2  ])"
      ]
     },
     "execution_count": 737,
     "metadata": {},
     "output_type": "execute_result"
    }
   ],
   "source": [
    "df_clean.rating.unique()"
   ]
  },
  {
   "cell_type": "markdown",
   "id": "42ee9fd0",
   "metadata": {},
   "source": [
    "#### Quality Issue 3"
   ]
  },
  {
   "cell_type": "markdown",
   "id": "7877e426",
   "metadata": {},
   "source": [
    "Define:"
   ]
  },
  {
   "cell_type": "markdown",
   "id": "1fd5ae46",
   "metadata": {},
   "source": [
    "Delete columns that we don't need for our analysis"
   ]
  },
  {
   "cell_type": "markdown",
   "id": "cecf1c3c",
   "metadata": {},
   "source": [
    "Code:"
   ]
  },
  {
   "cell_type": "code",
   "execution_count": 738,
   "id": "55dbefc7",
   "metadata": {},
   "outputs": [],
   "source": [
    "#Change tweet_id to string\n",
    "df_clean['tweet_id']=df_clean['tweet_id'].astype(str)\n",
    "image_clean['tweet_id']=image_clean['tweet_id'].astype(str)"
   ]
  },
  {
   "cell_type": "markdown",
   "id": "326427b0",
   "metadata": {},
   "source": [
    "Test:"
   ]
  },
  {
   "cell_type": "code",
   "execution_count": 739,
   "id": "60af03d0",
   "metadata": {},
   "outputs": [
    {
     "name": "stdout",
     "output_type": "stream",
     "text": [
      "object\n",
      "object\n"
     ]
    }
   ],
   "source": [
    "print(np.dtype(df_clean.tweet_id))\n",
    "print(np.dtype(image_clean.tweet_id))"
   ]
  },
  {
   "cell_type": "markdown",
   "id": "4d20c5b1",
   "metadata": {},
   "source": [
    "#### Quality Issue 4"
   ]
  },
  {
   "cell_type": "markdown",
   "id": "e0b859f0",
   "metadata": {},
   "source": [
    "Define:"
   ]
  },
  {
   "cell_type": "markdown",
   "id": "1d1f9b73",
   "metadata": {},
   "source": [
    "Some dog names are incorrect like \"a\", \"an\",\"very\" etc. Fix these names."
   ]
  },
  {
   "cell_type": "markdown",
   "id": "8a73776a",
   "metadata": {},
   "source": [
    "Code:"
   ]
  },
  {
   "cell_type": "code",
   "execution_count": 740,
   "id": "342c6a34",
   "metadata": {},
   "outputs": [],
   "source": [
    "#Change no name rows all into \"None\"\n",
    "df_clean[df_clean['name'].str.match('[a-z]+')] = 'None'"
   ]
  },
  {
   "cell_type": "markdown",
   "id": "4e0dadec",
   "metadata": {},
   "source": [
    "Test:"
   ]
  },
  {
   "cell_type": "code",
   "execution_count": 741,
   "id": "69d01d92",
   "metadata": {},
   "outputs": [
    {
     "data": {
      "text/plain": [
       "array(['Phineas', 'Tilly', 'Archie', 'Darla', 'Franklin', 'None', 'Jax',\n",
       "       'Zoey', 'Cassie', 'Koda', 'Bruno', 'Ted', 'Stuart', 'Oliver',\n",
       "       'Jim', 'Zeke', 'Ralphus', 'Canela', 'Gerald', 'Jeffrey', 'Maya',\n",
       "       'Mingus', 'Derek', 'Roscoe', 'Waffles', 'Jimbo', 'Maisey', 'Lilly',\n",
       "       'Earl', 'Lola', 'Kevin', 'Yogi', 'Noah', 'Bella', 'Grizzwald',\n",
       "       'Rusty', 'Gus', 'Stanley', 'Alfy', 'Koko', 'Rey', 'Gary', 'Elliot',\n",
       "       'Louis', 'Jesse', 'Romeo', 'Bailey', 'Duddles', 'Jack', 'Emmy',\n",
       "       'Steven', 'Beau', 'Snoopy', 'Shadow', 'Terrance', 'Aja', 'Penny',\n",
       "       'Dante', 'Nelly', 'Ginger', 'Benedict', 'Venti', 'Goose', 'Nugget',\n",
       "       'Cash', 'Coco', 'Jed', 'Sebastian', 'Walter', 'Sierra', 'Monkey',\n",
       "       'Harry', 'Kody', 'Lassie', 'Rover', 'Napolean', 'Dawn', 'Boomer',\n",
       "       'Cody', 'Rumble', 'Clifford', 'Dewey', 'Scout', 'Gizmo', 'Cooper',\n",
       "       'Harold', 'Shikha', 'Jamesy', 'Lili', 'Sammy', 'Meatball',\n",
       "       'Paisley', 'Albus', 'Neptune', 'Quinn', 'Belle', 'Zooey', 'Dave',\n",
       "       'Jersey', 'Hobbes', 'Burt', 'Lorenzo', 'Carl', 'Jordy', 'Milky',\n",
       "       'Trooper', 'Winston', 'Sophie', 'Wyatt', 'Rosie', 'Thor', 'Oscar',\n",
       "       'Luna', 'Callie', 'Cermet', 'George', 'Marlee', 'Arya', 'Einstein',\n",
       "       'Alice', 'Rumpole', 'Benny', 'Aspen', 'Jarod', 'Wiggles',\n",
       "       'General', 'Sailor', 'Astrid', 'Iggy', 'Snoop', 'Kyle', 'Leo',\n",
       "       'Riley', 'Gidget', 'Noosh', 'Odin', 'Jerry', 'Charlie', 'Georgie',\n",
       "       'Rontu', 'Cannon', 'Furzey', 'Daisy', 'Tuck', 'Barney', 'Vixen',\n",
       "       'Jarvis', 'Mimosa', 'Pickles', 'Bungalo', 'Brady', 'Margo',\n",
       "       'Sadie', 'Hank', 'Tycho', 'Stephan', 'Indie', 'Winnie', 'Bentley',\n",
       "       'Ken', 'Max', 'Maddie', 'Pipsy', 'Monty', 'Sojourner', 'Odie',\n",
       "       'Arlo', 'Sunny', 'Vincent', 'Lucy', 'Clark', 'Mookie', 'Meera',\n",
       "       'Buddy', 'Ava', 'Rory', 'Eli', 'Ash', 'Tucker', 'Tobi', 'Chester',\n",
       "       'Wilson', 'Sunshine', 'Lipton', 'Gabby', 'Bronte', 'Poppy',\n",
       "       'Rhino', 'Willow', 'Orion', 'Eevee', 'Smiley', 'Logan', 'Moreton',\n",
       "       'Klein', 'Miguel', 'Emanuel', 'Kuyu', 'Dutch', 'Pete', 'Scooter',\n",
       "       'Reggie', 'Kyro', 'Samson', 'Loki', 'Mia', 'Malcolm', 'Dexter',\n",
       "       'Alfie', 'Fiona', 'Mutt', 'Bear', 'Doobert', 'Beebop', 'Alexander',\n",
       "       'Sailer', 'Brutus', 'Kona', 'Boots', 'Ralphie', 'Phil', 'Cupid',\n",
       "       'Pawnd', 'Pilot', 'Ike', 'Mo', 'Toby', 'Sweet', 'Pablo', 'Nala',\n",
       "       'Balto', 'Crawford', 'Gabe', 'Mattie', 'Jimison', 'Hercules',\n",
       "       'Duchess', 'Harlso', 'Sampson', 'Sundance', 'Luca', 'Flash',\n",
       "       'Finn', 'Peaches', 'Howie', 'Jazzy', 'Anna', 'Bo', 'Seamus',\n",
       "       'Wafer', 'Chelsea', 'Tom', 'Moose', 'Florence', 'Autumn', 'Dido',\n",
       "       'Eugene', 'Herschel', 'Strudel', 'Tebow', 'Chloe', 'Betty',\n",
       "       'Timber', 'Binky', 'Dudley', 'Comet', 'Larry', 'Levi', 'Akumi',\n",
       "       'Titan', 'Olivia', 'Alf', 'Oshie', 'Bruce', 'Chubbs', 'Sky',\n",
       "       'Atlas', 'Eleanor', 'Layla', 'Rocky', 'Baron', 'Tyr', 'Bauer',\n",
       "       'Swagger', 'Brandi', 'Mary', 'Moe', 'Halo', 'Augie', 'Craig',\n",
       "       'Hunter', 'Pavlov', 'Maximus', 'Wallace', 'Ito', 'Milo', 'Ollie',\n",
       "       'Cali', 'Lennon', 'Major', 'Duke', 'Reginald', 'Sansa', 'Shooter',\n",
       "       'Django', 'Diogi', 'Sonny', 'Philbert', 'Marley', 'Severus',\n",
       "       'Ronnie', 'Anakin', 'Bones', 'Mauve', 'Chef', 'Doc', 'Sobe',\n",
       "       'Longfellow', 'Mister', 'Iroh', 'Baloo', 'Stubert', 'Paull',\n",
       "       'Timison', 'Davey', 'Pancake', 'Tyrone', 'Snicku', 'Ruby', 'Brody',\n",
       "       'Rizzy', 'Mack', 'Butter', 'Nimbus', 'Laika', 'Dobby', 'Juno',\n",
       "       'Maude', 'Lily', 'Newt', 'Benji', 'Nida', 'Robin', 'Monster',\n",
       "       'BeBe', 'Remus', 'Mabel', 'Misty', 'Happy', 'Mosby', 'Maggie',\n",
       "       'Leela', 'Ralphy', 'Brownie', 'Meyer', 'Stella', 'Frank', 'Tonks',\n",
       "       'Lincoln', 'Oakley', 'Dale', 'Rizzo', 'Arnie', 'Pinot', 'Dallas',\n",
       "       'Hero', 'Frankie', 'Stormy', 'Mairi', 'Loomis', 'Godi', 'Kenny',\n",
       "       'Deacon', 'Timmy', 'Harper', 'Chipson', 'Combo', 'Dash', 'Bell',\n",
       "       'Hurley', 'Jay', 'Mya', 'Strider', 'Wesley', 'Solomon', 'Huck',\n",
       "       'O', 'Blue', 'Finley', 'Sprinkles', 'Heinrich', 'Shakespeare',\n",
       "       'Fizz', 'Chip', 'Grey', 'Roosevelt', 'Gromit', 'Willem', 'Dakota',\n",
       "       'Dixie', 'Al', 'Jackson', 'Carbon', 'DonDon', 'Kirby', 'Lou',\n",
       "       'Nollie', 'Chevy', 'Tito', 'Louie', 'Rupert', 'Rufus', 'Brudge',\n",
       "       'Shadoe', 'Colby', 'Angel', 'Brat', 'Tove', 'Aubie', 'Kota', 'Eve',\n",
       "       'Glenn', 'Shelby', 'Sephie', 'Bonaparte', 'Albert', 'Wishes',\n",
       "       'Rose', 'Theo', 'Rocco', 'Fido', 'Emma', 'Spencer', 'Lilli',\n",
       "       'Boston', 'Brandonald', 'Corey', 'Leonard', 'Chompsky', 'Beckham',\n",
       "       'Devón', 'Gert', 'Watson', 'Rubio', 'Keith', 'Dex', 'Carly', 'Ace',\n",
       "       'Tayzie', 'Grizzie', 'Fred', 'Gilbert', 'Zoe', 'Stewie', 'Calvin',\n",
       "       'Lilah', 'Spanky', 'Jameson', 'Piper', 'Blu', 'Dietrich', 'Divine',\n",
       "       'Tripp', 'Cora', 'Huxley', 'Keurig', 'Bookstore', 'Linus',\n",
       "       'Atticus', 'Abby', 'Shaggy', 'Shiloh', 'Gustav', 'Arlen', 'Percy',\n",
       "       'Lenox', 'Sugar', 'Harvey', 'Blanket', 'Geno', 'Stark', 'Beya',\n",
       "       'Kilo', 'Kayla', 'Maxaroni', 'Doug', 'Edmund', 'Aqua', 'Theodore',\n",
       "       'Chase', 'Rorie', 'Simba', 'Charles', 'Bayley', 'Axel', 'Storkson',\n",
       "       'Remy', 'Chadrick', 'Kellogg', 'Buckley', 'Livvie', 'Terry',\n",
       "       'Hermione', 'Ralpher', 'Aldrick', 'Rooney', 'Crystal', 'Ziva',\n",
       "       'Stefan', 'Pupcasso', 'Puff', 'Flurpson', 'Coleman', 'Enchilada',\n",
       "       'Raymond', 'Rueben', 'Cilantro', 'Karll', 'Sprout', 'Blitz',\n",
       "       'Bloop', 'Lillie', 'Ashleigh', 'Kreggory', 'Sarge', 'Luther',\n",
       "       'Ivar', 'Jangle', 'Schnitzel', 'Panda', 'Berkeley', 'Ralphé',\n",
       "       'Charleson', 'Clyde', 'Harnold', 'Sid', 'Pippa', 'Otis', 'Carper',\n",
       "       'Bowie', 'Alexanderson', 'Suki', 'Barclay', 'Skittle', 'Ebby',\n",
       "       'Flávio', 'Smokey', 'Link', 'Jennifur', 'Ozzy', 'Bluebert',\n",
       "       'Stephanus', 'Bubbles', 'Zeus', 'Bertson', 'Nico',\n",
       "       'Michelangelope', 'Siba', 'Calbert', 'Curtis', 'Travis', 'Thumas',\n",
       "       'Kanu', 'Lance', 'Opie', 'Kane', 'Olive', 'Chuckles', 'Staniel',\n",
       "       'Sora', 'Beemo', 'Gunner', 'Lacy', 'Tater', 'Olaf', 'Cecil',\n",
       "       'Vince', 'Karma', 'Billy', 'Walker', 'Rodney', 'Klevin', 'Malikai',\n",
       "       'Bobble', 'River', 'Jebberson', 'Remington', 'Farfle', 'Jiminus',\n",
       "       'Clarkus', 'Finnegus', 'Cupcake', 'Kathmandu', 'Ellie', 'Katie',\n",
       "       'Kara', 'Adele', 'Zara', 'Ambrose', 'Jimothy', 'Bode', 'Terrenth',\n",
       "       'Reese', 'Chesterson', 'Lucia', 'Bisquick', 'Ralphson', 'Socks',\n",
       "       'Rambo', 'Rudy', 'Fiji', 'Rilo', 'Bilbo', 'Coopson', 'Yoda',\n",
       "       'Millie', 'Chet', 'Crouton', 'Daniel', 'Kaia', 'Murphy', 'Dotsy',\n",
       "       'Eazy', 'Coops', 'Fillup', 'Miley', 'Charl', 'Reagan', 'Yukon',\n",
       "       'CeCe', 'Cuddles', 'Claude', 'Jessiga', 'Carter', 'Ole', 'Pherb',\n",
       "       'Blipson', 'Reptar', 'Trevith', 'Berb', 'Bob', 'Colin', 'Brian',\n",
       "       'Oliviér', 'Grady', 'Kobe', 'Freddery', 'Bodie', 'Dunkin', 'Wally',\n",
       "       'Tupawc', 'Amber', 'Edgar', 'Teddy', 'Kingsley', 'Brockly',\n",
       "       'Richie', 'Molly', 'Vinscent', 'Cedrick', 'Hazel', 'Lolo', 'Eriq',\n",
       "       'Phred', 'Oddie', 'Maxwell', 'Geoff', 'Covach', 'Durg', 'Fynn',\n",
       "       'Ricky', 'Herald', 'Lucky', 'Ferg', 'Trip', 'Clarence', 'Hamrick',\n",
       "       'Brad', 'Pubert', 'Frönq', 'Derby', 'Lizzie', 'Ember', 'Blakely',\n",
       "       'Opal', 'Marq', 'Kramer', 'Barry', 'Gordon', 'Baxter', 'Mona',\n",
       "       'Horace', 'Crimson', 'Birf', 'Hammond', 'Lorelei', 'Marty',\n",
       "       'Brooks', 'Petrick', 'Hubertson', 'Gerbald', 'Oreo', 'Bruiser',\n",
       "       'Perry', 'Bobby', 'Jeph', 'Obi', 'Tino', 'Kulet', 'Sweets', 'Lupe',\n",
       "       'Tiger', 'Jiminy', 'Griffin', 'Banjo', 'Brandy', 'Lulu', 'Darrel',\n",
       "       'Taco', 'Joey', 'Patrick', 'Kreg', 'Todo', 'Tess', 'Ulysses',\n",
       "       'Toffee', 'Apollo', 'Asher', 'Glacier', 'Chuck', 'Champ', 'Ozzie',\n",
       "       'Griswold', 'Cheesy', 'Moofasa', 'Hector', 'Goliath', 'Kawhi',\n",
       "       'Emmie', 'Penelope', 'Willie', 'Rinna', 'Mike', 'William',\n",
       "       'Dwight', 'Evy', 'Rascal', 'Linda', 'Tug', 'Tango', 'Grizz',\n",
       "       'Jerome', 'Crumpet', 'Jessifer', 'Izzy', 'Ralph', 'Sandy',\n",
       "       'Humphrey', 'Tassy', 'Juckson', 'Chuq', 'Tyrus', 'Karl',\n",
       "       'Godzilla', 'Vinnie', 'Kenneth', 'Herm', 'Bert', 'Striker',\n",
       "       'Donny', 'Pepper', 'Bernie', 'Buddah', 'Lenny', 'Arnold', 'Zuzu',\n",
       "       'Mollie', 'Laela', 'Tedders', 'Superpup', 'Rufio', 'Jeb', 'Rodman',\n",
       "       'Jonah', 'Chesney', 'Henry', 'Bobbay', 'Mitch', 'Kaiya', 'Acro',\n",
       "       'Aiden', 'Obie', 'Dot', 'Shnuggles', 'Kendall', 'Jeffri', 'Steve',\n",
       "       'Mac', 'Fletcher', 'Kenzie', 'Pumpkin', 'Schnozz', 'Gustaf',\n",
       "       'Cheryl', 'Ed', 'Leonidas', 'Norman', 'Caryl', 'Scott', 'Taz',\n",
       "       'Darby', 'Jackie', 'Jazz', 'Franq', 'Pippin', 'Rolf', 'Snickers',\n",
       "       'Ridley', 'Cal', 'Bradley', 'Bubba', 'Tuco', 'Patch', 'Mojo',\n",
       "       'Batdog', 'Dylan', 'Mark', 'JD', 'Alejandro', 'Scruffers', 'Pip',\n",
       "       'Julius', 'Tanner', 'Sparky', 'Anthony', 'Holly', 'Jett', 'Amy',\n",
       "       'Sage', 'Andy', 'Mason', 'Trigger', 'Antony', 'Creg', 'Traviss',\n",
       "       'Gin', 'Jeffrie', 'Danny', 'Ester', 'Pluto', 'Bloo', 'Edd', 'Sam',\n",
       "       'Willy', 'Herb', 'Damon', 'Peanut', 'Nigel', 'Butters', 'Sandra',\n",
       "       'Fabio', 'Randall', 'Liam', 'Tommy', 'Ben', 'Raphael', 'Julio',\n",
       "       'Andru', 'Kloey', 'Shawwn', 'Skye', 'Kollin', 'Ronduh', 'Billl',\n",
       "       'Saydee', 'Dug', 'Tessa', 'Sully', 'Kirk', 'Ralf', 'Clarq',\n",
       "       'Jaspers', 'Samsom', 'Harrison', 'Chaz', 'Jeremy', 'Jaycob',\n",
       "       'Lambeau', 'Ruffles', 'Amélie', 'Bobb', 'Banditt', 'Kevon',\n",
       "       'Winifred', 'Hanz', 'Churlie', 'Zeek', 'Timofy', 'Maks',\n",
       "       'Jomathan', 'Kallie', 'Marvin', 'Spark', 'Gòrdón', 'Jo', 'DayZ',\n",
       "       'Jareld', 'Torque', 'Ron', 'Skittles', 'Cleopatricia', 'Erik',\n",
       "       'Stu', 'Tedrick', 'Filup', 'Kial', 'Naphaniel', 'Dook', 'Hall',\n",
       "       'Philippe', 'Biden', 'Fwed', 'Genevieve', 'Joshwa', 'Bradlay',\n",
       "       'Clybe', 'Keet', 'Carll', 'Jockson', 'Josep', 'Lugan',\n",
       "       'Christoper'], dtype=object)"
      ]
     },
     "execution_count": 741,
     "metadata": {},
     "output_type": "execute_result"
    }
   ],
   "source": [
    "df_clean.name.unique()"
   ]
  },
  {
   "cell_type": "markdown",
   "id": "930593a4",
   "metadata": {},
   "source": [
    "#### Quality Issue 5"
   ]
  },
  {
   "cell_type": "markdown",
   "id": "0791fa73",
   "metadata": {},
   "source": [
    "Define:"
   ]
  },
  {
   "cell_type": "markdown",
   "id": "7ee7f24f",
   "metadata": {},
   "source": [
    "Some breeds are in lower cases(p1,p2,p3 column)"
   ]
  },
  {
   "cell_type": "markdown",
   "id": "96c4bebb",
   "metadata": {},
   "source": [
    "Code:"
   ]
  },
  {
   "cell_type": "code",
   "execution_count": 742,
   "id": "549d3b4e",
   "metadata": {},
   "outputs": [],
   "source": [
    "#Capitalize p1, p2, and p3\n",
    "image_clean['p1']=image_clean['p1'].str.capitalize()\n",
    "image_clean['p2']=image_clean['p2'].str.capitalize()\n",
    "image_clean['p3']=image_clean['p3'].str.capitalize()"
   ]
  },
  {
   "cell_type": "markdown",
   "id": "eda48f00",
   "metadata": {},
   "source": [
    "Test:"
   ]
  },
  {
   "cell_type": "code",
   "execution_count": 743,
   "id": "b2fca5f0",
   "metadata": {},
   "outputs": [
    {
     "data": {
      "text/html": [
       "<div>\n",
       "<style scoped>\n",
       "    .dataframe tbody tr th:only-of-type {\n",
       "        vertical-align: middle;\n",
       "    }\n",
       "\n",
       "    .dataframe tbody tr th {\n",
       "        vertical-align: top;\n",
       "    }\n",
       "\n",
       "    .dataframe thead th {\n",
       "        text-align: right;\n",
       "    }\n",
       "</style>\n",
       "<table border=\"1\" class=\"dataframe\">\n",
       "  <thead>\n",
       "    <tr style=\"text-align: right;\">\n",
       "      <th></th>\n",
       "      <th>tweet_id</th>\n",
       "      <th>jpg_url</th>\n",
       "      <th>img_num</th>\n",
       "      <th>p1</th>\n",
       "      <th>p1_conf</th>\n",
       "      <th>p1_dog</th>\n",
       "      <th>p2</th>\n",
       "      <th>p2_conf</th>\n",
       "      <th>p2_dog</th>\n",
       "      <th>p3</th>\n",
       "      <th>p3_conf</th>\n",
       "      <th>p3_dog</th>\n",
       "    </tr>\n",
       "  </thead>\n",
       "  <tbody>\n",
       "    <tr>\n",
       "      <th>0</th>\n",
       "      <td>666020888022790149</td>\n",
       "      <td>https://pbs.twimg.com/media/CT4udn0WwAA0aMy.jpg</td>\n",
       "      <td>1</td>\n",
       "      <td>Welsh_springer_spaniel</td>\n",
       "      <td>0.465074</td>\n",
       "      <td>True</td>\n",
       "      <td>Collie</td>\n",
       "      <td>0.156665</td>\n",
       "      <td>True</td>\n",
       "      <td>Shetland_sheepdog</td>\n",
       "      <td>0.061428</td>\n",
       "      <td>True</td>\n",
       "    </tr>\n",
       "    <tr>\n",
       "      <th>1</th>\n",
       "      <td>666029285002620928</td>\n",
       "      <td>https://pbs.twimg.com/media/CT42GRgUYAA5iDo.jpg</td>\n",
       "      <td>1</td>\n",
       "      <td>Redbone</td>\n",
       "      <td>0.506826</td>\n",
       "      <td>True</td>\n",
       "      <td>Miniature_pinscher</td>\n",
       "      <td>0.074192</td>\n",
       "      <td>True</td>\n",
       "      <td>Rhodesian_ridgeback</td>\n",
       "      <td>0.072010</td>\n",
       "      <td>True</td>\n",
       "    </tr>\n",
       "    <tr>\n",
       "      <th>2</th>\n",
       "      <td>666033412701032449</td>\n",
       "      <td>https://pbs.twimg.com/media/CT4521TWwAEvMyu.jpg</td>\n",
       "      <td>1</td>\n",
       "      <td>German_shepherd</td>\n",
       "      <td>0.596461</td>\n",
       "      <td>True</td>\n",
       "      <td>Malinois</td>\n",
       "      <td>0.138584</td>\n",
       "      <td>True</td>\n",
       "      <td>Bloodhound</td>\n",
       "      <td>0.116197</td>\n",
       "      <td>True</td>\n",
       "    </tr>\n",
       "    <tr>\n",
       "      <th>3</th>\n",
       "      <td>666044226329800704</td>\n",
       "      <td>https://pbs.twimg.com/media/CT5Dr8HUEAA-lEu.jpg</td>\n",
       "      <td>1</td>\n",
       "      <td>Rhodesian_ridgeback</td>\n",
       "      <td>0.408143</td>\n",
       "      <td>True</td>\n",
       "      <td>Redbone</td>\n",
       "      <td>0.360687</td>\n",
       "      <td>True</td>\n",
       "      <td>Miniature_pinscher</td>\n",
       "      <td>0.222752</td>\n",
       "      <td>True</td>\n",
       "    </tr>\n",
       "    <tr>\n",
       "      <th>4</th>\n",
       "      <td>666049248165822465</td>\n",
       "      <td>https://pbs.twimg.com/media/CT5IQmsXIAAKY4A.jpg</td>\n",
       "      <td>1</td>\n",
       "      <td>Miniature_pinscher</td>\n",
       "      <td>0.560311</td>\n",
       "      <td>True</td>\n",
       "      <td>Rottweiler</td>\n",
       "      <td>0.243682</td>\n",
       "      <td>True</td>\n",
       "      <td>Doberman</td>\n",
       "      <td>0.154629</td>\n",
       "      <td>True</td>\n",
       "    </tr>\n",
       "  </tbody>\n",
       "</table>\n",
       "</div>"
      ],
      "text/plain": [
       "             tweet_id                                          jpg_url  \\\n",
       "0  666020888022790149  https://pbs.twimg.com/media/CT4udn0WwAA0aMy.jpg   \n",
       "1  666029285002620928  https://pbs.twimg.com/media/CT42GRgUYAA5iDo.jpg   \n",
       "2  666033412701032449  https://pbs.twimg.com/media/CT4521TWwAEvMyu.jpg   \n",
       "3  666044226329800704  https://pbs.twimg.com/media/CT5Dr8HUEAA-lEu.jpg   \n",
       "4  666049248165822465  https://pbs.twimg.com/media/CT5IQmsXIAAKY4A.jpg   \n",
       "\n",
       "   img_num                      p1   p1_conf  p1_dog                  p2  \\\n",
       "0        1  Welsh_springer_spaniel  0.465074    True              Collie   \n",
       "1        1                 Redbone  0.506826    True  Miniature_pinscher   \n",
       "2        1         German_shepherd  0.596461    True            Malinois   \n",
       "3        1     Rhodesian_ridgeback  0.408143    True             Redbone   \n",
       "4        1      Miniature_pinscher  0.560311    True          Rottweiler   \n",
       "\n",
       "    p2_conf  p2_dog                   p3   p3_conf  p3_dog  \n",
       "0  0.156665    True    Shetland_sheepdog  0.061428    True  \n",
       "1  0.074192    True  Rhodesian_ridgeback  0.072010    True  \n",
       "2  0.138584    True           Bloodhound  0.116197    True  \n",
       "3  0.360687    True   Miniature_pinscher  0.222752    True  \n",
       "4  0.243682    True             Doberman  0.154629    True  "
      ]
     },
     "execution_count": 743,
     "metadata": {},
     "output_type": "execute_result"
    }
   ],
   "source": [
    "image_clean.head()"
   ]
  },
  {
   "cell_type": "markdown",
   "id": "e120a5dd",
   "metadata": {},
   "source": [
    "#### Quality Issue 6"
   ]
  },
  {
   "cell_type": "markdown",
   "id": "829d349f",
   "metadata": {},
   "source": [
    "Define:"
   ]
  },
  {
   "cell_type": "markdown",
   "id": "30c821f8",
   "metadata": {},
   "source": [
    "Remove retweets. "
   ]
  },
  {
   "cell_type": "markdown",
   "id": "34af6421",
   "metadata": {},
   "source": [
    "Code:"
   ]
  },
  {
   "cell_type": "code",
   "execution_count": 744,
   "id": "aeed5969",
   "metadata": {},
   "outputs": [],
   "source": [
    "#Remove retweets\n",
    "df_clean=df_clean[df_clean['retweeted_status_id'].isnull()]\n",
    "df_clean=df_clean[df_clean['retweeted_status_user_id'].isnull()]\n",
    "df_clean=df_clean[df_clean['retweeted_status_timestamp'].isnull()]"
   ]
  },
  {
   "cell_type": "markdown",
   "id": "09604861",
   "metadata": {},
   "source": [
    "Test:"
   ]
  },
  {
   "cell_type": "code",
   "execution_count": 745,
   "id": "e1b34356",
   "metadata": {},
   "outputs": [
    {
     "name": "stdout",
     "output_type": "stream",
     "text": [
      "(2059, 16)\n"
     ]
    },
    {
     "data": {
      "text/plain": [
       "2059"
      ]
     },
     "execution_count": 745,
     "metadata": {},
     "output_type": "execute_result"
    }
   ],
   "source": [
    "#See if there is any retweets\n",
    "print(df_clean.shape)\n",
    "sum(df_clean['retweeted_status_id'].isnull())"
   ]
  },
  {
   "cell_type": "code",
   "execution_count": 746,
   "id": "4061b392",
   "metadata": {},
   "outputs": [
    {
     "data": {
      "text/plain": [
       "2059"
      ]
     },
     "execution_count": 746,
     "metadata": {},
     "output_type": "execute_result"
    }
   ],
   "source": [
    "sum(df_clean['retweeted_status_user_id'].isnull())"
   ]
  },
  {
   "cell_type": "code",
   "execution_count": 747,
   "id": "641bd45e",
   "metadata": {},
   "outputs": [
    {
     "data": {
      "text/plain": [
       "2059"
      ]
     },
     "execution_count": 747,
     "metadata": {},
     "output_type": "execute_result"
    }
   ],
   "source": [
    "sum(df_clean['retweeted_status_timestamp'].isnull())"
   ]
  },
  {
   "cell_type": "markdown",
   "id": "eea586fe",
   "metadata": {},
   "source": [
    "#### Quality Issue 7"
   ]
  },
  {
   "cell_type": "markdown",
   "id": "cec2c67d",
   "metadata": {},
   "source": [
    "Define:"
   ]
  },
  {
   "cell_type": "markdown",
   "id": "f00078db",
   "metadata": {},
   "source": [
    "Delete columns that we don't need for our analysis"
   ]
  },
  {
   "cell_type": "markdown",
   "id": "2d6ec3c5",
   "metadata": {},
   "source": [
    "Code:"
   ]
  },
  {
   "cell_type": "code",
   "execution_count": 748,
   "id": "5d95a628",
   "metadata": {},
   "outputs": [],
   "source": [
    "#Drop columns that we won't use for analysis\n",
    "df_clean=df_clean.drop(['in_reply_to_status_id','in_reply_to_user_id','retweeted_status_id','retweeted_status_user_id', 'retweeted_status_timestamp','expanded_urls','source'],axis=1)"
   ]
  },
  {
   "cell_type": "markdown",
   "id": "8d677b97",
   "metadata": {},
   "source": [
    "Test:"
   ]
  },
  {
   "cell_type": "code",
   "execution_count": 749,
   "id": "79a580d0",
   "metadata": {},
   "outputs": [
    {
     "data": {
      "text/plain": [
       "Index(['tweet_id', 'timestamp', 'text', 'name', 'doggo', 'floofer', 'pupper',\n",
       "       'puppo', 'rating'],\n",
       "      dtype='object')"
      ]
     },
     "execution_count": 749,
     "metadata": {},
     "output_type": "execute_result"
    }
   ],
   "source": [
    "df_clean.columns"
   ]
  },
  {
   "cell_type": "markdown",
   "id": "c09cc359",
   "metadata": {},
   "source": [
    "#### Quality Issue 8"
   ]
  },
  {
   "cell_type": "markdown",
   "id": "f67e2672",
   "metadata": {},
   "source": [
    "Define:"
   ]
  },
  {
   "cell_type": "markdown",
   "id": "0f861f32",
   "metadata": {},
   "source": [
    "There are duplicated images(jpg_urls)"
   ]
  },
  {
   "cell_type": "markdown",
   "id": "8ee56caa",
   "metadata": {},
   "source": [
    "Code:"
   ]
  },
  {
   "cell_type": "code",
   "execution_count": 750,
   "id": "75a999bd",
   "metadata": {},
   "outputs": [],
   "source": [
    "#Drop duplicates\n",
    "image_clean = image_clean.drop_duplicates(subset=['jpg_url'], keep='last')"
   ]
  },
  {
   "cell_type": "markdown",
   "id": "1bccec57",
   "metadata": {},
   "source": [
    "Test:"
   ]
  },
  {
   "cell_type": "code",
   "execution_count": 751,
   "id": "65ac9069",
   "metadata": {},
   "outputs": [
    {
     "data": {
      "text/plain": [
       "0"
      ]
     },
     "execution_count": 751,
     "metadata": {},
     "output_type": "execute_result"
    }
   ],
   "source": [
    "sum(image_clean['jpg_url'].duplicated())"
   ]
  },
  {
   "cell_type": "markdown",
   "id": "0e25f951",
   "metadata": {},
   "source": [
    "#### Tidiness Issue 1"
   ]
  },
  {
   "cell_type": "markdown",
   "id": "8fec44b2",
   "metadata": {},
   "source": [
    "Define:"
   ]
  },
  {
   "cell_type": "markdown",
   "id": "9e6d3a3c",
   "metadata": {},
   "source": [
    "Put doggo, floofer, pupper, and puppo into one column. After combining them, delete those 4 columns."
   ]
  },
  {
   "cell_type": "markdown",
   "id": "bb81a35e",
   "metadata": {},
   "source": [
    "Code:"
   ]
  },
  {
   "cell_type": "code",
   "execution_count": 752,
   "id": "03f72143",
   "metadata": {},
   "outputs": [],
   "source": [
    "#Combine doggo, floofer, pupper, puppo into one column\n",
    "df_clean['dog_type']=df_clean['text'].str.extract('(doggo|floofer|pupper|puppo)')\n",
    "\n",
    "#Delete column doggo,floofer, pupper, and puppo\n",
    "df_clean=df_clean.drop(['doggo','floofer','pupper','puppo'],axis=1)"
   ]
  },
  {
   "cell_type": "markdown",
   "id": "c3a26609",
   "metadata": {},
   "source": [
    "Test:"
   ]
  },
  {
   "cell_type": "code",
   "execution_count": 753,
   "id": "a85730f2",
   "metadata": {},
   "outputs": [
    {
     "name": "stdout",
     "output_type": "stream",
     "text": [
      "81\n",
      "4\n",
      "231\n",
      "32\n"
     ]
    }
   ],
   "source": [
    "print(sum(df_clean['dog_type']=='doggo'))\n",
    "print(sum(df_clean['dog_type']=='floofer'))\n",
    "print(sum(df_clean['dog_type']=='pupper'))\n",
    "print(sum(df_clean['dog_type']=='puppo'))"
   ]
  },
  {
   "cell_type": "markdown",
   "id": "5707ec42",
   "metadata": {},
   "source": [
    "####  Tidiness Issue 2"
   ]
  },
  {
   "cell_type": "markdown",
   "id": "a383efac",
   "metadata": {},
   "source": [
    "Define:"
   ]
  },
  {
   "cell_type": "markdown",
   "id": "9fb278df",
   "metadata": {},
   "source": [
    "We will only want the dog's breed. Extracting from p1,p2,p3"
   ]
  },
  {
   "cell_type": "markdown",
   "id": "bc9b2320",
   "metadata": {},
   "source": [
    "Code:"
   ]
  },
  {
   "cell_type": "code",
   "execution_count": 754,
   "id": "66796ecd",
   "metadata": {},
   "outputs": [],
   "source": [
    "#Put p1,p2,p3 in one column by comparing whether it's True or False.\n",
    "image_clean['breed']='None'\n",
    "\n",
    "for i, row in image_clean.iterrows():\n",
    "    if row.p1_dog:\n",
    "        image_clean.at[i, 'breed']=row.p1\n",
    "    elif row.p2_dog:\n",
    "        image_clean.at[i, 'breed']=row.p2\n",
    "\n",
    "    elif row.p3_dog:\n",
    "        image_clean.at[i, 'breed']=row.p3\n",
    "    else:\n",
    "        image_clean.at[i, 'breed']=='None'\n",
    "        \n",
    "#Drop p1, p2, p3 columns\n",
    "image_clean=image_clean.drop(['p1','p1_conf','p1_dog','p2','p2_conf','p2_dog','p3','p3_conf','p3_dog'],axis=1)"
   ]
  },
  {
   "cell_type": "markdown",
   "id": "7105a3f1",
   "metadata": {},
   "source": [
    "Test:"
   ]
  },
  {
   "cell_type": "code",
   "execution_count": 755,
   "id": "b4a71dc1",
   "metadata": {},
   "outputs": [
    {
     "data": {
      "text/html": [
       "<div>\n",
       "<style scoped>\n",
       "    .dataframe tbody tr th:only-of-type {\n",
       "        vertical-align: middle;\n",
       "    }\n",
       "\n",
       "    .dataframe tbody tr th {\n",
       "        vertical-align: top;\n",
       "    }\n",
       "\n",
       "    .dataframe thead th {\n",
       "        text-align: right;\n",
       "    }\n",
       "</style>\n",
       "<table border=\"1\" class=\"dataframe\">\n",
       "  <thead>\n",
       "    <tr style=\"text-align: right;\">\n",
       "      <th></th>\n",
       "      <th>tweet_id</th>\n",
       "      <th>jpg_url</th>\n",
       "      <th>img_num</th>\n",
       "      <th>breed</th>\n",
       "    </tr>\n",
       "  </thead>\n",
       "  <tbody>\n",
       "    <tr>\n",
       "      <th>0</th>\n",
       "      <td>666020888022790149</td>\n",
       "      <td>https://pbs.twimg.com/media/CT4udn0WwAA0aMy.jpg</td>\n",
       "      <td>1</td>\n",
       "      <td>Welsh_springer_spaniel</td>\n",
       "    </tr>\n",
       "    <tr>\n",
       "      <th>1</th>\n",
       "      <td>666029285002620928</td>\n",
       "      <td>https://pbs.twimg.com/media/CT42GRgUYAA5iDo.jpg</td>\n",
       "      <td>1</td>\n",
       "      <td>Redbone</td>\n",
       "    </tr>\n",
       "    <tr>\n",
       "      <th>2</th>\n",
       "      <td>666033412701032449</td>\n",
       "      <td>https://pbs.twimg.com/media/CT4521TWwAEvMyu.jpg</td>\n",
       "      <td>1</td>\n",
       "      <td>German_shepherd</td>\n",
       "    </tr>\n",
       "    <tr>\n",
       "      <th>3</th>\n",
       "      <td>666044226329800704</td>\n",
       "      <td>https://pbs.twimg.com/media/CT5Dr8HUEAA-lEu.jpg</td>\n",
       "      <td>1</td>\n",
       "      <td>Rhodesian_ridgeback</td>\n",
       "    </tr>\n",
       "    <tr>\n",
       "      <th>4</th>\n",
       "      <td>666049248165822465</td>\n",
       "      <td>https://pbs.twimg.com/media/CT5IQmsXIAAKY4A.jpg</td>\n",
       "      <td>1</td>\n",
       "      <td>Miniature_pinscher</td>\n",
       "    </tr>\n",
       "  </tbody>\n",
       "</table>\n",
       "</div>"
      ],
      "text/plain": [
       "             tweet_id                                          jpg_url  \\\n",
       "0  666020888022790149  https://pbs.twimg.com/media/CT4udn0WwAA0aMy.jpg   \n",
       "1  666029285002620928  https://pbs.twimg.com/media/CT42GRgUYAA5iDo.jpg   \n",
       "2  666033412701032449  https://pbs.twimg.com/media/CT4521TWwAEvMyu.jpg   \n",
       "3  666044226329800704  https://pbs.twimg.com/media/CT5Dr8HUEAA-lEu.jpg   \n",
       "4  666049248165822465  https://pbs.twimg.com/media/CT5IQmsXIAAKY4A.jpg   \n",
       "\n",
       "   img_num                   breed  \n",
       "0        1  Welsh_springer_spaniel  \n",
       "1        1                 Redbone  \n",
       "2        1         German_shepherd  \n",
       "3        1     Rhodesian_ridgeback  \n",
       "4        1      Miniature_pinscher  "
      ]
     },
     "execution_count": 755,
     "metadata": {},
     "output_type": "execute_result"
    }
   ],
   "source": [
    "image_clean.head()"
   ]
  },
  {
   "cell_type": "markdown",
   "id": "ba4abeeb",
   "metadata": {},
   "source": [
    "#### Tidiness Issue 3"
   ]
  },
  {
   "cell_type": "markdown",
   "id": "a7f30d98",
   "metadata": {},
   "source": [
    "Define:"
   ]
  },
  {
   "cell_type": "markdown",
   "id": "a6c2d409",
   "metadata": {},
   "source": [
    "Merge the three dataframe into one dataframe"
   ]
  },
  {
   "cell_type": "markdown",
   "id": "c7373c51",
   "metadata": {},
   "source": [
    "Code:"
   ]
  },
  {
   "cell_type": "code",
   "execution_count": 756,
   "id": "d4742b51",
   "metadata": {},
   "outputs": [],
   "source": [
    "#Merge df_clean,image_clean, and json_clean.\n",
    "df2= pd.merge(df_clean, image_clean, how = 'outer', on = ['tweet_id'])\n",
    "twitter_df=pd.merge(df2,json_clean,how='outer',on=['tweet_id'])"
   ]
  },
  {
   "cell_type": "markdown",
   "id": "79aafd7a",
   "metadata": {},
   "source": [
    "Test:"
   ]
  },
  {
   "cell_type": "code",
   "execution_count": 757,
   "id": "c1b861fa",
   "metadata": {},
   "outputs": [
    {
     "data": {
      "text/html": [
       "<div>\n",
       "<style scoped>\n",
       "    .dataframe tbody tr th:only-of-type {\n",
       "        vertical-align: middle;\n",
       "    }\n",
       "\n",
       "    .dataframe tbody tr th {\n",
       "        vertical-align: top;\n",
       "    }\n",
       "\n",
       "    .dataframe thead th {\n",
       "        text-align: right;\n",
       "    }\n",
       "</style>\n",
       "<table border=\"1\" class=\"dataframe\">\n",
       "  <thead>\n",
       "    <tr style=\"text-align: right;\">\n",
       "      <th></th>\n",
       "      <th>tweet_id</th>\n",
       "      <th>timestamp</th>\n",
       "      <th>text</th>\n",
       "      <th>name</th>\n",
       "      <th>rating</th>\n",
       "      <th>dog_type</th>\n",
       "      <th>jpg_url</th>\n",
       "      <th>img_num</th>\n",
       "      <th>breed</th>\n",
       "      <th>retweet_count</th>\n",
       "      <th>favorite_count</th>\n",
       "      <th>followers_count</th>\n",
       "    </tr>\n",
       "  </thead>\n",
       "  <tbody>\n",
       "    <tr>\n",
       "      <th>0</th>\n",
       "      <td>892420643555336193</td>\n",
       "      <td>2017-08-01 16:23:56 +0000</td>\n",
       "      <td>This is Phineas. He's a mystical boy. Only eve...</td>\n",
       "      <td>Phineas</td>\n",
       "      <td>1.3</td>\n",
       "      <td>NaN</td>\n",
       "      <td>https://pbs.twimg.com/media/DGKD1-bXoAAIAUK.jpg</td>\n",
       "      <td>1.0</td>\n",
       "      <td>None</td>\n",
       "      <td>7051.0</td>\n",
       "      <td>33905.0</td>\n",
       "      <td>9245661.0</td>\n",
       "    </tr>\n",
       "    <tr>\n",
       "      <th>1</th>\n",
       "      <td>892177421306343426</td>\n",
       "      <td>2017-08-01 00:17:27 +0000</td>\n",
       "      <td>This is Tilly. She's just checking pup on you....</td>\n",
       "      <td>Tilly</td>\n",
       "      <td>1.3</td>\n",
       "      <td>NaN</td>\n",
       "      <td>https://pbs.twimg.com/media/DGGmoV4XsAAUL6n.jpg</td>\n",
       "      <td>1.0</td>\n",
       "      <td>Chihuahua</td>\n",
       "      <td>5325.0</td>\n",
       "      <td>29395.0</td>\n",
       "      <td>9245661.0</td>\n",
       "    </tr>\n",
       "    <tr>\n",
       "      <th>2</th>\n",
       "      <td>891815181378084864</td>\n",
       "      <td>2017-07-31 00:18:03 +0000</td>\n",
       "      <td>This is Archie. He is a rare Norwegian Pouncin...</td>\n",
       "      <td>Archie</td>\n",
       "      <td>1.2</td>\n",
       "      <td>NaN</td>\n",
       "      <td>https://pbs.twimg.com/media/DGBdLU1WsAANxJ9.jpg</td>\n",
       "      <td>1.0</td>\n",
       "      <td>Chihuahua</td>\n",
       "      <td>3502.0</td>\n",
       "      <td>22116.0</td>\n",
       "      <td>9245661.0</td>\n",
       "    </tr>\n",
       "    <tr>\n",
       "      <th>3</th>\n",
       "      <td>891689557279858688</td>\n",
       "      <td>2017-07-30 15:58:51 +0000</td>\n",
       "      <td>This is Darla. She commenced a snooze mid meal...</td>\n",
       "      <td>Darla</td>\n",
       "      <td>1.3</td>\n",
       "      <td>NaN</td>\n",
       "      <td>https://pbs.twimg.com/media/DF_q7IAWsAEuuN8.jpg</td>\n",
       "      <td>1.0</td>\n",
       "      <td>Labrador_retriever</td>\n",
       "      <td>7258.0</td>\n",
       "      <td>37038.0</td>\n",
       "      <td>9245594.0</td>\n",
       "    </tr>\n",
       "    <tr>\n",
       "      <th>4</th>\n",
       "      <td>891327558926688256</td>\n",
       "      <td>2017-07-29 16:00:24 +0000</td>\n",
       "      <td>This is Franklin. He would like you to stop ca...</td>\n",
       "      <td>Franklin</td>\n",
       "      <td>1.2</td>\n",
       "      <td>NaN</td>\n",
       "      <td>https://pbs.twimg.com/media/DF6hr6BUMAAzZgT.jpg</td>\n",
       "      <td>2.0</td>\n",
       "      <td>Basset</td>\n",
       "      <td>7799.0</td>\n",
       "      <td>35372.0</td>\n",
       "      <td>9245661.0</td>\n",
       "    </tr>\n",
       "  </tbody>\n",
       "</table>\n",
       "</div>"
      ],
      "text/plain": [
       "             tweet_id                  timestamp  \\\n",
       "0  892420643555336193  2017-08-01 16:23:56 +0000   \n",
       "1  892177421306343426  2017-08-01 00:17:27 +0000   \n",
       "2  891815181378084864  2017-07-31 00:18:03 +0000   \n",
       "3  891689557279858688  2017-07-30 15:58:51 +0000   \n",
       "4  891327558926688256  2017-07-29 16:00:24 +0000   \n",
       "\n",
       "                                                text      name rating  \\\n",
       "0  This is Phineas. He's a mystical boy. Only eve...   Phineas    1.3   \n",
       "1  This is Tilly. She's just checking pup on you....     Tilly    1.3   \n",
       "2  This is Archie. He is a rare Norwegian Pouncin...    Archie    1.2   \n",
       "3  This is Darla. She commenced a snooze mid meal...     Darla    1.3   \n",
       "4  This is Franklin. He would like you to stop ca...  Franklin    1.2   \n",
       "\n",
       "  dog_type                                          jpg_url  img_num  \\\n",
       "0      NaN  https://pbs.twimg.com/media/DGKD1-bXoAAIAUK.jpg      1.0   \n",
       "1      NaN  https://pbs.twimg.com/media/DGGmoV4XsAAUL6n.jpg      1.0   \n",
       "2      NaN  https://pbs.twimg.com/media/DGBdLU1WsAANxJ9.jpg      1.0   \n",
       "3      NaN  https://pbs.twimg.com/media/DF_q7IAWsAEuuN8.jpg      1.0   \n",
       "4      NaN  https://pbs.twimg.com/media/DF6hr6BUMAAzZgT.jpg      2.0   \n",
       "\n",
       "                breed  retweet_count  favorite_count  followers_count  \n",
       "0                None         7051.0         33905.0        9245661.0  \n",
       "1           Chihuahua         5325.0         29395.0        9245661.0  \n",
       "2           Chihuahua         3502.0         22116.0        9245661.0  \n",
       "3  Labrador_retriever         7258.0         37038.0        9245594.0  \n",
       "4              Basset         7799.0         35372.0        9245661.0  "
      ]
     },
     "execution_count": 757,
     "metadata": {},
     "output_type": "execute_result"
    }
   ],
   "source": [
    "twitter_df.head()"
   ]
  },
  {
   "cell_type": "code",
   "execution_count": 758,
   "id": "c809fa9f",
   "metadata": {},
   "outputs": [
    {
     "name": "stdout",
     "output_type": "stream",
     "text": [
      "<class 'pandas.core.frame.DataFrame'>\n",
      "Int64Index: 2345 entries, 0 to 2344\n",
      "Data columns (total 12 columns):\n",
      " #   Column           Non-Null Count  Dtype  \n",
      "---  ------           --------------  -----  \n",
      " 0   tweet_id         2345 non-null   object \n",
      " 1   timestamp        2059 non-null   object \n",
      " 2   text             2059 non-null   object \n",
      " 3   name             2059 non-null   object \n",
      " 4   rating           2059 non-null   object \n",
      " 5   dog_type         348 non-null    object \n",
      " 6   jpg_url          2009 non-null   object \n",
      " 7   img_num          2009 non-null   float64\n",
      " 8   breed            2009 non-null   object \n",
      " 9   retweet_count    2327 non-null   float64\n",
      " 10  favorite_count   2327 non-null   float64\n",
      " 11  followers_count  2327 non-null   float64\n",
      "dtypes: float64(4), object(8)\n",
      "memory usage: 238.2+ KB\n"
     ]
    }
   ],
   "source": [
    "twitter_df.info()"
   ]
  },
  {
   "cell_type": "markdown",
   "id": "43bc45f4",
   "metadata": {},
   "source": [
    "#### Quality Issue 9"
   ]
  },
  {
   "cell_type": "markdown",
   "id": "b7679aa0",
   "metadata": {},
   "source": [
    "Define:"
   ]
  },
  {
   "cell_type": "markdown",
   "id": "dcb1932a",
   "metadata": {},
   "source": [
    "Change timestamp column from string to timestamp data type."
   ]
  },
  {
   "cell_type": "markdown",
   "id": "34e8f6bb",
   "metadata": {},
   "source": [
    "Code:"
   ]
  },
  {
   "cell_type": "code",
   "execution_count": 759,
   "id": "d9c577e4",
   "metadata": {},
   "outputs": [],
   "source": [
    "#remove timezone\n",
    "twitter_df['timestamp'] = twitter_df['timestamp'].str.slice(start=0, stop=-6)\n",
    "\n",
    "#Change datatype of timestamp column to datetime\n",
    "twitter_df['timestamp'] = pd.to_datetime(twitter_df['timestamp'], format = '%Y-%m-%d %H:%M:%S')"
   ]
  },
  {
   "cell_type": "markdown",
   "id": "600a316b",
   "metadata": {},
   "source": [
    "Test:"
   ]
  },
  {
   "cell_type": "code",
   "execution_count": 760,
   "id": "ea47fc7c",
   "metadata": {},
   "outputs": [
    {
     "name": "stdout",
     "output_type": "stream",
     "text": [
      "<class 'pandas.core.frame.DataFrame'>\n",
      "Int64Index: 2345 entries, 0 to 2344\n",
      "Data columns (total 12 columns):\n",
      " #   Column           Non-Null Count  Dtype         \n",
      "---  ------           --------------  -----         \n",
      " 0   tweet_id         2345 non-null   object        \n",
      " 1   timestamp        2059 non-null   datetime64[ns]\n",
      " 2   text             2059 non-null   object        \n",
      " 3   name             2059 non-null   object        \n",
      " 4   rating           2059 non-null   object        \n",
      " 5   dog_type         348 non-null    object        \n",
      " 6   jpg_url          2009 non-null   object        \n",
      " 7   img_num          2009 non-null   float64       \n",
      " 8   breed            2009 non-null   object        \n",
      " 9   retweet_count    2327 non-null   float64       \n",
      " 10  favorite_count   2327 non-null   float64       \n",
      " 11  followers_count  2327 non-null   float64       \n",
      "dtypes: datetime64[ns](1), float64(4), object(7)\n",
      "memory usage: 238.2+ KB\n"
     ]
    }
   ],
   "source": [
    "twitter_df.info()"
   ]
  },
  {
   "cell_type": "markdown",
   "id": "05eada9c",
   "metadata": {},
   "source": [
    "#### Quality Issue 10"
   ]
  },
  {
   "cell_type": "markdown",
   "id": "94896a41",
   "metadata": {},
   "source": [
    "Define:"
   ]
  },
  {
   "cell_type": "markdown",
   "id": "1f0667fb",
   "metadata": {},
   "source": [
    "Change rating from string to float"
   ]
  },
  {
   "cell_type": "markdown",
   "id": "437ff0b2",
   "metadata": {},
   "source": [
    "Code:"
   ]
  },
  {
   "cell_type": "code",
   "execution_count": 761,
   "id": "525ab4e7",
   "metadata": {},
   "outputs": [],
   "source": [
    "twitter_df['rating'] = pd.to_numeric(twitter_df['rating'], errors='coerce')"
   ]
  },
  {
   "cell_type": "markdown",
   "id": "37eb1e09",
   "metadata": {},
   "source": [
    "Test:"
   ]
  },
  {
   "cell_type": "code",
   "execution_count": 762,
   "id": "e68c1424",
   "metadata": {},
   "outputs": [
    {
     "name": "stdout",
     "output_type": "stream",
     "text": [
      "<class 'pandas.core.frame.DataFrame'>\n",
      "Int64Index: 2345 entries, 0 to 2344\n",
      "Data columns (total 12 columns):\n",
      " #   Column           Non-Null Count  Dtype         \n",
      "---  ------           --------------  -----         \n",
      " 0   tweet_id         2345 non-null   object        \n",
      " 1   timestamp        2059 non-null   datetime64[ns]\n",
      " 2   text             2059 non-null   object        \n",
      " 3   name             2059 non-null   object        \n",
      " 4   rating           2059 non-null   float64       \n",
      " 5   dog_type         348 non-null    object        \n",
      " 6   jpg_url          2009 non-null   object        \n",
      " 7   img_num          2009 non-null   float64       \n",
      " 8   breed            2009 non-null   object        \n",
      " 9   retweet_count    2327 non-null   float64       \n",
      " 10  favorite_count   2327 non-null   float64       \n",
      " 11  followers_count  2327 non-null   float64       \n",
      "dtypes: datetime64[ns](1), float64(5), object(6)\n",
      "memory usage: 238.2+ KB\n"
     ]
    }
   ],
   "source": [
    "twitter_df.info()"
   ]
  },
  {
   "cell_type": "markdown",
   "id": "31223a0d",
   "metadata": {},
   "source": [
    "### Storing Data"
   ]
  },
  {
   "cell_type": "code",
   "execution_count": 763,
   "id": "2c1fb83e",
   "metadata": {},
   "outputs": [],
   "source": [
    "twitter_df.to_csv(\"twitter_archive_master.csv\",index=False,encoding='utf-8')"
   ]
  },
  {
   "cell_type": "markdown",
   "id": "ac448cea",
   "metadata": {},
   "source": [
    "### Analyzing and Visualizing Data"
   ]
  },
  {
   "cell_type": "markdown",
   "id": "d9b35415",
   "metadata": {},
   "source": [
    "1. Visualize the total number of tweets over time to see whether that number increases, or decreases, over time.\n",
    "2. What is the most popular dog breed\n",
    "3. What is the most popular dog name\n",
    "4. What is the highest rating dog breed\n",
    "5. What is the highest rating dog name"
   ]
  },
  {
   "cell_type": "markdown",
   "id": "a88f41bf",
   "metadata": {},
   "source": [
    "### 1. Visualize the total number of tweets over time to see whether that number increases, or decreases, over time."
   ]
  },
  {
   "cell_type": "code",
   "execution_count": 764,
   "id": "76738502",
   "metadata": {},
   "outputs": [
    {
     "data": {
      "text/plain": [
       "Text(0, 0.5, 'Number of Tweets')"
      ]
     },
     "execution_count": 764,
     "metadata": {},
     "output_type": "execute_result"
    },
    {
     "data": {
      "image/png": "[encoded data removed]",
      "text/plain": [
       "<Figure size 432x288 with 1 Axes>"
      ]
     },
     "metadata": {
      "needs_background": "light"
     },
     "output_type": "display_data"
    }
   ],
   "source": [
    "monthly_timestamp=twitter_df.groupby(pd.Grouper(key='timestamp',freq='M')).count().reset_index()\n",
    "monthly_timestamp=monthly_timestamp[['timestamp','tweet_id']]\n",
    "\n",
    "plt.plot(monthly_timestamp.timestamp,monthly_timestamp.tweet_id)\n",
    "plt.title(\"WeRateDogs Tweets Over Time\")\n",
    "plt.xlabel(\"Year-Month\")\n",
    "plt.ylabel(\"Number of Tweets\")"
   ]
  },
  {
   "cell_type": "markdown",
   "id": "85d56756",
   "metadata": {},
   "source": [
    "### 2. What is the most popular dog breed"
   ]
  },
  {
   "cell_type": "code",
   "execution_count": 765,
   "id": "61096600",
   "metadata": {},
   "outputs": [
    {
     "data": {
      "text/plain": [
       "None                  318\n",
       "Golden_retriever      158\n",
       "Labrador_retriever    108\n",
       "Pembroke               95\n",
       "Chihuahua              91\n",
       "Name: breed, dtype: int64"
      ]
     },
     "execution_count": 765,
     "metadata": {},
     "output_type": "execute_result"
    }
   ],
   "source": [
    "#What is the most shown breed?\n",
    "breed_rank=twitter_df.breed.value_counts()\n",
    "breed_rank.head()"
   ]
  },
  {
   "cell_type": "code",
   "execution_count": 766,
   "id": "f01a171b",
   "metadata": {},
   "outputs": [
    {
     "data": {
      "text/html": [
       "<div>\n",
       "<style scoped>\n",
       "    .dataframe tbody tr th:only-of-type {\n",
       "        vertical-align: middle;\n",
       "    }\n",
       "\n",
       "    .dataframe tbody tr th {\n",
       "        vertical-align: top;\n",
       "    }\n",
       "\n",
       "    .dataframe thead th {\n",
       "        text-align: right;\n",
       "    }\n",
       "</style>\n",
       "<table border=\"1\" class=\"dataframe\">\n",
       "  <thead>\n",
       "    <tr style=\"text-align: right;\">\n",
       "      <th></th>\n",
       "      <th>rating</th>\n",
       "      <th>img_num</th>\n",
       "      <th>retweet_count</th>\n",
       "      <th>favorite_count</th>\n",
       "      <th>followers_count</th>\n",
       "    </tr>\n",
       "    <tr>\n",
       "      <th>breed</th>\n",
       "      <th></th>\n",
       "      <th></th>\n",
       "      <th></th>\n",
       "      <th></th>\n",
       "      <th></th>\n",
       "    </tr>\n",
       "  </thead>\n",
       "  <tbody>\n",
       "    <tr>\n",
       "      <th>Afghan_hound</th>\n",
       "      <td>0.800000</td>\n",
       "      <td>1.000000</td>\n",
       "      <td>4810.000000</td>\n",
       "      <td>6936.333333</td>\n",
       "      <td>9.245666e+06</td>\n",
       "    </tr>\n",
       "    <tr>\n",
       "      <th>Airedale</th>\n",
       "      <td>0.983333</td>\n",
       "      <td>1.166667</td>\n",
       "      <td>1126.166667</td>\n",
       "      <td>4505.833333</td>\n",
       "      <td>9.245691e+06</td>\n",
       "    </tr>\n",
       "    <tr>\n",
       "      <th>American_staffordshire_terrier</th>\n",
       "      <td>1.100000</td>\n",
       "      <td>1.187500</td>\n",
       "      <td>1661.466667</td>\n",
       "      <td>7209.666667</td>\n",
       "      <td>9.245681e+06</td>\n",
       "    </tr>\n",
       "    <tr>\n",
       "      <th>Appenzeller</th>\n",
       "      <td>1.100000</td>\n",
       "      <td>1.000000</td>\n",
       "      <td>1150.500000</td>\n",
       "      <td>6283.500000</td>\n",
       "      <td>9.245676e+06</td>\n",
       "    </tr>\n",
       "    <tr>\n",
       "      <th>Australian_terrier</th>\n",
       "      <td>1.150000</td>\n",
       "      <td>2.000000</td>\n",
       "      <td>2517.500000</td>\n",
       "      <td>9562.500000</td>\n",
       "      <td>9.245676e+06</td>\n",
       "    </tr>\n",
       "  </tbody>\n",
       "</table>\n",
       "</div>"
      ],
      "text/plain": [
       "                                  rating   img_num  retweet_count  \\\n",
       "breed                                                               \n",
       "Afghan_hound                    0.800000  1.000000    4810.000000   \n",
       "Airedale                        0.983333  1.166667    1126.166667   \n",
       "American_staffordshire_terrier  1.100000  1.187500    1661.466667   \n",
       "Appenzeller                     1.100000  1.000000    1150.500000   \n",
       "Australian_terrier              1.150000  2.000000    2517.500000   \n",
       "\n",
       "                                favorite_count  followers_count  \n",
       "breed                                                            \n",
       "Afghan_hound                       6936.333333     9.245666e+06  \n",
       "Airedale                           4505.833333     9.245691e+06  \n",
       "American_staffordshire_terrier     7209.666667     9.245681e+06  \n",
       "Appenzeller                        6283.500000     9.245676e+06  \n",
       "Australian_terrier                 9562.500000     9.245676e+06  "
      ]
     },
     "execution_count": 766,
     "metadata": {},
     "output_type": "execute_result"
    }
   ],
   "source": [
    "#Group by breed and calculate mean for each breed\n",
    "dog_b=twitter_df.groupby('breed').mean()\n",
    "dog_b.head()"
   ]
  },
  {
   "cell_type": "code",
   "execution_count": 767,
   "id": "b9ff2893",
   "metadata": {},
   "outputs": [
    {
     "data": {
      "text/plain": [
       "breed\n",
       "Brabancon_griffon            747.333333\n",
       "Groenendael                  981.500000\n",
       "Japanese_spaniel            1116.000000\n",
       "Irish_wolfhound             1292.000000\n",
       "Tibetan_terrier             1562.500000\n",
       "                               ...     \n",
       "Black-and-tan_coonhound    14698.000000\n",
       "Bouvier_des_flandres       15398.000000\n",
       "French_bulldog             16182.931034\n",
       "Saluki                     20850.000000\n",
       "Bedlington_terrier         21606.666667\n",
       "Name: favorite_count, Length: 114, dtype: float64"
      ]
     },
     "execution_count": 767,
     "metadata": {},
     "output_type": "execute_result"
    }
   ],
   "source": [
    "dog_bb.sort_values()"
   ]
  },
  {
   "cell_type": "markdown",
   "id": "80d1d0bb",
   "metadata": {},
   "source": [
    "Show up breed Ranking:\n",
    "1. None(Not described)\n",
    "2. Golden_retriever\n",
    "3. Labrador_retriever\n",
    "4. Pembroke\n",
    "5. Chihuahua\n",
    "\n",
    "Average Favorite Count Ranking:\n",
    "1. Bedlington_terrier\n",
    "2. Saluki\n",
    "3. French_bulldog\n",
    "4. Bouvier_des_flandres\n",
    "5. Black-and-tan_coonhound"
   ]
  },
  {
   "cell_type": "markdown",
   "id": "2e2d51c8",
   "metadata": {},
   "source": [
    "### 3. What is the most popular dog name"
   ]
  },
  {
   "cell_type": "code",
   "execution_count": 768,
   "id": "e1e6bf6d",
   "metadata": {},
   "outputs": [
    {
     "data": {
      "text/plain": [
       "None          670\n",
       "Lucy           11\n",
       "Charlie        11\n",
       "Cooper         10\n",
       "Oliver         10\n",
       "             ... \n",
       "Shiloh          1\n",
       "Gustav          1\n",
       "Arlen           1\n",
       "Lenox           1\n",
       "Christoper      1\n",
       "Name: name, Length: 931, dtype: int64"
      ]
     },
     "execution_count": 768,
     "metadata": {},
     "output_type": "execute_result"
    }
   ],
   "source": [
    "#What is the most shown name?\n",
    "twitter_df.name.value_counts()"
   ]
  },
  {
   "cell_type": "code",
   "execution_count": 769,
   "id": "1e8d2d9f",
   "metadata": {},
   "outputs": [
    {
     "data": {
      "text/html": [
       "<div>\n",
       "<style scoped>\n",
       "    .dataframe tbody tr th:only-of-type {\n",
       "        vertical-align: middle;\n",
       "    }\n",
       "\n",
       "    .dataframe tbody tr th {\n",
       "        vertical-align: top;\n",
       "    }\n",
       "\n",
       "    .dataframe thead th {\n",
       "        text-align: right;\n",
       "    }\n",
       "</style>\n",
       "<table border=\"1\" class=\"dataframe\">\n",
       "  <thead>\n",
       "    <tr style=\"text-align: right;\">\n",
       "      <th></th>\n",
       "      <th>rating</th>\n",
       "      <th>img_num</th>\n",
       "      <th>retweet_count</th>\n",
       "      <th>favorite_count</th>\n",
       "      <th>followers_count</th>\n",
       "    </tr>\n",
       "    <tr>\n",
       "      <th>name</th>\n",
       "      <th></th>\n",
       "      <th></th>\n",
       "      <th></th>\n",
       "      <th></th>\n",
       "      <th></th>\n",
       "    </tr>\n",
       "  </thead>\n",
       "  <tbody>\n",
       "    <tr>\n",
       "      <th>Abby</th>\n",
       "      <td>1.05</td>\n",
       "      <td>1.0</td>\n",
       "      <td>1109.0</td>\n",
       "      <td>4207.0</td>\n",
       "      <td>9245691.0</td>\n",
       "    </tr>\n",
       "    <tr>\n",
       "      <th>Ace</th>\n",
       "      <td>1.10</td>\n",
       "      <td>1.0</td>\n",
       "      <td>964.0</td>\n",
       "      <td>3134.0</td>\n",
       "      <td>9245688.0</td>\n",
       "    </tr>\n",
       "    <tr>\n",
       "      <th>Acro</th>\n",
       "      <td>1.00</td>\n",
       "      <td>1.0</td>\n",
       "      <td>268.0</td>\n",
       "      <td>1019.0</td>\n",
       "      <td>9245696.0</td>\n",
       "    </tr>\n",
       "    <tr>\n",
       "      <th>Adele</th>\n",
       "      <td>1.00</td>\n",
       "      <td>1.0</td>\n",
       "      <td>670.0</td>\n",
       "      <td>2878.0</td>\n",
       "      <td>9245691.0</td>\n",
       "    </tr>\n",
       "    <tr>\n",
       "      <th>Aiden</th>\n",
       "      <td>1.10</td>\n",
       "      <td>1.0</td>\n",
       "      <td>566.0</td>\n",
       "      <td>1398.0</td>\n",
       "      <td>9245696.0</td>\n",
       "    </tr>\n",
       "  </tbody>\n",
       "</table>\n",
       "</div>"
      ],
      "text/plain": [
       "       rating  img_num  retweet_count  favorite_count  followers_count\n",
       "name                                                                  \n",
       "Abby     1.05      1.0         1109.0          4207.0        9245691.0\n",
       "Ace      1.10      1.0          964.0          3134.0        9245688.0\n",
       "Acro     1.00      1.0          268.0          1019.0        9245696.0\n",
       "Adele    1.00      1.0          670.0          2878.0        9245691.0\n",
       "Aiden    1.10      1.0          566.0          1398.0        9245696.0"
      ]
     },
     "execution_count": 769,
     "metadata": {},
     "output_type": "execute_result"
    }
   ],
   "source": [
    "#Group by name and calculate mean for each breed\n",
    "dog_n=twitter_df.groupby('name').mean()\n",
    "dog_n.head()"
   ]
  },
  {
   "cell_type": "code",
   "execution_count": 770,
   "id": "960b2be3",
   "metadata": {},
   "outputs": [
    {
     "data": {
      "text/plain": [
       "name\n",
       "Christoper       160.0\n",
       "Fwed             168.0\n",
       "Kallie           182.0\n",
       "Keet             191.0\n",
       "Kollin           202.0\n",
       "                ...   \n",
       "Duddles        93105.0\n",
       "Jamesy        109158.0\n",
       "Stephan       112063.0\n",
       "Astrid             NaN\n",
       "Harry              NaN\n",
       "Name: favorite_count, Length: 931, dtype: float64"
      ]
     },
     "execution_count": 770,
     "metadata": {},
     "output_type": "execute_result"
    }
   ],
   "source": [
    "dog_nsort=dog_n['favorite_count'].sort_values()\n",
    "dog_nsort"
   ]
  },
  {
   "cell_type": "code",
   "execution_count": 771,
   "id": "452fb763",
   "metadata": {},
   "outputs": [
    {
     "data": {
      "text/plain": [
       "name\n",
       "Canela      60331.0\n",
       "Lilly       62701.0\n",
       "Aja         69436.0\n",
       "Duddles     93105.0\n",
       "Jamesy     109158.0\n",
       "Stephan    112063.0\n",
       "Name: favorite_count, dtype: float64"
      ]
     },
     "execution_count": 771,
     "metadata": {},
     "output_type": "execute_result"
    }
   ],
   "source": [
    "dog_nsort[dog_nsort>=60000]"
   ]
  },
  {
   "cell_type": "markdown",
   "id": "60574b9c",
   "metadata": {},
   "source": [
    "Popular Name Ranking:\n",
    "1. None(Unknown)\n",
    "2. Charlie\n",
    "3. Lucy\n",
    "4. Oliver\n",
    "5. Cooper\n",
    "6. Tucker\n",
    "7. Lola\n",
    "8. Penny"
   ]
  },
  {
   "cell_type": "markdown",
   "id": "8abff849",
   "metadata": {},
   "source": [
    "### 4. What is the highest rating dog breed?"
   ]
  },
  {
   "cell_type": "code",
   "execution_count": 772,
   "id": "328f487c",
   "metadata": {},
   "outputs": [
    {
     "data": {
      "text/plain": [
       "breed\n",
       "Japanese_spaniel               0.500000\n",
       "Afghan_hound                   0.800000\n",
       "Walker_hound                   0.900000\n",
       "Scotch_terrier                 0.900000\n",
       "Soft-coated_wheaten_terrier    0.900000\n",
       "                                 ...   \n",
       "Irish_setter                   1.233333\n",
       "Briard                         1.233333\n",
       "Saluki                         1.250000\n",
       "Bouvier_des_flandres           1.300000\n",
       "Black-and-tan_coonhound        1.400000\n",
       "Name: rating, Length: 114, dtype: float64"
      ]
     },
     "execution_count": 772,
     "metadata": {},
     "output_type": "execute_result"
    }
   ],
   "source": [
    "dog_bsort=dog_b['rating'].sort_values()\n",
    "dog_bsort"
   ]
  },
  {
   "cell_type": "markdown",
   "id": "c43dd5f6",
   "metadata": {},
   "source": [
    "Top rated dog by breed:\n",
    "1. Black-and-tan coonhound\n",
    "2. Bouvier_des_flandres\n",
    "3. Saluki\n",
    "4. Briard\n",
    "5. Tibetan_mastiff"
   ]
  },
  {
   "cell_type": "markdown",
   "id": "123d099b",
   "metadata": {},
   "source": [
    "### 5. What is the highest rating dog name?"
   ]
  },
  {
   "cell_type": "code",
   "execution_count": 773,
   "id": "c6dc277a",
   "metadata": {},
   "outputs": [
    {
     "data": {
      "text/plain": [
       "name\n",
       "Henry      0.2\n",
       "Tedrick    0.2\n",
       "Charl      0.3\n",
       "Chuck      0.3\n",
       "Tommy      0.3\n",
       "          ... \n",
       "General    1.4\n",
       "Emmy       1.4\n",
       "Laika      1.4\n",
       "Cermet     1.4\n",
       "Kuyu       1.4\n",
       "Name: rating, Length: 931, dtype: float64"
      ]
     },
     "execution_count": 773,
     "metadata": {},
     "output_type": "execute_result"
    }
   ],
   "source": [
    "dog_nsort=dog_n['rating'].sort_values()\n",
    "dog_nsort"
   ]
  },
  {
   "cell_type": "code",
   "execution_count": 774,
   "id": "148f1374",
   "metadata": {},
   "outputs": [
    {
     "data": {
      "text/plain": [
       "name\n",
       "Sundance    1.4\n",
       "Doobert     1.4\n",
       "Smiley      1.4\n",
       "Clifford    1.4\n",
       "Iggy        1.4\n",
       "General     1.4\n",
       "Emmy        1.4\n",
       "Laika       1.4\n",
       "Cermet      1.4\n",
       "Kuyu        1.4\n",
       "Name: rating, dtype: float64"
      ]
     },
     "execution_count": 774,
     "metadata": {},
     "output_type": "execute_result"
    }
   ],
   "source": [
    "dog_nsort[dog_nsort>=1.4]"
   ]
  },
  {
   "cell_type": "markdown",
   "id": "24b62525",
   "metadata": {},
   "source": [
    "Highest Rating Names:\n",
    "Clifford, Sundance, Kuyu, Smiley, Laika, Doobert, Cermet, Emmy, General, Iggy        \n",
    "\n",
    "Every Dog name above has same rating(1.4)"
   ]
  },
  {
   "cell_type": "markdown",
   "id": "dde36195",
   "metadata": {},
   "source": [
    "Ref:https://stackoverflow.com/questions/35465741/pandas-convert-column-with-empty-strings-to-float\n",
    "    https://stackoverflow.com/questions/24082784/pandas-dataframe-groupby-datetime-month"
   ]
  },
  {
   "cell_type": "code",
   "execution_count": null,
   "id": "e9e5f790",
   "metadata": {},
   "outputs": [],
   "source": []
  }
 ],
 "metadata": {
  "kernelspec": {
   "display_name": "Python 3 (ipykernel)",
   "language": "python",
   "name": "python3"
  },
  "language_info": {
   "codemirror_mode": {
    "name": "ipython",
    "version": 3
   },
   "file_extension": ".py",
   "mimetype": "text/x-python",
   "name": "python",
   "nbconvert_exporter": "python",
   "pygments_lexer": "ipython3",
   "version": "3.9.7"
  }
 },
 "nbformat": 4,
 "nbformat_minor": 5
}
